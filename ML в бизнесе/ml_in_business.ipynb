{
 "cells": [
  {
   "cell_type": "markdown",
   "metadata": {},
   "source": [
    "# Выбор локации для скважины"
   ]
  },
  {
   "cell_type": "markdown",
   "metadata": {},
   "source": [
    "Шаги для выбора локации:\n",
    "\n",
    "- Построение модели, прогнозирующей объем запасов;\n",
    "- Выбор месторождения с самым высокими показателями;\n",
    "- Расчет прибыли равной суммарной прибыли отобранных месторождений."
   ]
  },
  {
   "cell_type": "markdown",
   "metadata": {},
   "source": [
    "## Загрузка и подготовка данных"
   ]
  },
  {
   "cell_type": "code",
   "execution_count": 63,
   "metadata": {},
   "outputs": [],
   "source": [
    "#импорт требуемых библиотек\n",
    "import pandas as pd\n",
    "import numpy as np\n",
    "import matplotlib.pyplot as plt\n",
    "from scipy import stats as st\n",
    "from sklearn.model_selection import train_test_split\n",
    "from sklearn.linear_model import LinearRegression\n",
    "from sklearn.metrics import accuracy_score\n",
    "from sklearn.metrics import mean_squared_error\n",
    "from sklearn.metrics import r2_score"
   ]
  },
  {
   "cell_type": "code",
   "execution_count": 64,
   "metadata": {},
   "outputs": [],
   "source": [
    "#сохраняем данные файлов в переменных"
   ]
  },
  {
   "cell_type": "code",
   "execution_count": 65,
   "metadata": {},
   "outputs": [
    {
     "data": {
      "text/html": [
       "<div>\n",
       "<style scoped>\n",
       "    .dataframe tbody tr th:only-of-type {\n",
       "        vertical-align: middle;\n",
       "    }\n",
       "\n",
       "    .dataframe tbody tr th {\n",
       "        vertical-align: top;\n",
       "    }\n",
       "\n",
       "    .dataframe thead th {\n",
       "        text-align: right;\n",
       "    }\n",
       "</style>\n",
       "<table border=\"1\" class=\"dataframe\">\n",
       "  <thead>\n",
       "    <tr style=\"text-align: right;\">\n",
       "      <th></th>\n",
       "      <th>id</th>\n",
       "      <th>f0</th>\n",
       "      <th>f1</th>\n",
       "      <th>f2</th>\n",
       "      <th>product</th>\n",
       "    </tr>\n",
       "  </thead>\n",
       "  <tbody>\n",
       "    <tr>\n",
       "      <th>0</th>\n",
       "      <td>txEyH</td>\n",
       "      <td>0.705745</td>\n",
       "      <td>-0.497823</td>\n",
       "      <td>1.221170</td>\n",
       "      <td>105.280062</td>\n",
       "    </tr>\n",
       "    <tr>\n",
       "      <th>1</th>\n",
       "      <td>2acmU</td>\n",
       "      <td>1.334711</td>\n",
       "      <td>-0.340164</td>\n",
       "      <td>4.365080</td>\n",
       "      <td>73.037750</td>\n",
       "    </tr>\n",
       "    <tr>\n",
       "      <th>2</th>\n",
       "      <td>409Wp</td>\n",
       "      <td>1.022732</td>\n",
       "      <td>0.151990</td>\n",
       "      <td>1.419926</td>\n",
       "      <td>85.265647</td>\n",
       "    </tr>\n",
       "    <tr>\n",
       "      <th>3</th>\n",
       "      <td>iJLyR</td>\n",
       "      <td>-0.032172</td>\n",
       "      <td>0.139033</td>\n",
       "      <td>2.978566</td>\n",
       "      <td>168.620776</td>\n",
       "    </tr>\n",
       "    <tr>\n",
       "      <th>4</th>\n",
       "      <td>Xdl7t</td>\n",
       "      <td>1.988431</td>\n",
       "      <td>0.155413</td>\n",
       "      <td>4.751769</td>\n",
       "      <td>154.036647</td>\n",
       "    </tr>\n",
       "  </tbody>\n",
       "</table>\n",
       "</div>"
      ],
      "text/plain": [
       "      id        f0        f1        f2     product\n",
       "0  txEyH  0.705745 -0.497823  1.221170  105.280062\n",
       "1  2acmU  1.334711 -0.340164  4.365080   73.037750\n",
       "2  409Wp  1.022732  0.151990  1.419926   85.265647\n",
       "3  iJLyR -0.032172  0.139033  2.978566  168.620776\n",
       "4  Xdl7t  1.988431  0.155413  4.751769  154.036647"
      ]
     },
     "metadata": {},
     "output_type": "display_data"
    },
    {
     "data": {
      "text/html": [
       "<div>\n",
       "<style scoped>\n",
       "    .dataframe tbody tr th:only-of-type {\n",
       "        vertical-align: middle;\n",
       "    }\n",
       "\n",
       "    .dataframe tbody tr th {\n",
       "        vertical-align: top;\n",
       "    }\n",
       "\n",
       "    .dataframe thead th {\n",
       "        text-align: right;\n",
       "    }\n",
       "</style>\n",
       "<table border=\"1\" class=\"dataframe\">\n",
       "  <thead>\n",
       "    <tr style=\"text-align: right;\">\n",
       "      <th></th>\n",
       "      <th>id</th>\n",
       "      <th>f0</th>\n",
       "      <th>f1</th>\n",
       "      <th>f2</th>\n",
       "      <th>product</th>\n",
       "    </tr>\n",
       "  </thead>\n",
       "  <tbody>\n",
       "    <tr>\n",
       "      <th>0</th>\n",
       "      <td>kBEdx</td>\n",
       "      <td>-15.001348</td>\n",
       "      <td>-8.276000</td>\n",
       "      <td>-0.005876</td>\n",
       "      <td>3.179103</td>\n",
       "    </tr>\n",
       "    <tr>\n",
       "      <th>1</th>\n",
       "      <td>62mP7</td>\n",
       "      <td>14.272088</td>\n",
       "      <td>-3.475083</td>\n",
       "      <td>0.999183</td>\n",
       "      <td>26.953261</td>\n",
       "    </tr>\n",
       "    <tr>\n",
       "      <th>2</th>\n",
       "      <td>vyE1P</td>\n",
       "      <td>6.263187</td>\n",
       "      <td>-5.948386</td>\n",
       "      <td>5.001160</td>\n",
       "      <td>134.766305</td>\n",
       "    </tr>\n",
       "    <tr>\n",
       "      <th>3</th>\n",
       "      <td>KcrkZ</td>\n",
       "      <td>-13.081196</td>\n",
       "      <td>-11.506057</td>\n",
       "      <td>4.999415</td>\n",
       "      <td>137.945408</td>\n",
       "    </tr>\n",
       "    <tr>\n",
       "      <th>4</th>\n",
       "      <td>AHL4O</td>\n",
       "      <td>12.702195</td>\n",
       "      <td>-8.147433</td>\n",
       "      <td>5.004363</td>\n",
       "      <td>134.766305</td>\n",
       "    </tr>\n",
       "  </tbody>\n",
       "</table>\n",
       "</div>"
      ],
      "text/plain": [
       "      id         f0         f1        f2     product\n",
       "0  kBEdx -15.001348  -8.276000 -0.005876    3.179103\n",
       "1  62mP7  14.272088  -3.475083  0.999183   26.953261\n",
       "2  vyE1P   6.263187  -5.948386  5.001160  134.766305\n",
       "3  KcrkZ -13.081196 -11.506057  4.999415  137.945408\n",
       "4  AHL4O  12.702195  -8.147433  5.004363  134.766305"
      ]
     },
     "metadata": {},
     "output_type": "display_data"
    },
    {
     "data": {
      "text/html": [
       "<div>\n",
       "<style scoped>\n",
       "    .dataframe tbody tr th:only-of-type {\n",
       "        vertical-align: middle;\n",
       "    }\n",
       "\n",
       "    .dataframe tbody tr th {\n",
       "        vertical-align: top;\n",
       "    }\n",
       "\n",
       "    .dataframe thead th {\n",
       "        text-align: right;\n",
       "    }\n",
       "</style>\n",
       "<table border=\"1\" class=\"dataframe\">\n",
       "  <thead>\n",
       "    <tr style=\"text-align: right;\">\n",
       "      <th></th>\n",
       "      <th>id</th>\n",
       "      <th>f0</th>\n",
       "      <th>f1</th>\n",
       "      <th>f2</th>\n",
       "      <th>product</th>\n",
       "    </tr>\n",
       "  </thead>\n",
       "  <tbody>\n",
       "    <tr>\n",
       "      <th>0</th>\n",
       "      <td>fwXo0</td>\n",
       "      <td>-1.146987</td>\n",
       "      <td>0.963328</td>\n",
       "      <td>-0.828965</td>\n",
       "      <td>27.758673</td>\n",
       "    </tr>\n",
       "    <tr>\n",
       "      <th>1</th>\n",
       "      <td>WJtFt</td>\n",
       "      <td>0.262778</td>\n",
       "      <td>0.269839</td>\n",
       "      <td>-2.530187</td>\n",
       "      <td>56.069697</td>\n",
       "    </tr>\n",
       "    <tr>\n",
       "      <th>2</th>\n",
       "      <td>ovLUW</td>\n",
       "      <td>0.194587</td>\n",
       "      <td>0.289035</td>\n",
       "      <td>-5.586433</td>\n",
       "      <td>62.871910</td>\n",
       "    </tr>\n",
       "    <tr>\n",
       "      <th>3</th>\n",
       "      <td>q6cA6</td>\n",
       "      <td>2.236060</td>\n",
       "      <td>-0.553760</td>\n",
       "      <td>0.930038</td>\n",
       "      <td>114.572842</td>\n",
       "    </tr>\n",
       "    <tr>\n",
       "      <th>4</th>\n",
       "      <td>WPMUX</td>\n",
       "      <td>-0.515993</td>\n",
       "      <td>1.716266</td>\n",
       "      <td>5.899011</td>\n",
       "      <td>149.600746</td>\n",
       "    </tr>\n",
       "  </tbody>\n",
       "</table>\n",
       "</div>"
      ],
      "text/plain": [
       "      id        f0        f1        f2     product\n",
       "0  fwXo0 -1.146987  0.963328 -0.828965   27.758673\n",
       "1  WJtFt  0.262778  0.269839 -2.530187   56.069697\n",
       "2  ovLUW  0.194587  0.289035 -5.586433   62.871910\n",
       "3  q6cA6  2.236060 -0.553760  0.930038  114.572842\n",
       "4  WPMUX -0.515993  1.716266  5.899011  149.600746"
      ]
     },
     "metadata": {},
     "output_type": "display_data"
    }
   ],
   "source": [
    "#Выодим данные на экран\n",
    "display(region_1.head(5))\n",
    "display(region_2.head(5))\n",
    "display(region_3.head(5))"
   ]
  },
  {
   "cell_type": "code",
   "execution_count": 66,
   "metadata": {},
   "outputs": [
    {
     "name": "stdout",
     "output_type": "stream",
     "text": [
      "<class 'pandas.core.frame.DataFrame'>\n",
      "RangeIndex: 100000 entries, 0 to 99999\n",
      "Data columns (total 5 columns):\n",
      " #   Column   Non-Null Count   Dtype  \n",
      "---  ------   --------------   -----  \n",
      " 0   id       100000 non-null  object \n",
      " 1   f0       100000 non-null  float64\n",
      " 2   f1       100000 non-null  float64\n",
      " 3   f2       100000 non-null  float64\n",
      " 4   product  100000 non-null  float64\n",
      "dtypes: float64(4), object(1)\n",
      "memory usage: 3.8+ MB\n"
     ]
    }
   ],
   "source": [
    "#Изучем датасеты\n",
    "region_1.info()"
   ]
  },
  {
   "cell_type": "code",
   "execution_count": 67,
   "metadata": {},
   "outputs": [
    {
     "name": "stdout",
     "output_type": "stream",
     "text": [
      "<class 'pandas.core.frame.DataFrame'>\n",
      "RangeIndex: 100000 entries, 0 to 99999\n",
      "Data columns (total 5 columns):\n",
      " #   Column   Non-Null Count   Dtype  \n",
      "---  ------   --------------   -----  \n",
      " 0   id       100000 non-null  object \n",
      " 1   f0       100000 non-null  float64\n",
      " 2   f1       100000 non-null  float64\n",
      " 3   f2       100000 non-null  float64\n",
      " 4   product  100000 non-null  float64\n",
      "dtypes: float64(4), object(1)\n",
      "memory usage: 3.8+ MB\n"
     ]
    }
   ],
   "source": [
    "region_2.info()"
   ]
  },
  {
   "cell_type": "code",
   "execution_count": 68,
   "metadata": {},
   "outputs": [
    {
     "name": "stdout",
     "output_type": "stream",
     "text": [
      "<class 'pandas.core.frame.DataFrame'>\n",
      "RangeIndex: 100000 entries, 0 to 99999\n",
      "Data columns (total 5 columns):\n",
      " #   Column   Non-Null Count   Dtype  \n",
      "---  ------   --------------   -----  \n",
      " 0   id       100000 non-null  object \n",
      " 1   f0       100000 non-null  float64\n",
      " 2   f1       100000 non-null  float64\n",
      " 3   f2       100000 non-null  float64\n",
      " 4   product  100000 non-null  float64\n",
      "dtypes: float64(4), object(1)\n",
      "memory usage: 3.8+ MB\n"
     ]
    }
   ],
   "source": [
    "region_3.info()"
   ]
  },
  {
   "cell_type": "markdown",
   "metadata": {},
   "source": [
    "Данные не содержат пропусков в данных, однако присутсвуют строковые значения в переменной id. Данная переменная не несет смысловой нагрузки для исследования и для избежания ошибок при построении моделей удалим ее из каждого датасета."
   ]
  },
  {
   "cell_type": "code",
   "execution_count": 69,
   "metadata": {},
   "outputs": [
    {
     "data": {
      "text/html": [
       "<div>\n",
       "<style scoped>\n",
       "    .dataframe tbody tr th:only-of-type {\n",
       "        vertical-align: middle;\n",
       "    }\n",
       "\n",
       "    .dataframe tbody tr th {\n",
       "        vertical-align: top;\n",
       "    }\n",
       "\n",
       "    .dataframe thead th {\n",
       "        text-align: right;\n",
       "    }\n",
       "</style>\n",
       "<table border=\"1\" class=\"dataframe\">\n",
       "  <thead>\n",
       "    <tr style=\"text-align: right;\">\n",
       "      <th></th>\n",
       "      <th>f0</th>\n",
       "      <th>f1</th>\n",
       "      <th>f2</th>\n",
       "      <th>product</th>\n",
       "    </tr>\n",
       "  </thead>\n",
       "  <tbody>\n",
       "    <tr>\n",
       "      <th>0</th>\n",
       "      <td>0.705745</td>\n",
       "      <td>-0.497823</td>\n",
       "      <td>1.221170</td>\n",
       "      <td>105.280062</td>\n",
       "    </tr>\n",
       "    <tr>\n",
       "      <th>1</th>\n",
       "      <td>1.334711</td>\n",
       "      <td>-0.340164</td>\n",
       "      <td>4.365080</td>\n",
       "      <td>73.037750</td>\n",
       "    </tr>\n",
       "    <tr>\n",
       "      <th>2</th>\n",
       "      <td>1.022732</td>\n",
       "      <td>0.151990</td>\n",
       "      <td>1.419926</td>\n",
       "      <td>85.265647</td>\n",
       "    </tr>\n",
       "    <tr>\n",
       "      <th>3</th>\n",
       "      <td>-0.032172</td>\n",
       "      <td>0.139033</td>\n",
       "      <td>2.978566</td>\n",
       "      <td>168.620776</td>\n",
       "    </tr>\n",
       "    <tr>\n",
       "      <th>4</th>\n",
       "      <td>1.988431</td>\n",
       "      <td>0.155413</td>\n",
       "      <td>4.751769</td>\n",
       "      <td>154.036647</td>\n",
       "    </tr>\n",
       "  </tbody>\n",
       "</table>\n",
       "</div>"
      ],
      "text/plain": [
       "         f0        f1        f2     product\n",
       "0  0.705745 -0.497823  1.221170  105.280062\n",
       "1  1.334711 -0.340164  4.365080   73.037750\n",
       "2  1.022732  0.151990  1.419926   85.265647\n",
       "3 -0.032172  0.139033  2.978566  168.620776\n",
       "4  1.988431  0.155413  4.751769  154.036647"
      ]
     },
     "metadata": {},
     "output_type": "display_data"
    },
    {
     "data": {
      "text/html": [
       "<div>\n",
       "<style scoped>\n",
       "    .dataframe tbody tr th:only-of-type {\n",
       "        vertical-align: middle;\n",
       "    }\n",
       "\n",
       "    .dataframe tbody tr th {\n",
       "        vertical-align: top;\n",
       "    }\n",
       "\n",
       "    .dataframe thead th {\n",
       "        text-align: right;\n",
       "    }\n",
       "</style>\n",
       "<table border=\"1\" class=\"dataframe\">\n",
       "  <thead>\n",
       "    <tr style=\"text-align: right;\">\n",
       "      <th></th>\n",
       "      <th>f0</th>\n",
       "      <th>f1</th>\n",
       "      <th>f2</th>\n",
       "      <th>product</th>\n",
       "    </tr>\n",
       "  </thead>\n",
       "  <tbody>\n",
       "    <tr>\n",
       "      <th>0</th>\n",
       "      <td>-15.001348</td>\n",
       "      <td>-8.276000</td>\n",
       "      <td>-0.005876</td>\n",
       "      <td>3.179103</td>\n",
       "    </tr>\n",
       "    <tr>\n",
       "      <th>1</th>\n",
       "      <td>14.272088</td>\n",
       "      <td>-3.475083</td>\n",
       "      <td>0.999183</td>\n",
       "      <td>26.953261</td>\n",
       "    </tr>\n",
       "    <tr>\n",
       "      <th>2</th>\n",
       "      <td>6.263187</td>\n",
       "      <td>-5.948386</td>\n",
       "      <td>5.001160</td>\n",
       "      <td>134.766305</td>\n",
       "    </tr>\n",
       "    <tr>\n",
       "      <th>3</th>\n",
       "      <td>-13.081196</td>\n",
       "      <td>-11.506057</td>\n",
       "      <td>4.999415</td>\n",
       "      <td>137.945408</td>\n",
       "    </tr>\n",
       "    <tr>\n",
       "      <th>4</th>\n",
       "      <td>12.702195</td>\n",
       "      <td>-8.147433</td>\n",
       "      <td>5.004363</td>\n",
       "      <td>134.766305</td>\n",
       "    </tr>\n",
       "  </tbody>\n",
       "</table>\n",
       "</div>"
      ],
      "text/plain": [
       "          f0         f1        f2     product\n",
       "0 -15.001348  -8.276000 -0.005876    3.179103\n",
       "1  14.272088  -3.475083  0.999183   26.953261\n",
       "2   6.263187  -5.948386  5.001160  134.766305\n",
       "3 -13.081196 -11.506057  4.999415  137.945408\n",
       "4  12.702195  -8.147433  5.004363  134.766305"
      ]
     },
     "metadata": {},
     "output_type": "display_data"
    },
    {
     "data": {
      "text/html": [
       "<div>\n",
       "<style scoped>\n",
       "    .dataframe tbody tr th:only-of-type {\n",
       "        vertical-align: middle;\n",
       "    }\n",
       "\n",
       "    .dataframe tbody tr th {\n",
       "        vertical-align: top;\n",
       "    }\n",
       "\n",
       "    .dataframe thead th {\n",
       "        text-align: right;\n",
       "    }\n",
       "</style>\n",
       "<table border=\"1\" class=\"dataframe\">\n",
       "  <thead>\n",
       "    <tr style=\"text-align: right;\">\n",
       "      <th></th>\n",
       "      <th>f0</th>\n",
       "      <th>f1</th>\n",
       "      <th>f2</th>\n",
       "      <th>product</th>\n",
       "    </tr>\n",
       "  </thead>\n",
       "  <tbody>\n",
       "    <tr>\n",
       "      <th>0</th>\n",
       "      <td>-1.146987</td>\n",
       "      <td>0.963328</td>\n",
       "      <td>-0.828965</td>\n",
       "      <td>27.758673</td>\n",
       "    </tr>\n",
       "    <tr>\n",
       "      <th>1</th>\n",
       "      <td>0.262778</td>\n",
       "      <td>0.269839</td>\n",
       "      <td>-2.530187</td>\n",
       "      <td>56.069697</td>\n",
       "    </tr>\n",
       "    <tr>\n",
       "      <th>2</th>\n",
       "      <td>0.194587</td>\n",
       "      <td>0.289035</td>\n",
       "      <td>-5.586433</td>\n",
       "      <td>62.871910</td>\n",
       "    </tr>\n",
       "    <tr>\n",
       "      <th>3</th>\n",
       "      <td>2.236060</td>\n",
       "      <td>-0.553760</td>\n",
       "      <td>0.930038</td>\n",
       "      <td>114.572842</td>\n",
       "    </tr>\n",
       "    <tr>\n",
       "      <th>4</th>\n",
       "      <td>-0.515993</td>\n",
       "      <td>1.716266</td>\n",
       "      <td>5.899011</td>\n",
       "      <td>149.600746</td>\n",
       "    </tr>\n",
       "  </tbody>\n",
       "</table>\n",
       "</div>"
      ],
      "text/plain": [
       "         f0        f1        f2     product\n",
       "0 -1.146987  0.963328 -0.828965   27.758673\n",
       "1  0.262778  0.269839 -2.530187   56.069697\n",
       "2  0.194587  0.289035 -5.586433   62.871910\n",
       "3  2.236060 -0.553760  0.930038  114.572842\n",
       "4 -0.515993  1.716266  5.899011  149.600746"
      ]
     },
     "metadata": {},
     "output_type": "display_data"
    }
   ],
   "source": [
    "region_1.drop([\"id\",],axis=1,inplace=True)\n",
    "region_2.drop([\"id\",],axis=1,inplace=True)\n",
    "region_3.drop([\"id\",],axis=1,inplace=True)\n",
    "display(region_1.head(5))\n",
    "display(region_2.head(5))\n",
    "display(region_3.head(5))"
   ]
  },
  {
   "cell_type": "markdown",
   "metadata": {},
   "source": [
    "f0,f1,f2 - признаки, мы не знаем их интерпретации поэтому дальнейший отдельный их анализ проводить не будем. Данные в признаках приблизительно равного масштаба, дальнейшее преобразование не требуется."
   ]
  },
  {
   "cell_type": "code",
   "execution_count": 70,
   "metadata": {},
   "outputs": [
    {
     "name": "stdout",
     "output_type": "stream",
     "text": [
      "               f0        f1        f2   product\n",
      "f0       1.000000 -0.440723 -0.003153  0.143536\n",
      "f1      -0.440723  1.000000  0.001724 -0.192356\n",
      "f2      -0.003153  0.001724  1.000000  0.483663\n",
      "product  0.143536 -0.192356  0.483663  1.000000\n",
      "               f0        f1        f2   product\n",
      "f0       1.000000  0.182287 -0.001777 -0.030491\n",
      "f1       0.182287  1.000000 -0.002595 -0.010155\n",
      "f2      -0.001777 -0.002595  1.000000  0.999397\n",
      "product -0.030491 -0.010155  0.999397  1.000000\n",
      "               f0        f1        f2   product\n",
      "f0       1.000000  0.000528 -0.000448 -0.001987\n",
      "f1       0.000528  1.000000  0.000779 -0.001012\n",
      "f2      -0.000448  0.000779  1.000000  0.445871\n",
      "product -0.001987 -0.001012  0.445871  1.000000\n"
     ]
    }
   ],
   "source": [
    "#проверим взаимосвязь переменных\n",
    "print(region_1.corr())\n",
    "print(region_2.corr())\n",
    "print(region_3.corr())"
   ]
  },
  {
   "cell_type": "markdown",
   "metadata": {},
   "source": [
    "Вывод: Можно заметить относительно значимую взимосвязь между f2 и product в первом и втором регионе, явную взаимосвязь между f2 и product во втором регионе. В рамках данного иследования данные синтетические и мы не берем данный факт во внимание. Данные подготовлены для формирования моделей."
   ]
  },
  {
   "cell_type": "markdown",
   "metadata": {},
   "source": [
    "## Обучение и проверка модели"
   ]
  },
  {
   "cell_type": "markdown",
   "metadata": {},
   "source": [
    "Для каждого региона предскажем среднее значение запаса сырья с помощью модели линейной регрессии:"
   ]
  },
  {
   "cell_type": "code",
   "execution_count": 71,
   "metadata": {},
   "outputs": [
    {
     "name": "stdout",
     "output_type": "stream",
     "text": [
      "Средний запас предсказанного сырья = 92.59256778438035\n",
      "RMSE = 37.5794217150813\n"
     ]
    }
   ],
   "source": [
    "target_1 = region_1['product']\n",
    "features_1 = region_1.drop(['product'] , axis=1)\n",
    "#Разобъем данные на обучающую и валидационную выборки в соотношении 75:25.\n",
    "features_train_1, features_valid_1, target_train_1, target_valid_1 = train_test_split(\n",
    "    features_1, target_1, test_size=0.25, random_state=12345)\n",
    "\n",
    "model_1 = LinearRegression()\n",
    "model_1.fit(features_train_1, target_train_1)#обучим модель\n",
    "predicted_valid_1 = model_1.predict(features_valid_1)#сделаем предсказания на валидационной выборке и сохраним их\n",
    "print(\"Средний запас предсказанного сырья =\",predicted_valid_1.mean())\n",
    "mse = mean_squared_error(target_valid_1, predicted_valid_1)\n",
    "print(\"RMSE =\", mse ** 0.5)"
   ]
  },
  {
   "cell_type": "code",
   "execution_count": 72,
   "metadata": {},
   "outputs": [
    {
     "name": "stdout",
     "output_type": "stream",
     "text": [
      "Средний запас предсказанного сырья = 68.728546895446\n",
      "RMSE = 0.893099286775617\n"
     ]
    }
   ],
   "source": [
    "target_2 = region_2['product']\n",
    "features_2 = region_2.drop(['product'] , axis=1)\n",
    "#Разобъем данные на обучающую и валидационную выборки в соотношении 75:25.\n",
    "features_train_2, features_valid_2, target_train_2, target_valid_2 = train_test_split(\n",
    "    features_2, target_2, test_size=0.25, random_state=12345)\n",
    "\n",
    "model_2 = LinearRegression()\n",
    "model_2.fit(features_train_2, target_train_2)#обучим модель\n",
    "predicted_valid_2 = model_2.predict(features_valid_2)#сделаем предсказания на валидационной выборке и сохраним их\n",
    "print(\"Средний запас предсказанного сырья =\",predicted_valid_2.mean())\n",
    "mse = mean_squared_error(target_valid_2, predicted_valid_2)\n",
    "print(\"RMSE =\", mse ** 0.5)"
   ]
  },
  {
   "cell_type": "code",
   "execution_count": 73,
   "metadata": {},
   "outputs": [
    {
     "name": "stdout",
     "output_type": "stream",
     "text": [
      "Средний запас предсказанного сырья = 94.96504596800489\n",
      "RMSE = 40.02970873393434\n"
     ]
    }
   ],
   "source": [
    "target_3 = region_3['product']\n",
    "features_3 = region_3.drop(['product'] , axis=1)\n",
    "#Разобъем данные на обучающую и валидационную выборки в соотношении 75:25.\n",
    "features_train_3, features_valid_3, target_train_3, target_valid_3 = train_test_split(\n",
    "    features_3, target_3, test_size=0.25, random_state=12345)\n",
    "\n",
    "model_3 = LinearRegression()\n",
    "model_3.fit(features_train_3, target_train_3)#обучим модель\n",
    "predicted_valid_3 = model_3.predict(features_valid_3)#сделаем предсказания на валидационной выборке и сохраним их\n",
    "print(\"Средний запас предсказанного сырья =\",predicted_valid_3.mean())\n",
    "mse = mean_squared_error(target_valid_3, predicted_valid_3)\n",
    "print(\"RMSE =\", mse ** 0.5)"
   ]
  },
  {
   "cell_type": "markdown",
   "metadata": {},
   "source": [
    "Вывод: Большье всего средних предсказанных запасов в третьем регионе, а более точная модель в первом регионе."
   ]
  },
  {
   "cell_type": "markdown",
   "metadata": {},
   "source": [
    "## Подготовка к расчёту прибыли"
   ]
  },
  {
   "cell_type": "markdown",
   "metadata": {},
   "source": [
    "Для удобства дальнейших расчетов сохраним все значимые параметры в переменных, а также расчитаем значение безубыточного объема сырья для скважины."
   ]
  },
  {
   "cell_type": "code",
   "execution_count": 74,
   "metadata": {},
   "outputs": [],
   "source": [
    "#сохраним ключевые знвчения в отдельных переменных\n",
    "point_income = 450000\n",
    "investments = 10000000000\n",
    "points = 500\n",
    "best_points = 200"
   ]
  },
  {
   "cell_type": "code",
   "execution_count": 75,
   "metadata": {},
   "outputs": [
    {
     "name": "stdout",
     "output_type": "stream",
     "text": [
      "111\n"
     ]
    }
   ],
   "source": [
    "#рассчитаем достаточный объём сырья для безубыточной разработки новой скважины\n",
    "volume = (investments/point_income)/best_points\n",
    "print(round(volume))"
   ]
  },
  {
   "cell_type": "markdown",
   "metadata": {},
   "source": [
    "Вывод: для того, чтобы при разработке месторождения выйти хотя бы в ноль, необходимо, чтобы средний запас скважин был не менее 111. Запас сырья в моделях запущенных ранее ниже данного значения."
   ]
  },
  {
   "cell_type": "markdown",
   "metadata": {},
   "source": [
    "## Расчёт прибыли и рисков "
   ]
  },
  {
   "cell_type": "markdown",
   "metadata": {},
   "source": [
    "Создадим функцию расчитывающую прибыль по скважинам с максимальными значениями предсказаний (на основе 200 лучших):"
   ]
  },
  {
   "cell_type": "code",
   "execution_count": 76,
   "metadata": {},
   "outputs": [],
   "source": [
    "#Напишем функцию для расчёта прибыли по выбранным скважинам и предсказаниям модели\n",
    "def revenue(target, predictions):\n",
    "    predictions = pd.Series(predictions)\n",
    "    top_pred = predictions.sort_values(ascending=False) #сортировка предсказанных скважин\n",
    "    top_target = target.loc[top_pred.index].head(200) #200 реальных скважин\n",
    "    #top_target = top_target.reset_index(drop=True)\n",
    "    volume_target = top_target.sum()\n",
    "    income = volume_target*point_income - investments\n",
    "    return income #возвращаем разность прибыли с реальной скважины и всех затрат"
   ]
  },
  {
   "cell_type": "markdown",
   "metadata": {},
   "source": [
    "Посчитаем риски убытков и прибыль для каждого региона с помощью применения техники Bootstrap:"
   ]
  },
  {
   "cell_type": "code",
   "execution_count": 77,
   "metadata": {},
   "outputs": [
    {
     "name": "stdout",
     "output_type": "stream",
     "text": [
      "Риск убытков 6.0 %\n",
      "Средняя выручка: 425938526.91059244\n",
      "Доверительный интервал -102090094.83793654 947976353.3583689\n"
     ]
    }
   ],
   "source": [
    "#применим технику Bootstrap с 1000 выборок, чтобы найти распределение прибыли\n",
    "#Регион 1\n",
    "state = np.random.RandomState(12345)\n",
    "\n",
    "target_valid_1=target_valid_1.reset_index(drop=True)\n",
    " \n",
    "values_1 = []\n",
    "\n",
    "for i in range(1000):\n",
    "    target_subsample_1 = target_valid_1.sample(n=points, replace=True, random_state=state)\n",
    "    probs_subsample_1 = pd.Series(predicted_valid_1)[target_subsample_1.index] \n",
    "    values_1.append(revenue(target_subsample_1, probs_subsample_1))\n",
    "    \n",
    "values_1 = pd.Series(values_1)\n",
    "print(\"Риск убытков\", values_1[values_1<0].count()/len(values_1)*100,'%')\n",
    "lower_1 = values_1.quantile(0.025) \n",
    "upper_1 = values_1.quantile(0.975) \n",
    "\n",
    "mean_1 = values_1.mean()\n",
    "print(\"Средняя выручка:\", mean_1)\n",
    "print(\"Доверительный интервал\", lower_1, upper_1)\n"
   ]
  },
  {
   "cell_type": "code",
   "execution_count": 78,
   "metadata": {},
   "outputs": [
    {
     "name": "stdout",
     "output_type": "stream",
     "text": [
      "Риск убытков 1.0 %\n",
      "Средняя выручка: 515222773.4432899\n",
      "Доверительный интервал 68873225.37050176 931547591.2570494\n"
     ]
    }
   ],
   "source": [
    "#Регион 2\n",
    "state = np.random.RandomState(12345)\n",
    "\n",
    "target_valid_2=target_valid_2.reset_index(drop=True)\n",
    "\n",
    "    \n",
    "values_2 = []\n",
    "for i in range(1000):\n",
    "    target_subsample_2 = target_valid_2.sample(n=points, replace=True, random_state=state)\n",
    "    probs_subsample_2 = pd.Series(predicted_valid_2)[target_subsample_2.index] \n",
    "    values_2.append(revenue(target_subsample_2, probs_subsample_2))\n",
    "    \n",
    "\n",
    "values_2 = pd.Series(values_2)\n",
    "print(\"Риск убытков\", values_2[values_2<0].count()/len(values_2)*100,'%')\n",
    "lower_2 = values_2.quantile(0.025) \n",
    "upper_2 = values_2.quantile(0.975) \n",
    "\n",
    "mean_2 = values_2.mean()\n",
    "print(\"Средняя выручка:\", mean_2)\n",
    "print(\"Доверительный интервал\", lower_2, upper_2)\n"
   ]
  },
  {
   "cell_type": "code",
   "execution_count": 79,
   "metadata": {},
   "outputs": [
    {
     "name": "stdout",
     "output_type": "stream",
     "text": [
      "Риск убытков 6.4 %\n",
      "Средняя выручка: 435008362.7827556\n",
      "Доверительный интервал -128880547.32978901 969706954.1802661\n"
     ]
    }
   ],
   "source": [
    "#Регион 3\n",
    "state = np.random.RandomState(12345)\n",
    "\n",
    "target_valid_3=target_valid_3.reset_index(drop=True)\n",
    "\n",
    "    \n",
    "values_3 = []\n",
    "for i in range(1000):\n",
    "    target_subsample_3 = target_valid_3.sample(n=points, replace=True, random_state=state)\n",
    "    probs_subsample_3 = pd.Series(predicted_valid_3)[target_subsample_3.index] \n",
    "    values_3.append(revenue(target_subsample_3, probs_subsample_3))\n",
    "    \n",
    "\n",
    "values_3 = pd.Series(values_3)\n",
    "print(\"Риск убытков\", values_3[values_3<0].count()/len(values_3)*100,'%')\n",
    "lower_3 = values_3.quantile(0.025) \n",
    "upper_3 = values_3.quantile(0.975) \n",
    "\n",
    "\n",
    "mean_3 = values_3.mean()\n",
    "print(\"Средняя выручка:\", mean_3)\n",
    "print(\"Доверительный интервал\", lower_3, upper_3)\n"
   ]
  },
  {
   "cell_type": "markdown",
   "metadata": {},
   "source": [
    "На основе полученных данных после процедуры Bootstrap с 1000 повторений, риск убытков более 2,5% прогнозируется в регионах №1 и №3, поэтому данные регионы исключаются. У оставшегося региона 2 риск убытков 1%, среденее значение прибыли 515 млн.руб."
   ]
  },
  {
   "cell_type": "markdown",
   "metadata": {},
   "source": [
    "## ВЫВОД:\n",
    "В ходе исследования выбора локации для скважины:\n",
    "- Были изучены и подготовлены данные для дальнейшей работы с ними\n",
    "- Созданы модели линейной регресии предсказывающие объем запаса сырья, для каждой модели запас оказался ниже среднего уровня безубыточности разработки новой скважины. Самый близкие предсказаные объема сырья к уровню безубыточному показали значения третьего региона\n",
    "- Выбраны 200 лучших скважин для каждого из регионов и с помощью техники Bootstrap расчитаны средние значения прибыли для каждого региона и риски убыточности разработки месторождения. На данном этапе исследования самым оптимальным выбран регион 2 с показателем средней прибыли в 515 млн.руб. и рисками убытков в 1%, с вероятностью в 95% прибыли не ниже 69 млн.руб."
   ]
  }
 ],
 "metadata": {
  "ExecuteTimeLog": [
   {
    "duration": 2148,
    "start_time": "2022-03-28T19:10:29.336Z"
   },
   {
    "duration": 439,
    "start_time": "2022-03-28T19:15:20.331Z"
   },
   {
    "duration": 29,
    "start_time": "2022-03-28T19:22:46.622Z"
   },
   {
    "duration": 33,
    "start_time": "2022-03-28T19:23:17.020Z"
   },
   {
    "duration": 36,
    "start_time": "2022-03-28T19:23:27.706Z"
   },
   {
    "duration": 50,
    "start_time": "2022-03-28T19:26:42.866Z"
   },
   {
    "duration": 50,
    "start_time": "2022-03-28T19:26:53.558Z"
   },
   {
    "duration": 19,
    "start_time": "2022-03-28T19:27:31.670Z"
   },
   {
    "duration": 19,
    "start_time": "2022-03-28T19:27:43.976Z"
   },
   {
    "duration": 31,
    "start_time": "2022-03-28T19:27:44.205Z"
   },
   {
    "duration": 19,
    "start_time": "2022-03-28T19:27:44.397Z"
   },
   {
    "duration": 45,
    "start_time": "2022-03-28T19:38:07.004Z"
   },
   {
    "duration": 18,
    "start_time": "2022-03-28T19:50:29.128Z"
   },
   {
    "duration": 26,
    "start_time": "2022-03-28T19:50:58.773Z"
   },
   {
    "duration": 34,
    "start_time": "2022-03-28T19:51:11.556Z"
   },
   {
    "duration": 169,
    "start_time": "2022-03-28T20:22:25.711Z"
   },
   {
    "duration": 4,
    "start_time": "2022-03-28T20:23:01.215Z"
   },
   {
    "duration": 454,
    "start_time": "2022-03-28T20:23:01.641Z"
   },
   {
    "duration": 36,
    "start_time": "2022-03-28T20:23:02.098Z"
   },
   {
    "duration": 47,
    "start_time": "2022-03-28T20:23:02.137Z"
   },
   {
    "duration": 20,
    "start_time": "2022-03-28T20:23:02.237Z"
   },
   {
    "duration": 19,
    "start_time": "2022-03-28T20:23:02.402Z"
   },
   {
    "duration": 44,
    "start_time": "2022-03-28T20:23:02.789Z"
   },
   {
    "duration": 38,
    "start_time": "2022-03-28T20:23:03.170Z"
   },
   {
    "duration": 31,
    "start_time": "2022-03-28T20:23:05.300Z"
   },
   {
    "duration": 103,
    "start_time": "2022-03-28T20:23:13.171Z"
   },
   {
    "duration": 49,
    "start_time": "2022-03-29T20:11:23.652Z"
   },
   {
    "duration": 1539,
    "start_time": "2022-03-29T20:11:28.566Z"
   },
   {
    "duration": 355,
    "start_time": "2022-03-29T20:11:30.107Z"
   },
   {
    "duration": 26,
    "start_time": "2022-03-29T20:11:30.464Z"
   },
   {
    "duration": 15,
    "start_time": "2022-03-29T20:11:30.492Z"
   },
   {
    "duration": 34,
    "start_time": "2022-03-29T20:11:30.509Z"
   },
   {
    "duration": 28,
    "start_time": "2022-03-29T20:11:30.545Z"
   },
   {
    "duration": 54,
    "start_time": "2022-03-29T20:11:30.575Z"
   },
   {
    "duration": 36,
    "start_time": "2022-03-29T20:11:30.630Z"
   },
   {
    "duration": 26,
    "start_time": "2022-03-29T20:11:30.667Z"
   },
   {
    "duration": 27,
    "start_time": "2022-03-29T20:14:37.840Z"
   },
   {
    "duration": 26,
    "start_time": "2022-03-29T20:15:48.215Z"
   },
   {
    "duration": 23,
    "start_time": "2022-03-29T20:15:59.221Z"
   },
   {
    "duration": 135,
    "start_time": "2022-03-29T20:16:27.576Z"
   },
   {
    "duration": 93,
    "start_time": "2022-03-29T20:16:35.642Z"
   },
   {
    "duration": 24,
    "start_time": "2022-03-29T20:18:36.697Z"
   },
   {
    "duration": 23,
    "start_time": "2022-03-29T20:18:51.010Z"
   },
   {
    "duration": 26,
    "start_time": "2022-03-29T20:19:28.897Z"
   },
   {
    "duration": 26,
    "start_time": "2022-03-29T20:19:37.115Z"
   },
   {
    "duration": 26,
    "start_time": "2022-03-29T20:24:51.327Z"
   },
   {
    "duration": 28,
    "start_time": "2022-03-29T20:26:46.793Z"
   },
   {
    "duration": 1674,
    "start_time": "2022-03-31T20:14:09.669Z"
   },
   {
    "duration": 383,
    "start_time": "2022-03-31T20:14:11.345Z"
   },
   {
    "duration": 28,
    "start_time": "2022-03-31T20:14:11.730Z"
   },
   {
    "duration": 17,
    "start_time": "2022-03-31T20:14:11.760Z"
   },
   {
    "duration": 17,
    "start_time": "2022-03-31T20:14:11.778Z"
   },
   {
    "duration": 46,
    "start_time": "2022-03-31T20:14:11.797Z"
   },
   {
    "duration": 38,
    "start_time": "2022-03-31T20:14:11.845Z"
   },
   {
    "duration": 65,
    "start_time": "2022-03-31T20:14:11.885Z"
   },
   {
    "duration": 32,
    "start_time": "2022-03-31T20:14:11.952Z"
   },
   {
    "duration": 122,
    "start_time": "2022-03-31T20:14:12.034Z"
   },
   {
    "duration": 124,
    "start_time": "2022-03-31T20:14:12.232Z"
   },
   {
    "duration": 2,
    "start_time": "2022-03-31T20:14:15.947Z"
   },
   {
    "duration": 3,
    "start_time": "2022-03-31T20:17:49.776Z"
   },
   {
    "duration": 3,
    "start_time": "2022-03-31T20:20:25.824Z"
   },
   {
    "duration": 3,
    "start_time": "2022-03-31T20:20:26.268Z"
   },
   {
    "duration": 3,
    "start_time": "2022-03-31T20:20:44.214Z"
   },
   {
    "duration": 2112,
    "start_time": "2022-04-01T22:31:05.655Z"
   },
   {
    "duration": 411,
    "start_time": "2022-04-01T22:31:07.770Z"
   },
   {
    "duration": 43,
    "start_time": "2022-04-01T22:31:08.183Z"
   },
   {
    "duration": 21,
    "start_time": "2022-04-01T22:31:08.228Z"
   },
   {
    "duration": 54,
    "start_time": "2022-04-01T22:31:08.254Z"
   },
   {
    "duration": 20,
    "start_time": "2022-04-01T22:31:08.310Z"
   },
   {
    "duration": 76,
    "start_time": "2022-04-01T22:31:08.332Z"
   },
   {
    "duration": 35,
    "start_time": "2022-04-01T22:31:08.411Z"
   },
   {
    "duration": 65,
    "start_time": "2022-04-01T22:31:08.449Z"
   },
   {
    "duration": 188,
    "start_time": "2022-04-01T22:31:08.516Z"
   },
   {
    "duration": 200,
    "start_time": "2022-04-01T22:31:08.707Z"
   },
   {
    "duration": 86,
    "start_time": "2022-04-01T22:31:08.997Z"
   },
   {
    "duration": 15,
    "start_time": "2022-04-01T22:31:09.086Z"
   },
   {
    "duration": 5,
    "start_time": "2022-04-01T22:31:09.106Z"
   },
   {
    "duration": 150,
    "start_time": "2022-04-01T22:31:17.995Z"
   },
   {
    "duration": 24,
    "start_time": "2022-04-01T22:32:04.182Z"
   },
   {
    "duration": 5,
    "start_time": "2022-04-01T22:32:45.598Z"
   },
   {
    "duration": 25,
    "start_time": "2022-04-01T22:32:46.679Z"
   },
   {
    "duration": 5,
    "start_time": "2022-04-01T22:33:19.027Z"
   },
   {
    "duration": 22,
    "start_time": "2022-04-01T22:33:20.331Z"
   },
   {
    "duration": 4,
    "start_time": "2022-04-01T22:33:46.909Z"
   },
   {
    "duration": 408,
    "start_time": "2022-04-01T22:33:46.916Z"
   },
   {
    "duration": 29,
    "start_time": "2022-04-01T22:33:47.327Z"
   },
   {
    "duration": 38,
    "start_time": "2022-04-01T22:33:47.359Z"
   },
   {
    "duration": 18,
    "start_time": "2022-04-01T22:33:47.400Z"
   },
   {
    "duration": 18,
    "start_time": "2022-04-01T22:33:47.421Z"
   },
   {
    "duration": 73,
    "start_time": "2022-04-01T22:33:47.441Z"
   },
   {
    "duration": 33,
    "start_time": "2022-04-01T22:33:47.517Z"
   },
   {
    "duration": 63,
    "start_time": "2022-04-01T22:33:47.552Z"
   },
   {
    "duration": 116,
    "start_time": "2022-04-01T22:33:47.691Z"
   },
   {
    "duration": 119,
    "start_time": "2022-04-01T22:33:47.882Z"
   },
   {
    "duration": 100,
    "start_time": "2022-04-01T22:33:48.005Z"
   },
   {
    "duration": 5,
    "start_time": "2022-04-01T22:33:48.195Z"
   },
   {
    "duration": 5,
    "start_time": "2022-04-01T22:33:50.655Z"
   },
   {
    "duration": 24,
    "start_time": "2022-04-01T22:33:53.176Z"
   },
   {
    "duration": 9,
    "start_time": "2022-04-01T22:35:25.280Z"
   },
   {
    "duration": 5,
    "start_time": "2022-04-01T22:35:26.052Z"
   },
   {
    "duration": 5,
    "start_time": "2022-04-01T22:35:28.168Z"
   },
   {
    "duration": 1789,
    "start_time": "2022-04-01T22:35:29.535Z"
   },
   {
    "duration": 1717,
    "start_time": "2022-04-01T22:35:50.981Z"
   },
   {
    "duration": 1832,
    "start_time": "2022-04-01T22:36:08.164Z"
   },
   {
    "duration": 1714,
    "start_time": "2022-04-01T22:36:30.222Z"
   },
   {
    "duration": 1718,
    "start_time": "2022-04-01T22:36:43.596Z"
   },
   {
    "duration": 1704,
    "start_time": "2022-04-01T22:38:50.508Z"
   },
   {
    "duration": 1702,
    "start_time": "2022-04-01T22:39:49.795Z"
   },
   {
    "duration": 5,
    "start_time": "2022-04-01T22:40:42.265Z"
   },
   {
    "duration": 403,
    "start_time": "2022-04-01T22:40:42.273Z"
   },
   {
    "duration": 36,
    "start_time": "2022-04-01T22:40:42.679Z"
   },
   {
    "duration": 19,
    "start_time": "2022-04-01T22:40:42.717Z"
   },
   {
    "duration": 52,
    "start_time": "2022-04-01T22:40:42.739Z"
   },
   {
    "duration": 18,
    "start_time": "2022-04-01T22:40:42.794Z"
   },
   {
    "duration": 41,
    "start_time": "2022-04-01T22:40:42.814Z"
   },
   {
    "duration": 58,
    "start_time": "2022-04-01T22:40:42.857Z"
   },
   {
    "duration": 166,
    "start_time": "2022-04-01T22:40:42.917Z"
   },
   {
    "duration": 109,
    "start_time": "2022-04-01T22:40:43.086Z"
   },
   {
    "duration": 107,
    "start_time": "2022-04-01T22:40:43.202Z"
   },
   {
    "duration": 6,
    "start_time": "2022-04-01T22:40:43.391Z"
   },
   {
    "duration": 95,
    "start_time": "2022-04-01T22:40:43.400Z"
   },
   {
    "duration": 5,
    "start_time": "2022-04-01T22:40:43.499Z"
   },
   {
    "duration": 1734,
    "start_time": "2022-04-01T22:40:45.330Z"
   },
   {
    "duration": 1710,
    "start_time": "2022-04-01T22:42:51.641Z"
   },
   {
    "duration": 1723,
    "start_time": "2022-04-01T22:44:24.500Z"
   },
   {
    "duration": 1711,
    "start_time": "2022-04-01T22:48:45.058Z"
   },
   {
    "duration": 1715,
    "start_time": "2022-04-01T22:49:10.200Z"
   },
   {
    "duration": 1865,
    "start_time": "2022-04-01T22:50:35.100Z"
   },
   {
    "duration": 1497,
    "start_time": "2022-04-02T10:14:56.469Z"
   },
   {
    "duration": 345,
    "start_time": "2022-04-02T10:14:57.968Z"
   },
   {
    "duration": 30,
    "start_time": "2022-04-02T10:14:58.315Z"
   },
   {
    "duration": 14,
    "start_time": "2022-04-02T10:14:58.347Z"
   },
   {
    "duration": 14,
    "start_time": "2022-04-02T10:14:58.364Z"
   },
   {
    "duration": 15,
    "start_time": "2022-04-02T10:14:58.380Z"
   },
   {
    "duration": 64,
    "start_time": "2022-04-02T10:14:58.397Z"
   },
   {
    "duration": 30,
    "start_time": "2022-04-02T10:14:58.463Z"
   },
   {
    "duration": 51,
    "start_time": "2022-04-02T10:14:58.495Z"
   },
   {
    "duration": 206,
    "start_time": "2022-04-02T10:14:58.548Z"
   },
   {
    "duration": 198,
    "start_time": "2022-04-02T10:14:58.757Z"
   },
   {
    "duration": 81,
    "start_time": "2022-04-02T10:14:58.958Z"
   },
   {
    "duration": 103,
    "start_time": "2022-04-02T10:14:59.042Z"
   },
   {
    "duration": 7,
    "start_time": "2022-04-02T10:14:59.147Z"
   },
   {
    "duration": 1153,
    "start_time": "2022-04-02T10:14:59.156Z"
   },
   {
    "duration": 1155,
    "start_time": "2022-04-02T10:15:00.311Z"
   },
   {
    "duration": 1160,
    "start_time": "2022-04-02T10:15:02.166Z"
   },
   {
    "duration": 1125,
    "start_time": "2022-04-02T10:47:40.504Z"
   },
   {
    "duration": 1208,
    "start_time": "2022-04-02T10:48:42.864Z"
   },
   {
    "duration": 1161,
    "start_time": "2022-04-02T10:49:15.719Z"
   },
   {
    "duration": 1148,
    "start_time": "2022-04-02T10:49:57.934Z"
   },
   {
    "duration": 122,
    "start_time": "2022-04-02T10:51:05.589Z"
   },
   {
    "duration": 109,
    "start_time": "2022-04-02T10:51:50.401Z"
   },
   {
    "duration": 1157,
    "start_time": "2022-04-02T10:52:00.121Z"
   },
   {
    "duration": 1167,
    "start_time": "2022-04-02T10:52:08.463Z"
   },
   {
    "duration": 1147,
    "start_time": "2022-04-02T10:52:51.758Z"
   },
   {
    "duration": 1155,
    "start_time": "2022-04-02T10:52:52.907Z"
   },
   {
    "duration": 1108,
    "start_time": "2022-04-02T10:52:54.064Z"
   },
   {
    "duration": 1143,
    "start_time": "2022-04-02T12:11:50.610Z"
   },
   {
    "duration": 3,
    "start_time": "2022-04-02T12:11:59.661Z"
   },
   {
    "duration": 356,
    "start_time": "2022-04-02T12:11:59.666Z"
   },
   {
    "duration": 29,
    "start_time": "2022-04-02T12:12:00.024Z"
   },
   {
    "duration": 16,
    "start_time": "2022-04-02T12:12:00.055Z"
   },
   {
    "duration": 27,
    "start_time": "2022-04-02T12:12:00.073Z"
   },
   {
    "duration": 36,
    "start_time": "2022-04-02T12:12:00.102Z"
   },
   {
    "duration": 35,
    "start_time": "2022-04-02T12:12:00.140Z"
   },
   {
    "duration": 40,
    "start_time": "2022-04-02T12:12:00.177Z"
   },
   {
    "duration": 118,
    "start_time": "2022-04-02T12:12:00.219Z"
   },
   {
    "duration": 120,
    "start_time": "2022-04-02T12:12:00.340Z"
   },
   {
    "duration": 124,
    "start_time": "2022-04-02T12:12:00.544Z"
   },
   {
    "duration": 168,
    "start_time": "2022-04-02T12:12:00.671Z"
   },
   {
    "duration": 26,
    "start_time": "2022-04-02T12:12:00.841Z"
   },
   {
    "duration": 10,
    "start_time": "2022-04-02T12:12:00.870Z"
   },
   {
    "duration": 1275,
    "start_time": "2022-04-02T12:12:00.882Z"
   },
   {
    "duration": 1257,
    "start_time": "2022-04-02T12:12:02.159Z"
   },
   {
    "duration": 1222,
    "start_time": "2022-04-02T12:12:03.418Z"
   },
   {
    "duration": 3,
    "start_time": "2022-04-02T12:16:24.139Z"
   },
   {
    "duration": 342,
    "start_time": "2022-04-02T12:16:24.144Z"
   },
   {
    "duration": 21,
    "start_time": "2022-04-02T12:16:24.488Z"
   },
   {
    "duration": 31,
    "start_time": "2022-04-02T12:16:24.511Z"
   },
   {
    "duration": 14,
    "start_time": "2022-04-02T12:16:24.545Z"
   },
   {
    "duration": 13,
    "start_time": "2022-04-02T12:16:24.561Z"
   },
   {
    "duration": 32,
    "start_time": "2022-04-02T12:16:24.576Z"
   },
   {
    "duration": 30,
    "start_time": "2022-04-02T12:16:24.638Z"
   },
   {
    "duration": 73,
    "start_time": "2022-04-02T12:16:24.670Z"
   },
   {
    "duration": 111,
    "start_time": "2022-04-02T12:16:24.745Z"
   },
   {
    "duration": 187,
    "start_time": "2022-04-02T12:16:24.858Z"
   },
   {
    "duration": 89,
    "start_time": "2022-04-02T12:16:25.048Z"
   },
   {
    "duration": 95,
    "start_time": "2022-04-02T12:16:25.148Z"
   },
   {
    "duration": 5,
    "start_time": "2022-04-02T12:16:25.245Z"
   },
   {
    "duration": 1157,
    "start_time": "2022-04-02T12:16:25.252Z"
   },
   {
    "duration": 1205,
    "start_time": "2022-04-02T12:16:26.411Z"
   },
   {
    "duration": 1176,
    "start_time": "2022-04-02T12:16:27.618Z"
   },
   {
    "duration": 84,
    "start_time": "2022-04-03T09:35:47.046Z"
   },
   {
    "duration": 1789,
    "start_time": "2022-04-03T09:35:52.878Z"
   },
   {
    "duration": 6338,
    "start_time": "2022-04-03T09:35:54.669Z"
   },
   {
    "duration": 25,
    "start_time": "2022-04-03T09:36:01.008Z"
   },
   {
    "duration": 15,
    "start_time": "2022-04-03T09:36:01.035Z"
   },
   {
    "duration": 19,
    "start_time": "2022-04-03T09:36:01.052Z"
   },
   {
    "duration": 38,
    "start_time": "2022-04-03T09:36:01.073Z"
   },
   {
    "duration": 30,
    "start_time": "2022-04-03T09:36:01.112Z"
   },
   {
    "duration": 28,
    "start_time": "2022-04-03T09:36:01.144Z"
   },
   {
    "duration": 49,
    "start_time": "2022-04-03T09:36:01.174Z"
   },
   {
    "duration": 185,
    "start_time": "2022-04-03T09:36:01.227Z"
   },
   {
    "duration": 199,
    "start_time": "2022-04-03T09:36:01.415Z"
   },
   {
    "duration": 3,
    "start_time": "2022-04-03T09:36:01.616Z"
   },
   {
    "duration": 5,
    "start_time": "2022-04-03T09:36:01.701Z"
   },
   {
    "duration": 95,
    "start_time": "2022-04-03T09:36:01.708Z"
   },
   {
    "duration": 4,
    "start_time": "2022-04-03T09:36:04.879Z"
   },
   {
    "duration": 65,
    "start_time": "2022-04-03T09:36:05.618Z"
   },
   {
    "duration": 4,
    "start_time": "2022-04-03T09:36:17.906Z"
   },
   {
    "duration": 3,
    "start_time": "2022-04-03T09:36:28.093Z"
   },
   {
    "duration": 4,
    "start_time": "2022-04-03T09:36:38.563Z"
   },
   {
    "duration": 10,
    "start_time": "2022-04-03T09:36:43.531Z"
   },
   {
    "duration": 4,
    "start_time": "2022-04-03T09:36:49.635Z"
   },
   {
    "duration": 14,
    "start_time": "2022-04-03T09:37:10.259Z"
   },
   {
    "duration": 1075,
    "start_time": "2022-04-03T09:39:49.098Z"
   },
   {
    "duration": 4,
    "start_time": "2022-04-03T09:40:45.165Z"
   },
   {
    "duration": 14,
    "start_time": "2022-04-03T09:40:57.264Z"
   },
   {
    "duration": 5,
    "start_time": "2022-04-03T09:41:10.627Z"
   },
   {
    "duration": 5,
    "start_time": "2022-04-03T09:41:18.552Z"
   },
   {
    "duration": 4,
    "start_time": "2022-04-03T09:59:03.220Z"
   },
   {
    "duration": 2502,
    "start_time": "2022-04-03T09:59:13.579Z"
   },
   {
    "duration": 1940,
    "start_time": "2022-04-03T10:00:02.844Z"
   },
   {
    "duration": 4,
    "start_time": "2022-04-03T10:00:13.696Z"
   },
   {
    "duration": 1765,
    "start_time": "2022-04-03T10:00:15.779Z"
   },
   {
    "duration": 4,
    "start_time": "2022-04-03T10:23:04.014Z"
   },
   {
    "duration": 2479,
    "start_time": "2022-04-03T10:23:06.423Z"
   },
   {
    "duration": 4,
    "start_time": "2022-04-03T10:24:41.692Z"
   },
   {
    "duration": 1735,
    "start_time": "2022-04-03T10:24:44.394Z"
   },
   {
    "duration": 4,
    "start_time": "2022-04-03T10:24:58.127Z"
   },
   {
    "duration": 2583,
    "start_time": "2022-04-03T10:25:01.375Z"
   },
   {
    "duration": 3,
    "start_time": "2022-04-03T10:25:18.989Z"
   },
   {
    "duration": 2693,
    "start_time": "2022-04-03T10:25:21.559Z"
   },
   {
    "duration": 4,
    "start_time": "2022-04-03T10:28:59.424Z"
   },
   {
    "duration": 2559,
    "start_time": "2022-04-03T10:29:01.886Z"
   },
   {
    "duration": 4,
    "start_time": "2022-04-03T10:29:29.458Z"
   },
   {
    "duration": 2508,
    "start_time": "2022-04-03T10:29:31.900Z"
   },
   {
    "duration": 4,
    "start_time": "2022-04-03T10:31:18.811Z"
   },
   {
    "duration": 16,
    "start_time": "2022-04-03T10:31:20.824Z"
   },
   {
    "duration": 4,
    "start_time": "2022-04-03T10:31:28.528Z"
   },
   {
    "duration": 2523,
    "start_time": "2022-04-03T10:31:31.158Z"
   },
   {
    "duration": 5,
    "start_time": "2022-04-03T10:37:10.733Z"
   },
   {
    "duration": 17,
    "start_time": "2022-04-03T10:37:13.879Z"
   },
   {
    "duration": 4,
    "start_time": "2022-04-03T10:38:58.710Z"
   },
   {
    "duration": 17,
    "start_time": "2022-04-03T10:39:00.648Z"
   },
   {
    "duration": 4,
    "start_time": "2022-04-03T10:39:21.409Z"
   },
   {
    "duration": 2797,
    "start_time": "2022-04-03T10:39:24.080Z"
   },
   {
    "duration": 5,
    "start_time": "2022-04-03T10:39:53.065Z"
   },
   {
    "duration": 1973,
    "start_time": "2022-04-03T10:39:58.513Z"
   },
   {
    "duration": 2162,
    "start_time": "2022-04-03T15:25:01.960Z"
   },
   {
    "duration": 429,
    "start_time": "2022-04-03T15:25:04.125Z"
   },
   {
    "duration": 47,
    "start_time": "2022-04-03T15:25:04.556Z"
   },
   {
    "duration": 20,
    "start_time": "2022-04-03T15:25:04.606Z"
   },
   {
    "duration": 56,
    "start_time": "2022-04-03T15:25:04.629Z"
   },
   {
    "duration": 19,
    "start_time": "2022-04-03T15:25:04.688Z"
   },
   {
    "duration": 68,
    "start_time": "2022-04-03T15:25:04.709Z"
   },
   {
    "duration": 38,
    "start_time": "2022-04-03T15:25:04.780Z"
   },
   {
    "duration": 77,
    "start_time": "2022-04-03T15:25:04.820Z"
   },
   {
    "duration": 117,
    "start_time": "2022-04-03T15:25:04.980Z"
   },
   {
    "duration": 199,
    "start_time": "2022-04-03T15:25:05.100Z"
   },
   {
    "duration": 76,
    "start_time": "2022-04-03T15:25:05.301Z"
   },
   {
    "duration": 115,
    "start_time": "2022-04-03T15:25:05.379Z"
   },
   {
    "duration": 6,
    "start_time": "2022-04-03T15:25:07.296Z"
   },
   {
    "duration": 3084,
    "start_time": "2022-04-03T15:25:14.341Z"
   },
   {
    "duration": 6,
    "start_time": "2022-04-03T15:25:45.288Z"
   },
   {
    "duration": 2114,
    "start_time": "2022-04-03T15:25:47.996Z"
   },
   {
    "duration": 2159,
    "start_time": "2022-04-03T15:25:59.815Z"
   },
   {
    "duration": 2152,
    "start_time": "2022-04-03T15:26:01.977Z"
   },
   {
    "duration": 2159,
    "start_time": "2022-04-03T15:26:04.131Z"
   },
   {
    "duration": 6,
    "start_time": "2022-04-03T15:27:28.187Z"
   },
   {
    "duration": 2737,
    "start_time": "2022-04-03T15:27:30.406Z"
   },
   {
    "duration": 6,
    "start_time": "2022-04-03T15:27:55.915Z"
   },
   {
    "duration": 2096,
    "start_time": "2022-04-03T15:27:56.733Z"
   },
   {
    "duration": 6,
    "start_time": "2022-04-03T15:28:21.843Z"
   },
   {
    "duration": 624,
    "start_time": "2022-04-03T15:28:21.851Z"
   },
   {
    "duration": 37,
    "start_time": "2022-04-03T15:28:22.482Z"
   },
   {
    "duration": 19,
    "start_time": "2022-04-03T15:28:22.522Z"
   },
   {
    "duration": 50,
    "start_time": "2022-04-03T15:28:22.543Z"
   },
   {
    "duration": 20,
    "start_time": "2022-04-03T15:28:22.596Z"
   },
   {
    "duration": 78,
    "start_time": "2022-04-03T15:28:22.619Z"
   },
   {
    "duration": 36,
    "start_time": "2022-04-03T15:28:22.699Z"
   },
   {
    "duration": 149,
    "start_time": "2022-04-03T15:28:22.737Z"
   },
   {
    "duration": 108,
    "start_time": "2022-04-03T15:28:22.896Z"
   },
   {
    "duration": 168,
    "start_time": "2022-04-03T15:28:23.008Z"
   },
   {
    "duration": 103,
    "start_time": "2022-04-03T15:28:23.179Z"
   },
   {
    "duration": 13,
    "start_time": "2022-04-03T15:28:23.285Z"
   },
   {
    "duration": 5,
    "start_time": "2022-04-03T15:28:23.301Z"
   },
   {
    "duration": 2900,
    "start_time": "2022-04-03T15:28:23.308Z"
   },
   {
    "duration": 2294,
    "start_time": "2022-04-03T15:28:26.210Z"
   },
   {
    "duration": 3124,
    "start_time": "2022-04-03T15:28:28.507Z"
   },
   {
    "duration": 5,
    "start_time": "2022-04-03T15:32:25.337Z"
   },
   {
    "duration": 624,
    "start_time": "2022-04-03T15:32:25.345Z"
   },
   {
    "duration": 44,
    "start_time": "2022-04-03T15:32:25.975Z"
   },
   {
    "duration": 60,
    "start_time": "2022-04-03T15:32:26.022Z"
   },
   {
    "duration": 54,
    "start_time": "2022-04-03T15:32:26.086Z"
   },
   {
    "duration": 47,
    "start_time": "2022-04-03T15:32:26.144Z"
   },
   {
    "duration": 80,
    "start_time": "2022-04-03T15:32:26.194Z"
   },
   {
    "duration": 58,
    "start_time": "2022-04-03T15:32:26.277Z"
   },
   {
    "duration": 149,
    "start_time": "2022-04-03T15:32:26.338Z"
   },
   {
    "duration": 191,
    "start_time": "2022-04-03T15:32:26.493Z"
   },
   {
    "duration": 115,
    "start_time": "2022-04-03T15:32:26.687Z"
   },
   {
    "duration": 69,
    "start_time": "2022-04-03T15:32:26.806Z"
   },
   {
    "duration": 97,
    "start_time": "2022-04-03T15:32:26.879Z"
   },
   {
    "duration": 7,
    "start_time": "2022-04-03T15:32:26.981Z"
   },
   {
    "duration": 2544,
    "start_time": "2022-04-03T15:32:26.992Z"
   },
   {
    "duration": 2190,
    "start_time": "2022-04-03T15:32:29.538Z"
   },
   {
    "duration": 2208,
    "start_time": "2022-04-03T15:32:31.730Z"
   },
   {
    "duration": 104,
    "start_time": "2022-04-03T15:34:58.212Z"
   },
   {
    "duration": 131,
    "start_time": "2022-04-03T15:35:12.319Z"
   },
   {
    "duration": 85,
    "start_time": "2022-04-03T15:35:41.601Z"
   },
   {
    "duration": 93,
    "start_time": "2022-04-03T15:36:14.705Z"
   },
   {
    "duration": 5,
    "start_time": "2022-04-03T15:38:25.616Z"
   },
   {
    "duration": 461,
    "start_time": "2022-04-03T15:38:25.624Z"
   },
   {
    "duration": 31,
    "start_time": "2022-04-03T15:38:26.088Z"
   },
   {
    "duration": 21,
    "start_time": "2022-04-03T15:38:26.122Z"
   },
   {
    "duration": 47,
    "start_time": "2022-04-03T15:38:26.147Z"
   },
   {
    "duration": 18,
    "start_time": "2022-04-03T15:38:26.196Z"
   },
   {
    "duration": 67,
    "start_time": "2022-04-03T15:38:26.217Z"
   },
   {
    "duration": 37,
    "start_time": "2022-04-03T15:38:26.286Z"
   },
   {
    "duration": 150,
    "start_time": "2022-04-03T15:38:26.325Z"
   },
   {
    "duration": 195,
    "start_time": "2022-04-03T15:38:26.478Z"
   },
   {
    "duration": 125,
    "start_time": "2022-04-03T15:38:26.679Z"
   },
   {
    "duration": 120,
    "start_time": "2022-04-03T15:38:26.875Z"
   },
   {
    "duration": 37,
    "start_time": "2022-04-03T15:38:26.997Z"
   },
   {
    "duration": 33,
    "start_time": "2022-04-03T15:38:27.039Z"
   },
   {
    "duration": 2167,
    "start_time": "2022-04-03T15:38:27.075Z"
   },
   {
    "duration": 2132,
    "start_time": "2022-04-03T15:38:29.245Z"
   },
   {
    "duration": 2178,
    "start_time": "2022-04-03T15:38:31.380Z"
   }
  ],
  "kernelspec": {
   "display_name": "Python 3 (ipykernel)",
   "language": "python",
   "name": "python3"
  },
  "language_info": {
   "codemirror_mode": {
    "name": "ipython",
    "version": 3
   },
   "file_extension": ".py",
   "mimetype": "text/x-python",
   "name": "python",
   "nbconvert_exporter": "python",
   "pygments_lexer": "ipython3",
   "version": "3.9.7"
  },
  "toc": {
   "base_numbering": 1,
   "nav_menu": {},
   "number_sections": true,
   "sideBar": true,
   "skip_h1_title": true,
   "title_cell": "Table of Contents",
   "title_sidebar": "Contents",
   "toc_cell": false,
   "toc_position": {},
   "toc_section_display": true,
   "toc_window_display": false
  }
 },
 "nbformat": 4,
 "nbformat_minor": 2
}
