{
 "cells": [
  {
   "cell_type": "markdown",
   "metadata": {},
   "source": [
    "# Определение стоимости автомобилей"
   ]
  },
  {
   "cell_type": "markdown",
   "metadata": {},
   "source": [
    "## Подготовка данных"
   ]
  },
  {
   "cell_type": "code",
   "execution_count": 1,
   "metadata": {},
   "outputs": [],
   "source": [
    "#Загрузим все необходимые библиотеки\n",
    "import pandas as pd\n",
    "import numpy as np \n",
    "from sklearn.tree import DecisionTreeClassifier \n",
    "from sklearn.model_selection import train_test_split\n",
    "from sklearn.ensemble import RandomForestClassifier\n",
    "from sklearn.linear_model import LogisticRegression\n",
    "from sklearn.metrics import mean_squared_error\n",
    "from matplotlib import pyplot as plt\n",
    "import seaborn as sns\n",
    "from statistics import mode\n",
    "from catboost import CatBoostClassifier\n",
    "import time \n",
    "from lightgbm import LGBMRegressor\n",
    "from sklearn.model_selection import GridSearchCV\n",
    "from catboost import CatBoostRegressor \n",
    "from sklearn.preprocessing import LabelEncoder"
   ]
  },
  {
   "cell_type": "code",
   "execution_count": 2,
   "metadata": {},
   "outputs": [],
   "source": [
    "#сохраняем данные файла в переменной df"
   ]
  },
  {
   "cell_type": "code",
   "execution_count": 3,
   "metadata": {},
   "outputs": [
    {
     "data": {
      "text/html": [
       "<div>\n",
       "<style scoped>\n",
       "    .dataframe tbody tr th:only-of-type {\n",
       "        vertical-align: middle;\n",
       "    }\n",
       "\n",
       "    .dataframe tbody tr th {\n",
       "        vertical-align: top;\n",
       "    }\n",
       "\n",
       "    .dataframe thead th {\n",
       "        text-align: right;\n",
       "    }\n",
       "</style>\n",
       "<table border=\"1\" class=\"dataframe\">\n",
       "  <thead>\n",
       "    <tr style=\"text-align: right;\">\n",
       "      <th></th>\n",
       "      <th>DateCrawled</th>\n",
       "      <th>Price</th>\n",
       "      <th>VehicleType</th>\n",
       "      <th>RegistrationYear</th>\n",
       "      <th>Gearbox</th>\n",
       "      <th>Power</th>\n",
       "      <th>Model</th>\n",
       "      <th>Kilometer</th>\n",
       "      <th>RegistrationMonth</th>\n",
       "      <th>FuelType</th>\n",
       "      <th>Brand</th>\n",
       "      <th>NotRepaired</th>\n",
       "      <th>DateCreated</th>\n",
       "      <th>NumberOfPictures</th>\n",
       "      <th>PostalCode</th>\n",
       "      <th>LastSeen</th>\n",
       "    </tr>\n",
       "  </thead>\n",
       "  <tbody>\n",
       "    <tr>\n",
       "      <th>0</th>\n",
       "      <td>2016-03-24 11:52:17</td>\n",
       "      <td>480</td>\n",
       "      <td>NaN</td>\n",
       "      <td>1993</td>\n",
       "      <td>manual</td>\n",
       "      <td>0</td>\n",
       "      <td>golf</td>\n",
       "      <td>150000</td>\n",
       "      <td>0</td>\n",
       "      <td>petrol</td>\n",
       "      <td>volkswagen</td>\n",
       "      <td>NaN</td>\n",
       "      <td>2016-03-24 00:00:00</td>\n",
       "      <td>0</td>\n",
       "      <td>70435</td>\n",
       "      <td>2016-04-07 03:16:57</td>\n",
       "    </tr>\n",
       "    <tr>\n",
       "      <th>1</th>\n",
       "      <td>2016-03-24 10:58:45</td>\n",
       "      <td>18300</td>\n",
       "      <td>coupe</td>\n",
       "      <td>2011</td>\n",
       "      <td>manual</td>\n",
       "      <td>190</td>\n",
       "      <td>NaN</td>\n",
       "      <td>125000</td>\n",
       "      <td>5</td>\n",
       "      <td>gasoline</td>\n",
       "      <td>audi</td>\n",
       "      <td>yes</td>\n",
       "      <td>2016-03-24 00:00:00</td>\n",
       "      <td>0</td>\n",
       "      <td>66954</td>\n",
       "      <td>2016-04-07 01:46:50</td>\n",
       "    </tr>\n",
       "    <tr>\n",
       "      <th>2</th>\n",
       "      <td>2016-03-14 12:52:21</td>\n",
       "      <td>9800</td>\n",
       "      <td>suv</td>\n",
       "      <td>2004</td>\n",
       "      <td>auto</td>\n",
       "      <td>163</td>\n",
       "      <td>grand</td>\n",
       "      <td>125000</td>\n",
       "      <td>8</td>\n",
       "      <td>gasoline</td>\n",
       "      <td>jeep</td>\n",
       "      <td>NaN</td>\n",
       "      <td>2016-03-14 00:00:00</td>\n",
       "      <td>0</td>\n",
       "      <td>90480</td>\n",
       "      <td>2016-04-05 12:47:46</td>\n",
       "    </tr>\n",
       "    <tr>\n",
       "      <th>3</th>\n",
       "      <td>2016-03-17 16:54:04</td>\n",
       "      <td>1500</td>\n",
       "      <td>small</td>\n",
       "      <td>2001</td>\n",
       "      <td>manual</td>\n",
       "      <td>75</td>\n",
       "      <td>golf</td>\n",
       "      <td>150000</td>\n",
       "      <td>6</td>\n",
       "      <td>petrol</td>\n",
       "      <td>volkswagen</td>\n",
       "      <td>no</td>\n",
       "      <td>2016-03-17 00:00:00</td>\n",
       "      <td>0</td>\n",
       "      <td>91074</td>\n",
       "      <td>2016-03-17 17:40:17</td>\n",
       "    </tr>\n",
       "    <tr>\n",
       "      <th>4</th>\n",
       "      <td>2016-03-31 17:25:20</td>\n",
       "      <td>3600</td>\n",
       "      <td>small</td>\n",
       "      <td>2008</td>\n",
       "      <td>manual</td>\n",
       "      <td>69</td>\n",
       "      <td>fabia</td>\n",
       "      <td>90000</td>\n",
       "      <td>7</td>\n",
       "      <td>gasoline</td>\n",
       "      <td>skoda</td>\n",
       "      <td>no</td>\n",
       "      <td>2016-03-31 00:00:00</td>\n",
       "      <td>0</td>\n",
       "      <td>60437</td>\n",
       "      <td>2016-04-06 10:17:21</td>\n",
       "    </tr>\n",
       "  </tbody>\n",
       "</table>\n",
       "</div>"
      ],
      "text/plain": [
       "           DateCrawled  Price VehicleType  RegistrationYear Gearbox  Power  \\\n",
       "0  2016-03-24 11:52:17    480         NaN              1993  manual      0   \n",
       "1  2016-03-24 10:58:45  18300       coupe              2011  manual    190   \n",
       "2  2016-03-14 12:52:21   9800         suv              2004    auto    163   \n",
       "3  2016-03-17 16:54:04   1500       small              2001  manual     75   \n",
       "4  2016-03-31 17:25:20   3600       small              2008  manual     69   \n",
       "\n",
       "   Model  Kilometer  RegistrationMonth  FuelType       Brand NotRepaired  \\\n",
       "0   golf     150000                  0    petrol  volkswagen         NaN   \n",
       "1    NaN     125000                  5  gasoline        audi         yes   \n",
       "2  grand     125000                  8  gasoline        jeep         NaN   \n",
       "3   golf     150000                  6    petrol  volkswagen          no   \n",
       "4  fabia      90000                  7  gasoline       skoda          no   \n",
       "\n",
       "           DateCreated  NumberOfPictures  PostalCode             LastSeen  \n",
       "0  2016-03-24 00:00:00                 0       70435  2016-04-07 03:16:57  \n",
       "1  2016-03-24 00:00:00                 0       66954  2016-04-07 01:46:50  \n",
       "2  2016-03-14 00:00:00                 0       90480  2016-04-05 12:47:46  \n",
       "3  2016-03-17 00:00:00                 0       91074  2016-03-17 17:40:17  \n",
       "4  2016-03-31 00:00:00                 0       60437  2016-04-06 10:17:21  "
      ]
     },
     "metadata": {},
     "output_type": "display_data"
    }
   ],
   "source": [
    "#выводим данные на экран\n",
    "display(df.head())"
   ]
  },
  {
   "cell_type": "code",
   "execution_count": 4,
   "metadata": {},
   "outputs": [
    {
     "data": {
      "text/html": [
       "<div>\n",
       "<style scoped>\n",
       "    .dataframe tbody tr th:only-of-type {\n",
       "        vertical-align: middle;\n",
       "    }\n",
       "\n",
       "    .dataframe tbody tr th {\n",
       "        vertical-align: top;\n",
       "    }\n",
       "\n",
       "    .dataframe thead th {\n",
       "        text-align: right;\n",
       "    }\n",
       "</style>\n",
       "<table border=\"1\" class=\"dataframe\">\n",
       "  <thead>\n",
       "    <tr style=\"text-align: right;\">\n",
       "      <th></th>\n",
       "      <th>datecrawled</th>\n",
       "      <th>price</th>\n",
       "      <th>vehicletype</th>\n",
       "      <th>registrationyear</th>\n",
       "      <th>gearbox</th>\n",
       "      <th>power</th>\n",
       "      <th>model</th>\n",
       "      <th>kilometer</th>\n",
       "      <th>registrationmonth</th>\n",
       "      <th>fueltype</th>\n",
       "      <th>brand</th>\n",
       "      <th>notrepaired</th>\n",
       "      <th>datecreated</th>\n",
       "      <th>numberofpictures</th>\n",
       "      <th>postalcode</th>\n",
       "      <th>lastseen</th>\n",
       "    </tr>\n",
       "  </thead>\n",
       "  <tbody>\n",
       "    <tr>\n",
       "      <th>0</th>\n",
       "      <td>2016-03-24 11:52:17</td>\n",
       "      <td>480</td>\n",
       "      <td>NaN</td>\n",
       "      <td>1993</td>\n",
       "      <td>manual</td>\n",
       "      <td>0</td>\n",
       "      <td>golf</td>\n",
       "      <td>150000</td>\n",
       "      <td>0</td>\n",
       "      <td>petrol</td>\n",
       "      <td>volkswagen</td>\n",
       "      <td>NaN</td>\n",
       "      <td>2016-03-24 00:00:00</td>\n",
       "      <td>0</td>\n",
       "      <td>70435</td>\n",
       "      <td>2016-04-07 03:16:57</td>\n",
       "    </tr>\n",
       "    <tr>\n",
       "      <th>1</th>\n",
       "      <td>2016-03-24 10:58:45</td>\n",
       "      <td>18300</td>\n",
       "      <td>coupe</td>\n",
       "      <td>2011</td>\n",
       "      <td>manual</td>\n",
       "      <td>190</td>\n",
       "      <td>NaN</td>\n",
       "      <td>125000</td>\n",
       "      <td>5</td>\n",
       "      <td>gasoline</td>\n",
       "      <td>audi</td>\n",
       "      <td>yes</td>\n",
       "      <td>2016-03-24 00:00:00</td>\n",
       "      <td>0</td>\n",
       "      <td>66954</td>\n",
       "      <td>2016-04-07 01:46:50</td>\n",
       "    </tr>\n",
       "    <tr>\n",
       "      <th>2</th>\n",
       "      <td>2016-03-14 12:52:21</td>\n",
       "      <td>9800</td>\n",
       "      <td>suv</td>\n",
       "      <td>2004</td>\n",
       "      <td>auto</td>\n",
       "      <td>163</td>\n",
       "      <td>grand</td>\n",
       "      <td>125000</td>\n",
       "      <td>8</td>\n",
       "      <td>gasoline</td>\n",
       "      <td>jeep</td>\n",
       "      <td>NaN</td>\n",
       "      <td>2016-03-14 00:00:00</td>\n",
       "      <td>0</td>\n",
       "      <td>90480</td>\n",
       "      <td>2016-04-05 12:47:46</td>\n",
       "    </tr>\n",
       "    <tr>\n",
       "      <th>3</th>\n",
       "      <td>2016-03-17 16:54:04</td>\n",
       "      <td>1500</td>\n",
       "      <td>small</td>\n",
       "      <td>2001</td>\n",
       "      <td>manual</td>\n",
       "      <td>75</td>\n",
       "      <td>golf</td>\n",
       "      <td>150000</td>\n",
       "      <td>6</td>\n",
       "      <td>petrol</td>\n",
       "      <td>volkswagen</td>\n",
       "      <td>no</td>\n",
       "      <td>2016-03-17 00:00:00</td>\n",
       "      <td>0</td>\n",
       "      <td>91074</td>\n",
       "      <td>2016-03-17 17:40:17</td>\n",
       "    </tr>\n",
       "    <tr>\n",
       "      <th>4</th>\n",
       "      <td>2016-03-31 17:25:20</td>\n",
       "      <td>3600</td>\n",
       "      <td>small</td>\n",
       "      <td>2008</td>\n",
       "      <td>manual</td>\n",
       "      <td>69</td>\n",
       "      <td>fabia</td>\n",
       "      <td>90000</td>\n",
       "      <td>7</td>\n",
       "      <td>gasoline</td>\n",
       "      <td>skoda</td>\n",
       "      <td>no</td>\n",
       "      <td>2016-03-31 00:00:00</td>\n",
       "      <td>0</td>\n",
       "      <td>60437</td>\n",
       "      <td>2016-04-06 10:17:21</td>\n",
       "    </tr>\n",
       "  </tbody>\n",
       "</table>\n",
       "</div>"
      ],
      "text/plain": [
       "           datecrawled  price vehicletype  registrationyear gearbox  power  \\\n",
       "0  2016-03-24 11:52:17    480         NaN              1993  manual      0   \n",
       "1  2016-03-24 10:58:45  18300       coupe              2011  manual    190   \n",
       "2  2016-03-14 12:52:21   9800         suv              2004    auto    163   \n",
       "3  2016-03-17 16:54:04   1500       small              2001  manual     75   \n",
       "4  2016-03-31 17:25:20   3600       small              2008  manual     69   \n",
       "\n",
       "   model  kilometer  registrationmonth  fueltype       brand notrepaired  \\\n",
       "0   golf     150000                  0    petrol  volkswagen         NaN   \n",
       "1    NaN     125000                  5  gasoline        audi         yes   \n",
       "2  grand     125000                  8  gasoline        jeep         NaN   \n",
       "3   golf     150000                  6    petrol  volkswagen          no   \n",
       "4  fabia      90000                  7  gasoline       skoda          no   \n",
       "\n",
       "           datecreated  numberofpictures  postalcode             lastseen  \n",
       "0  2016-03-24 00:00:00                 0       70435  2016-04-07 03:16:57  \n",
       "1  2016-03-24 00:00:00                 0       66954  2016-04-07 01:46:50  \n",
       "2  2016-03-14 00:00:00                 0       90480  2016-04-05 12:47:46  \n",
       "3  2016-03-17 00:00:00                 0       91074  2016-03-17 17:40:17  \n",
       "4  2016-03-31 00:00:00                 0       60437  2016-04-06 10:17:21  "
      ]
     },
     "metadata": {},
     "output_type": "display_data"
    }
   ],
   "source": [
    "#В названиях столбцов фигурируют большие буквы, приведем все к строчным значениям во избежание ошибок при обращении к столбцам\n",
    "df.columns = df.columns.str.lower()\n",
    "display(df.head(5))"
   ]
  },
  {
   "cell_type": "code",
   "execution_count": 5,
   "metadata": {},
   "outputs": [
    {
     "name": "stdout",
     "output_type": "stream",
     "text": [
      "<class 'pandas.core.frame.DataFrame'>\n",
      "RangeIndex: 354369 entries, 0 to 354368\n",
      "Data columns (total 16 columns):\n",
      " #   Column             Non-Null Count   Dtype \n",
      "---  ------             --------------   ----- \n",
      " 0   datecrawled        354369 non-null  object\n",
      " 1   price              354369 non-null  int64 \n",
      " 2   vehicletype        316879 non-null  object\n",
      " 3   registrationyear   354369 non-null  int64 \n",
      " 4   gearbox            334536 non-null  object\n",
      " 5   power              354369 non-null  int64 \n",
      " 6   model              334664 non-null  object\n",
      " 7   kilometer          354369 non-null  int64 \n",
      " 8   registrationmonth  354369 non-null  int64 \n",
      " 9   fueltype           321474 non-null  object\n",
      " 10  brand              354369 non-null  object\n",
      " 11  notrepaired        283215 non-null  object\n",
      " 12  datecreated        354369 non-null  object\n",
      " 13  numberofpictures   354369 non-null  int64 \n",
      " 14  postalcode         354369 non-null  int64 \n",
      " 15  lastseen           354369 non-null  object\n",
      "dtypes: int64(7), object(9)\n",
      "memory usage: 43.3+ MB\n"
     ]
    }
   ],
   "source": [
    "#Изучем датасет\n",
    "df.info()"
   ]
  },
  {
   "cell_type": "code",
   "execution_count": 6,
   "metadata": {},
   "outputs": [
    {
     "data": {
      "text/plain": [
       "datecrawled          0.000000\n",
       "price                0.000000\n",
       "vehicletype          0.105794\n",
       "registrationyear     0.000000\n",
       "gearbox              0.055967\n",
       "power                0.000000\n",
       "model                0.055606\n",
       "kilometer            0.000000\n",
       "registrationmonth    0.000000\n",
       "fueltype             0.092827\n",
       "brand                0.000000\n",
       "notrepaired          0.200791\n",
       "datecreated          0.000000\n",
       "numberofpictures     0.000000\n",
       "postalcode           0.000000\n",
       "lastseen             0.000000\n",
       "dtype: float64"
      ]
     },
     "execution_count": 6,
     "metadata": {},
     "output_type": "execute_result"
    }
   ],
   "source": [
    "#рассмотрим количество пропусков в переменных\n",
    "df.isna().mean()"
   ]
  },
  {
   "cell_type": "code",
   "execution_count": 7,
   "metadata": {},
   "outputs": [
    {
     "data": {
      "text/html": [
       "<div>\n",
       "<style scoped>\n",
       "    .dataframe tbody tr th:only-of-type {\n",
       "        vertical-align: middle;\n",
       "    }\n",
       "\n",
       "    .dataframe tbody tr th {\n",
       "        vertical-align: top;\n",
       "    }\n",
       "\n",
       "    .dataframe thead th {\n",
       "        text-align: right;\n",
       "    }\n",
       "</style>\n",
       "<table border=\"1\" class=\"dataframe\">\n",
       "  <thead>\n",
       "    <tr style=\"text-align: right;\">\n",
       "      <th></th>\n",
       "      <th>price</th>\n",
       "      <th>registrationyear</th>\n",
       "      <th>power</th>\n",
       "      <th>kilometer</th>\n",
       "      <th>registrationmonth</th>\n",
       "      <th>numberofpictures</th>\n",
       "      <th>postalcode</th>\n",
       "    </tr>\n",
       "  </thead>\n",
       "  <tbody>\n",
       "    <tr>\n",
       "      <th>count</th>\n",
       "      <td>354369.000000</td>\n",
       "      <td>354369.000000</td>\n",
       "      <td>354369.000000</td>\n",
       "      <td>354369.000000</td>\n",
       "      <td>354369.000000</td>\n",
       "      <td>354369.0</td>\n",
       "      <td>354369.000000</td>\n",
       "    </tr>\n",
       "    <tr>\n",
       "      <th>mean</th>\n",
       "      <td>4416.656776</td>\n",
       "      <td>2004.234448</td>\n",
       "      <td>110.094337</td>\n",
       "      <td>128211.172535</td>\n",
       "      <td>5.714645</td>\n",
       "      <td>0.0</td>\n",
       "      <td>50508.689087</td>\n",
       "    </tr>\n",
       "    <tr>\n",
       "      <th>std</th>\n",
       "      <td>4514.158514</td>\n",
       "      <td>90.227958</td>\n",
       "      <td>189.850405</td>\n",
       "      <td>37905.341530</td>\n",
       "      <td>3.726421</td>\n",
       "      <td>0.0</td>\n",
       "      <td>25783.096248</td>\n",
       "    </tr>\n",
       "    <tr>\n",
       "      <th>min</th>\n",
       "      <td>0.000000</td>\n",
       "      <td>1000.000000</td>\n",
       "      <td>0.000000</td>\n",
       "      <td>5000.000000</td>\n",
       "      <td>0.000000</td>\n",
       "      <td>0.0</td>\n",
       "      <td>1067.000000</td>\n",
       "    </tr>\n",
       "    <tr>\n",
       "      <th>25%</th>\n",
       "      <td>1050.000000</td>\n",
       "      <td>1999.000000</td>\n",
       "      <td>69.000000</td>\n",
       "      <td>125000.000000</td>\n",
       "      <td>3.000000</td>\n",
       "      <td>0.0</td>\n",
       "      <td>30165.000000</td>\n",
       "    </tr>\n",
       "    <tr>\n",
       "      <th>50%</th>\n",
       "      <td>2700.000000</td>\n",
       "      <td>2003.000000</td>\n",
       "      <td>105.000000</td>\n",
       "      <td>150000.000000</td>\n",
       "      <td>6.000000</td>\n",
       "      <td>0.0</td>\n",
       "      <td>49413.000000</td>\n",
       "    </tr>\n",
       "    <tr>\n",
       "      <th>75%</th>\n",
       "      <td>6400.000000</td>\n",
       "      <td>2008.000000</td>\n",
       "      <td>143.000000</td>\n",
       "      <td>150000.000000</td>\n",
       "      <td>9.000000</td>\n",
       "      <td>0.0</td>\n",
       "      <td>71083.000000</td>\n",
       "    </tr>\n",
       "    <tr>\n",
       "      <th>max</th>\n",
       "      <td>20000.000000</td>\n",
       "      <td>9999.000000</td>\n",
       "      <td>20000.000000</td>\n",
       "      <td>150000.000000</td>\n",
       "      <td>12.000000</td>\n",
       "      <td>0.0</td>\n",
       "      <td>99998.000000</td>\n",
       "    </tr>\n",
       "  </tbody>\n",
       "</table>\n",
       "</div>"
      ],
      "text/plain": [
       "               price  registrationyear          power      kilometer  \\\n",
       "count  354369.000000     354369.000000  354369.000000  354369.000000   \n",
       "mean     4416.656776       2004.234448     110.094337  128211.172535   \n",
       "std      4514.158514         90.227958     189.850405   37905.341530   \n",
       "min         0.000000       1000.000000       0.000000    5000.000000   \n",
       "25%      1050.000000       1999.000000      69.000000  125000.000000   \n",
       "50%      2700.000000       2003.000000     105.000000  150000.000000   \n",
       "75%      6400.000000       2008.000000     143.000000  150000.000000   \n",
       "max     20000.000000       9999.000000   20000.000000  150000.000000   \n",
       "\n",
       "       registrationmonth  numberofpictures     postalcode  \n",
       "count      354369.000000          354369.0  354369.000000  \n",
       "mean            5.714645               0.0   50508.689087  \n",
       "std             3.726421               0.0   25783.096248  \n",
       "min             0.000000               0.0    1067.000000  \n",
       "25%             3.000000               0.0   30165.000000  \n",
       "50%             6.000000               0.0   49413.000000  \n",
       "75%             9.000000               0.0   71083.000000  \n",
       "max            12.000000               0.0   99998.000000  "
      ]
     },
     "execution_count": 7,
     "metadata": {},
     "output_type": "execute_result"
    }
   ],
   "source": [
    "df.describe()"
   ]
  },
  {
   "cell_type": "markdown",
   "metadata": {},
   "source": [
    "Вывод: необдходимо\n",
    "удалить ненужные столбцы\n",
    "обработать пропуски vehicletype, gearbox, model, fueltype, notrepaired\n",
    "удалить дубликаты\n",
    "обработать категориальные переменные"
   ]
  },
  {
   "cell_type": "code",
   "execution_count": 8,
   "metadata": {},
   "outputs": [],
   "source": [
    "#обработка пропусков"
   ]
  },
  {
   "cell_type": "code",
   "execution_count": 9,
   "metadata": {},
   "outputs": [
    {
     "name": "stderr",
     "output_type": "stream",
     "text": [
      "/opt/conda/lib/python3.9/site-packages/seaborn/_decorators.py:36: FutureWarning: Pass the following variable as a keyword arg: x. From version 0.12, the only valid positional argument will be `data`, and passing other arguments without an explicit keyword will result in an error or misinterpretation.\n",
      "  warnings.warn(\n"
     ]
    },
    {
     "data": {
      "text/plain": [
       "<AxesSubplot:xlabel='notrepaired', ylabel='count'>"
      ]
     },
     "execution_count": 9,
     "metadata": {},
     "output_type": "execute_result"
    },
    {
     "data": {
      "image/png": "[encoded data removed]",
      "text/plain": [
       "<Figure size 432x288 with 1 Axes>"
      ]
     },
     "metadata": {
      "needs_background": "light"
     },
     "output_type": "display_data"
    }
   ],
   "source": [
    "#изучем переменную notrepaired\n",
    "sns.countplot(df.notrepaired)"
   ]
  },
  {
   "cell_type": "code",
   "execution_count": 10,
   "metadata": {},
   "outputs": [],
   "source": [
    "#переменная включает в себя всего две категории, мы не можем точно указать категорию пропущенных поэтому запишем их как unknown\n",
    "df['notrepaired'] = df['notrepaired'].fillna('unknown')"
   ]
  },
  {
   "cell_type": "code",
   "execution_count": 11,
   "metadata": {},
   "outputs": [],
   "source": [
    "#переменная модель важна для заполнения остальных пропусков, поэтому для более точного заполнения относительно моделей удалим \n",
    "#отсутсвующие значения\n",
    "df = df.dropna(subset=['model'])"
   ]
  },
  {
   "cell_type": "code",
   "execution_count": 12,
   "metadata": {},
   "outputs": [
    {
     "name": "stderr",
     "output_type": "stream",
     "text": [
      "/opt/conda/lib/python3.9/site-packages/seaborn/_decorators.py:36: FutureWarning: Pass the following variable as a keyword arg: x. From version 0.12, the only valid positional argument will be `data`, and passing other arguments without an explicit keyword will result in an error or misinterpretation.\n",
      "  warnings.warn(\n"
     ]
    },
    {
     "data": {
      "text/plain": [
       "<AxesSubplot:xlabel='vehicletype', ylabel='count'>"
      ]
     },
     "execution_count": 12,
     "metadata": {},
     "output_type": "execute_result"
    },
    {
     "data": {
      "image/png": "[encoded data removed]",
      "text/plain": [
       "<Figure size 432x288 with 1 Axes>"
      ]
     },
     "metadata": {
      "needs_background": "light"
     },
     "output_type": "display_data"
    }
   ],
   "source": [
    "#изучим переменную vehicletype\n",
    "sns.countplot(df.vehicletype)"
   ]
  },
  {
   "cell_type": "code",
   "execution_count": 13,
   "metadata": {
    "scrolled": true
   },
   "outputs": [
    {
     "name": "stdout",
     "output_type": "stream",
     "text": [
      "sedan          88119\n",
      "small          76494\n",
      "wagon          62996\n",
      "bus            27794\n",
      "convertible    19319\n",
      "coupe          15239\n",
      "suv            11237\n",
      "other           2804\n",
      "Name: vehicletype, dtype: int64\n"
     ]
    }
   ],
   "source": [
    "print(df['vehicletype'].value_counts())"
   ]
  },
  {
   "cell_type": "code",
   "execution_count": 14,
   "metadata": {},
   "outputs": [],
   "source": [
    "#заполним пропуски наиболее повторяющимися типами относительно бренда и модели\n",
    "df['vehicletype'] = df.groupby(['brand', 'model'])['vehicletype'].transform(lambda x: x.fillna((x.mode()[0])))"
   ]
  },
  {
   "cell_type": "code",
   "execution_count": 15,
   "metadata": {},
   "outputs": [
    {
     "data": {
      "text/plain": [
       "0"
      ]
     },
     "metadata": {},
     "output_type": "display_data"
    }
   ],
   "source": [
    "display(df['vehicletype'].isna().sum())"
   ]
  },
  {
   "cell_type": "code",
   "execution_count": 16,
   "metadata": {},
   "outputs": [
    {
     "name": "stderr",
     "output_type": "stream",
     "text": [
      "/opt/conda/lib/python3.9/site-packages/seaborn/_decorators.py:36: FutureWarning: Pass the following variable as a keyword arg: x. From version 0.12, the only valid positional argument will be `data`, and passing other arguments without an explicit keyword will result in an error or misinterpretation.\n",
      "  warnings.warn(\n"
     ]
    },
    {
     "data": {
      "text/plain": [
       "<AxesSubplot:xlabel='gearbox', ylabel='count'>"
      ]
     },
     "execution_count": 16,
     "metadata": {},
     "output_type": "execute_result"
    },
    {
     "data": {
      "image/png": "[encoded data removed]",
      "text/plain": [
       "<Figure size 432x288 with 1 Axes>"
      ]
     },
     "metadata": {
      "needs_background": "light"
     },
     "output_type": "display_data"
    }
   ],
   "source": [
    "#изучим переменную gearbox\n",
    "sns.countplot(df.gearbox) "
   ]
  },
  {
   "cell_type": "code",
   "execution_count": 17,
   "metadata": {},
   "outputs": [],
   "source": [
    "#заполним пропуски наиболее повторяющимися типами относительно бренда и модели\n",
    "df['gearbox'] = df.groupby(['brand','model'])['gearbox'].transform(lambda x: x.fillna((x.mode()[0])))"
   ]
  },
  {
   "cell_type": "code",
   "execution_count": 18,
   "metadata": {},
   "outputs": [
    {
     "data": {
      "text/plain": [
       "0"
      ]
     },
     "metadata": {},
     "output_type": "display_data"
    }
   ],
   "source": [
    "display(df['gearbox'].isna().sum())"
   ]
  },
  {
   "cell_type": "code",
   "execution_count": 19,
   "metadata": {},
   "outputs": [
    {
     "name": "stderr",
     "output_type": "stream",
     "text": [
      "/opt/conda/lib/python3.9/site-packages/seaborn/_decorators.py:36: FutureWarning: Pass the following variable as a keyword arg: x. From version 0.12, the only valid positional argument will be `data`, and passing other arguments without an explicit keyword will result in an error or misinterpretation.\n",
      "  warnings.warn(\n"
     ]
    },
    {
     "data": {
      "text/plain": [
       "<AxesSubplot:xlabel='fueltype', ylabel='count'>"
      ]
     },
     "execution_count": 19,
     "metadata": {},
     "output_type": "execute_result"
    },
    {
     "data": {
      "image/png": "[encoded data removed]",
      "text/plain": [
       "<Figure size 432x288 with 1 Axes>"
      ]
     },
     "metadata": {
      "needs_background": "light"
     },
     "output_type": "display_data"
    }
   ],
   "source": [
    "#изучим переменную fueltype\n",
    "sns.countplot(df.fueltype) "
   ]
  },
  {
   "cell_type": "code",
   "execution_count": 20,
   "metadata": {},
   "outputs": [],
   "source": [
    "#заполним пропуски наиболее повторяющимися типами относительно бренда и модели\n",
    "df['fueltype'] = df.groupby(['brand','model'])['fueltype'].transform(lambda x: x.fillna((x.mode()[0])))"
   ]
  },
  {
   "cell_type": "code",
   "execution_count": 21,
   "metadata": {},
   "outputs": [
    {
     "data": {
      "text/plain": [
       "0"
      ]
     },
     "metadata": {},
     "output_type": "display_data"
    }
   ],
   "source": [
    "display(df['fueltype'].isna().sum())"
   ]
  },
  {
   "cell_type": "code",
   "execution_count": 22,
   "metadata": {
    "scrolled": true
   },
   "outputs": [
    {
     "data": {
      "text/plain": [
       "datecrawled          0.0\n",
       "price                0.0\n",
       "vehicletype          0.0\n",
       "registrationyear     0.0\n",
       "gearbox              0.0\n",
       "power                0.0\n",
       "model                0.0\n",
       "kilometer            0.0\n",
       "registrationmonth    0.0\n",
       "fueltype             0.0\n",
       "brand                0.0\n",
       "notrepaired          0.0\n",
       "datecreated          0.0\n",
       "numberofpictures     0.0\n",
       "postalcode           0.0\n",
       "lastseen             0.0\n",
       "dtype: float64"
      ]
     },
     "execution_count": 22,
     "metadata": {},
     "output_type": "execute_result"
    }
   ],
   "source": [
    "df.isna().mean()"
   ]
  },
  {
   "cell_type": "markdown",
   "metadata": {},
   "source": [
    "Пропуски обработаны. Далее обработаем аномальные значения."
   ]
  },
  {
   "cell_type": "code",
   "execution_count": 23,
   "metadata": {},
   "outputs": [
    {
     "data": {
      "text/plain": [
       "61207     2014-03-10 00:00:00\n",
       "4001      2015-03-20 00:00:00\n",
       "342275    2015-06-18 00:00:00\n",
       "86601     2015-08-07 00:00:00\n",
       "175103    2015-08-10 00:00:00\n",
       "                 ...         \n",
       "262235    2016-04-07 00:00:00\n",
       "39967     2016-04-07 00:00:00\n",
       "343891    2016-04-07 00:00:00\n",
       "259599    2016-04-07 00:00:00\n",
       "135224    2016-04-07 00:00:00\n",
       "Name: datecreated, Length: 334664, dtype: object"
      ]
     },
     "execution_count": 23,
     "metadata": {},
     "output_type": "execute_result"
    }
   ],
   "source": [
    "#минимальный год решистрации автомобиля 1000, максимальный 9999. Оставим только актуальный диапазон\n",
    "df['datecreated'].sort_values()"
   ]
  },
  {
   "cell_type": "code",
   "execution_count": 24,
   "metadata": {},
   "outputs": [
    {
     "data": {
      "text/plain": [
       "count    334664.000000\n",
       "mean       2003.923992\n",
       "std          69.377219\n",
       "min        1000.000000\n",
       "5%         1993.000000\n",
       "50%        2003.000000\n",
       "max        9999.000000\n",
       "Name: registrationyear, dtype: float64"
      ]
     },
     "execution_count": 24,
     "metadata": {},
     "output_type": "execute_result"
    }
   ],
   "source": [
    "#объявления были созданы до апреля 2016 год, следовательно это верхняя граница диапазона годов,\n",
    "#определим нижнюю границу\n",
    "perc =[.05]\n",
    "df['registrationyear'].describe(percentiles = perc)"
   ]
  },
  {
   "cell_type": "code",
   "execution_count": 25,
   "metadata": {},
   "outputs": [],
   "source": [
    "#основной диапазон данных начинается с 1993 года и заканчивается в 2016\n",
    "df = df.query('registrationyear >= 1993 and registrationyear < 2017')"
   ]
  },
  {
   "cell_type": "code",
   "execution_count": 26,
   "metadata": {},
   "outputs": [
    {
     "data": {
      "text/plain": [
       "(306452, 16)"
      ]
     },
     "execution_count": 26,
     "metadata": {},
     "output_type": "execute_result"
    }
   ],
   "source": [
    "df.shape"
   ]
  },
  {
   "cell_type": "code",
   "execution_count": 27,
   "metadata": {},
   "outputs": [
    {
     "data": {
      "text/html": [
       "<div>\n",
       "<style scoped>\n",
       "    .dataframe tbody tr th:only-of-type {\n",
       "        vertical-align: middle;\n",
       "    }\n",
       "\n",
       "    .dataframe tbody tr th {\n",
       "        vertical-align: top;\n",
       "    }\n",
       "\n",
       "    .dataframe thead th {\n",
       "        text-align: right;\n",
       "    }\n",
       "</style>\n",
       "<table border=\"1\" class=\"dataframe\">\n",
       "  <thead>\n",
       "    <tr style=\"text-align: right;\">\n",
       "      <th></th>\n",
       "      <th>price</th>\n",
       "      <th>registrationyear</th>\n",
       "      <th>power</th>\n",
       "      <th>kilometer</th>\n",
       "      <th>registrationmonth</th>\n",
       "      <th>numberofpictures</th>\n",
       "      <th>postalcode</th>\n",
       "    </tr>\n",
       "  </thead>\n",
       "  <tbody>\n",
       "    <tr>\n",
       "      <th>count</th>\n",
       "      <td>306452.000000</td>\n",
       "      <td>306452.000000</td>\n",
       "      <td>306452.000000</td>\n",
       "      <td>306452.000000</td>\n",
       "      <td>306452.000000</td>\n",
       "      <td>306452.0</td>\n",
       "      <td>306452.000000</td>\n",
       "    </tr>\n",
       "    <tr>\n",
       "      <th>mean</th>\n",
       "      <td>4610.100652</td>\n",
       "      <td>2003.522382</td>\n",
       "      <td>113.329484</td>\n",
       "      <td>128765.189981</td>\n",
       "      <td>5.888547</td>\n",
       "      <td>0.0</td>\n",
       "      <td>50789.335230</td>\n",
       "    </tr>\n",
       "    <tr>\n",
       "      <th>std</th>\n",
       "      <td>4575.519993</td>\n",
       "      <td>5.306357</td>\n",
       "      <td>182.027995</td>\n",
       "      <td>36768.602293</td>\n",
       "      <td>3.662501</td>\n",
       "      <td>0.0</td>\n",
       "      <td>25698.523621</td>\n",
       "    </tr>\n",
       "    <tr>\n",
       "      <th>min</th>\n",
       "      <td>0.000000</td>\n",
       "      <td>1993.000000</td>\n",
       "      <td>0.000000</td>\n",
       "      <td>5000.000000</td>\n",
       "      <td>0.000000</td>\n",
       "      <td>0.0</td>\n",
       "      <td>1067.000000</td>\n",
       "    </tr>\n",
       "    <tr>\n",
       "      <th>25%</th>\n",
       "      <td>1200.000000</td>\n",
       "      <td>1999.000000</td>\n",
       "      <td>75.000000</td>\n",
       "      <td>125000.000000</td>\n",
       "      <td>3.000000</td>\n",
       "      <td>0.0</td>\n",
       "      <td>30539.000000</td>\n",
       "    </tr>\n",
       "    <tr>\n",
       "      <th>50%</th>\n",
       "      <td>2900.000000</td>\n",
       "      <td>2003.000000</td>\n",
       "      <td>105.000000</td>\n",
       "      <td>150000.000000</td>\n",
       "      <td>6.000000</td>\n",
       "      <td>0.0</td>\n",
       "      <td>49632.000000</td>\n",
       "    </tr>\n",
       "    <tr>\n",
       "      <th>75%</th>\n",
       "      <td>6700.000000</td>\n",
       "      <td>2007.000000</td>\n",
       "      <td>143.000000</td>\n",
       "      <td>150000.000000</td>\n",
       "      <td>9.000000</td>\n",
       "      <td>0.0</td>\n",
       "      <td>71263.000000</td>\n",
       "    </tr>\n",
       "    <tr>\n",
       "      <th>max</th>\n",
       "      <td>20000.000000</td>\n",
       "      <td>2016.000000</td>\n",
       "      <td>20000.000000</td>\n",
       "      <td>150000.000000</td>\n",
       "      <td>12.000000</td>\n",
       "      <td>0.0</td>\n",
       "      <td>99998.000000</td>\n",
       "    </tr>\n",
       "  </tbody>\n",
       "</table>\n",
       "</div>"
      ],
      "text/plain": [
       "               price  registrationyear          power      kilometer  \\\n",
       "count  306452.000000     306452.000000  306452.000000  306452.000000   \n",
       "mean     4610.100652       2003.522382     113.329484  128765.189981   \n",
       "std      4575.519993          5.306357     182.027995   36768.602293   \n",
       "min         0.000000       1993.000000       0.000000    5000.000000   \n",
       "25%      1200.000000       1999.000000      75.000000  125000.000000   \n",
       "50%      2900.000000       2003.000000     105.000000  150000.000000   \n",
       "75%      6700.000000       2007.000000     143.000000  150000.000000   \n",
       "max     20000.000000       2016.000000   20000.000000  150000.000000   \n",
       "\n",
       "       registrationmonth  numberofpictures     postalcode  \n",
       "count      306452.000000          306452.0  306452.000000  \n",
       "mean            5.888547               0.0   50789.335230  \n",
       "std             3.662501               0.0   25698.523621  \n",
       "min             0.000000               0.0    1067.000000  \n",
       "25%             3.000000               0.0   30539.000000  \n",
       "50%             6.000000               0.0   49632.000000  \n",
       "75%             9.000000               0.0   71263.000000  \n",
       "max            12.000000               0.0   99998.000000  "
      ]
     },
     "execution_count": 27,
     "metadata": {},
     "output_type": "execute_result"
    }
   ],
   "source": [
    "df.describe()"
   ]
  },
  {
   "cell_type": "code",
   "execution_count": 28,
   "metadata": {},
   "outputs": [
    {
     "data": {
      "text/plain": [
       "(305658, 16)"
      ]
     },
     "execution_count": 28,
     "metadata": {},
     "output_type": "execute_result"
    }
   ],
   "source": [
    "#минимальная цена реализации 0, что выглядит неправдоподобно, удалим строки с нулевой ценой\n",
    "df = df.drop(df.query('price==100').index)\n",
    "df.shape"
   ]
  },
  {
   "cell_type": "code",
   "execution_count": 29,
   "metadata": {},
   "outputs": [
    {
     "data": {
      "text/plain": [
       "<AxesSubplot:>"
      ]
     },
     "execution_count": 29,
     "metadata": {},
     "output_type": "execute_result"
    },
    {
     "data": {
      "image/png": "[encoded data removed]",
      "text/plain": [
       "<Figure size 720x432 with 1 Axes>"
      ]
     },
     "metadata": {
      "needs_background": "light"
     },
     "output_type": "display_data"
    }
   ],
   "source": [
    "#верхняя и нижняя границы показателя мощности аномальны, выберем наиболее правдоподобный диапазон\n",
    "df.boxplot(column = 'power',figsize=(10, 6))"
   ]
  },
  {
   "cell_type": "code",
   "execution_count": 30,
   "metadata": {},
   "outputs": [
    {
     "data": {
      "text/plain": [
       "<AxesSubplot:>"
      ]
     },
     "execution_count": 30,
     "metadata": {},
     "output_type": "execute_result"
    },
    {
     "data": {
      "image/png": "[encoded data removed]",
      "text/plain": [
       "<Figure size 864x432 with 1 Axes>"
      ]
     },
     "metadata": {
      "needs_background": "light"
     },
     "output_type": "display_data"
    }
   ],
   "source": [
    "df['power'].hist(bins = 100,figsize=(12, 6), range=(0,1000))"
   ]
  },
  {
   "cell_type": "code",
   "execution_count": 31,
   "metadata": {},
   "outputs": [],
   "source": [
    "#переменная мощность содержит много выбросов,ограничим диапазон до 500 л.с.\n",
    "df = df.query('power > 0 and power < 500')"
   ]
  },
  {
   "cell_type": "code",
   "execution_count": 32,
   "metadata": {},
   "outputs": [
    {
     "data": {
      "text/plain": [
       "(277433, 16)"
      ]
     },
     "execution_count": 32,
     "metadata": {},
     "output_type": "execute_result"
    }
   ],
   "source": [
    "df.shape"
   ]
  },
  {
   "cell_type": "code",
   "execution_count": 33,
   "metadata": {
    "scrolled": true
   },
   "outputs": [
    {
     "name": "stdout",
     "output_type": "stream",
     "text": [
      "3     28533\n",
      "6     25842\n",
      "4     24039\n",
      "5     24011\n",
      "7     22056\n",
      "10    21837\n",
      "12    20118\n",
      "11    19982\n",
      "9     19965\n",
      "1     18908\n",
      "8     18720\n",
      "2     17776\n",
      "0     15646\n",
      "Name: registrationmonth, dtype: int64\n"
     ]
    }
   ],
   "source": [
    "#изучим месяцы присутсвующие в столбце registrationmonth\n",
    "print(df['registrationmonth'].value_counts())"
   ]
  },
  {
   "cell_type": "code",
   "execution_count": 34,
   "metadata": {},
   "outputs": [],
   "source": [
    "#Удалим столбцы которые не понадабятся нам для исследования\n",
    "df = df.drop(['datecrawled', 'datecreated', 'numberofpictures', 'postalcode', 'lastseen', 'registrationmonth'], axis=1)"
   ]
  },
  {
   "cell_type": "code",
   "execution_count": 35,
   "metadata": {},
   "outputs": [
    {
     "data": {
      "text/plain": [
       "(277433, 10)"
      ]
     },
     "execution_count": 35,
     "metadata": {},
     "output_type": "execute_result"
    }
   ],
   "source": [
    "df.shape"
   ]
  },
  {
   "cell_type": "code",
   "execution_count": 36,
   "metadata": {},
   "outputs": [
    {
     "data": {
      "text/html": [
       "<div>\n",
       "<style scoped>\n",
       "    .dataframe tbody tr th:only-of-type {\n",
       "        vertical-align: middle;\n",
       "    }\n",
       "\n",
       "    .dataframe tbody tr th {\n",
       "        vertical-align: top;\n",
       "    }\n",
       "\n",
       "    .dataframe thead th {\n",
       "        text-align: right;\n",
       "    }\n",
       "</style>\n",
       "<table border=\"1\" class=\"dataframe\">\n",
       "  <thead>\n",
       "    <tr style=\"text-align: right;\">\n",
       "      <th></th>\n",
       "      <th>price</th>\n",
       "      <th>registrationyear</th>\n",
       "      <th>power</th>\n",
       "      <th>kilometer</th>\n",
       "    </tr>\n",
       "  </thead>\n",
       "  <tbody>\n",
       "    <tr>\n",
       "      <th>price</th>\n",
       "      <td>1.000000</td>\n",
       "      <td>0.631006</td>\n",
       "      <td>0.505657</td>\n",
       "      <td>-0.398227</td>\n",
       "    </tr>\n",
       "    <tr>\n",
       "      <th>registrationyear</th>\n",
       "      <td>0.631006</td>\n",
       "      <td>1.000000</td>\n",
       "      <td>0.133305</td>\n",
       "      <td>-0.435036</td>\n",
       "    </tr>\n",
       "    <tr>\n",
       "      <th>power</th>\n",
       "      <td>0.505657</td>\n",
       "      <td>0.133305</td>\n",
       "      <td>1.000000</td>\n",
       "      <td>0.099094</td>\n",
       "    </tr>\n",
       "    <tr>\n",
       "      <th>kilometer</th>\n",
       "      <td>-0.398227</td>\n",
       "      <td>-0.435036</td>\n",
       "      <td>0.099094</td>\n",
       "      <td>1.000000</td>\n",
       "    </tr>\n",
       "  </tbody>\n",
       "</table>\n",
       "</div>"
      ],
      "text/plain": [
       "                     price  registrationyear     power  kilometer\n",
       "price             1.000000          0.631006  0.505657  -0.398227\n",
       "registrationyear  0.631006          1.000000  0.133305  -0.435036\n",
       "power             0.505657          0.133305  1.000000   0.099094\n",
       "kilometer        -0.398227         -0.435036  0.099094   1.000000"
      ]
     },
     "execution_count": 36,
     "metadata": {},
     "output_type": "execute_result"
    }
   ],
   "source": [
    "#изучим взаимосвязь перменных между собой\n",
    "df.corr()"
   ]
  },
  {
   "cell_type": "markdown",
   "metadata": {},
   "source": [
    "ВЫВОД: После обработки данных пришлось удалить довольно большое колечество аномальных данных. Учитывая размер изначального массива информации, вероятно оставшееся количество будет достаточным для дальнейшего исследования.Также были заменениы все пропуски в переменных. Взаимосвязь между переменными оптимальна для построения моделей."
   ]
  },
  {
   "cell_type": "markdown",
   "metadata": {},
   "source": [
    "## Обучение моделей"
   ]
  },
  {
   "cell_type": "code",
   "execution_count": 37,
   "metadata": {},
   "outputs": [],
   "source": [
    "#перекодируем категориальные переменные с помощью LabelEncoder\n",
    "cats_cols = list(df.select_dtypes(include='object').columns)\n",
    "label_encode = LabelEncoder()\n",
    "for column in cats_cols:\n",
    "    label_encode.fit(df[column].astype('str'))\n",
    "    df[column] = label_encode.transform(df[column].astype('str'))"
   ]
  },
  {
   "cell_type": "code",
   "execution_count": 38,
   "metadata": {},
   "outputs": [],
   "source": [
    "#Определяем признаки и целевой признак\n",
    "features = df.drop('price', axis=1)\n",
    "target = df['price']"
   ]
  },
  {
   "cell_type": "code",
   "execution_count": 39,
   "metadata": {},
   "outputs": [],
   "source": [
    "#Делим датасет на выборки\n",
    "X_train, X_test, Y_train, Y_test = train_test_split(features, target, test_size=0.25, random_state=12345)"
   ]
  },
  {
   "cell_type": "code",
   "execution_count": 40,
   "metadata": {},
   "outputs": [],
   "source": [
    "cat_features = ['vehicletype', 'gearbox', 'model', 'fueltype', 'brand', 'notrepaired']"
   ]
  },
  {
   "cell_type": "code",
   "execution_count": 41,
   "metadata": {},
   "outputs": [
    {
     "name": "stdout",
     "output_type": "stream",
     "text": [
      "0:\tlearn: 4544.8978872\ttotal: 104ms\tremaining: 940ms\n",
      "9:\tlearn: 3899.5990827\ttotal: 474ms\tremaining: 0us\n",
      "0:\tlearn: 4548.6210828\ttotal: 48ms\tremaining: 432ms\n",
      "9:\tlearn: 3900.4164449\ttotal: 433ms\tremaining: 0us\n",
      "0:\tlearn: 4556.7786530\ttotal: 47.4ms\tremaining: 427ms\n",
      "9:\tlearn: 3904.9094134\ttotal: 427ms\tremaining: 0us\n",
      "0:\tlearn: 4544.8978872\ttotal: 46.2ms\tremaining: 2.27s\n",
      "10:\tlearn: 3839.8604152\ttotal: 461ms\tremaining: 1.64s\n",
      "20:\tlearn: 3337.2776885\ttotal: 832ms\tremaining: 1.15s\n",
      "30:\tlearn: 2986.5100198\ttotal: 1.21s\tremaining: 742ms\n",
      "40:\tlearn: 2735.7874514\ttotal: 1.58s\tremaining: 348ms\n",
      "49:\tlearn: 2567.6876773\ttotal: 1.92s\tremaining: 0us\n",
      "0:\tlearn: 4548.6210828\ttotal: 50.9ms\tremaining: 2.49s\n",
      "10:\tlearn: 3840.8717870\ttotal: 448ms\tremaining: 1.59s\n",
      "20:\tlearn: 3338.1402152\ttotal: 855ms\tremaining: 1.18s\n",
      "30:\tlearn: 2984.2155947\ttotal: 1.24s\tremaining: 759ms\n",
      "40:\tlearn: 2732.4700922\ttotal: 1.61s\tremaining: 354ms\n",
      "49:\tlearn: 2561.0404933\ttotal: 1.96s\tremaining: 0us\n",
      "0:\tlearn: 4556.7786530\ttotal: 47.4ms\tremaining: 2.32s\n",
      "10:\tlearn: 3844.7747301\ttotal: 451ms\tremaining: 1.6s\n",
      "20:\tlearn: 3342.6667018\ttotal: 816ms\tremaining: 1.13s\n",
      "30:\tlearn: 2991.8288261\ttotal: 1.19s\tremaining: 730ms\n",
      "40:\tlearn: 2737.2498134\ttotal: 1.56s\tremaining: 343ms\n",
      "49:\tlearn: 2568.2857365\ttotal: 1.89s\tremaining: 0us\n",
      "0:\tlearn: 4535.7228146\ttotal: 59.1ms\tremaining: 532ms\n",
      "9:\tlearn: 3828.0144043\ttotal: 539ms\tremaining: 0us\n",
      "0:\tlearn: 4539.1320928\ttotal: 62.3ms\tremaining: 561ms\n",
      "9:\tlearn: 3829.1100153\ttotal: 545ms\tremaining: 0us\n",
      "0:\tlearn: 4547.7195857\ttotal: 65.5ms\tremaining: 589ms\n",
      "9:\tlearn: 3833.5759977\ttotal: 548ms\tremaining: 0us\n",
      "0:\tlearn: 4535.7228146\ttotal: 57.2ms\tremaining: 2.8s\n",
      "10:\tlearn: 3762.5906105\ttotal: 599ms\tremaining: 2.13s\n",
      "20:\tlearn: 3218.1706143\ttotal: 1.13s\tremaining: 1.55s\n",
      "30:\tlearn: 2837.4760010\ttotal: 1.64s\tremaining: 1s\n",
      "40:\tlearn: 2566.1060259\ttotal: 2.19s\tremaining: 481ms\n",
      "49:\tlearn: 2392.1579985\ttotal: 2.75s\tremaining: 0us\n",
      "0:\tlearn: 4539.1320928\ttotal: 71.2ms\tremaining: 3.49s\n",
      "10:\tlearn: 3762.9592198\ttotal: 605ms\tremaining: 2.15s\n",
      "20:\tlearn: 3217.6441264\ttotal: 1.15s\tremaining: 1.59s\n",
      "30:\tlearn: 2841.8740045\ttotal: 1.69s\tremaining: 1.04s\n",
      "40:\tlearn: 2570.1471401\ttotal: 2.29s\tremaining: 502ms\n",
      "49:\tlearn: 2388.8620662\ttotal: 2.8s\tremaining: 0us\n",
      "0:\tlearn: 4547.7195857\ttotal: 70.2ms\tremaining: 3.44s\n",
      "10:\tlearn: 3767.3175376\ttotal: 636ms\tremaining: 2.25s\n",
      "20:\tlearn: 3224.9597081\ttotal: 1.22s\tremaining: 1.68s\n",
      "30:\tlearn: 2841.3637142\ttotal: 1.8s\tremaining: 1.1s\n",
      "40:\tlearn: 2570.2825172\ttotal: 2.33s\tremaining: 513ms\n",
      "49:\tlearn: 2385.8867540\ttotal: 2.78s\tremaining: 0us\n",
      "0:\tlearn: 4527.1057123\ttotal: 97.8ms\tremaining: 880ms\n",
      "9:\tlearn: 3753.1801542\ttotal: 847ms\tremaining: 0us\n",
      "0:\tlearn: 4530.9047814\ttotal: 102ms\tremaining: 914ms\n",
      "9:\tlearn: 3756.0069763\ttotal: 875ms\tremaining: 0us\n",
      "0:\tlearn: 4539.5856583\ttotal: 103ms\tremaining: 923ms\n",
      "9:\tlearn: 3765.1447330\ttotal: 913ms\tremaining: 0us\n",
      "0:\tlearn: 4527.1057123\ttotal: 99.5ms\tremaining: 4.88s\n",
      "10:\tlearn: 3681.6697094\ttotal: 917ms\tremaining: 3.25s\n",
      "20:\tlearn: 3098.0435993\ttotal: 1.75s\tremaining: 2.42s\n",
      "30:\tlearn: 2696.6661489\ttotal: 2.58s\tremaining: 1.58s\n",
      "40:\tlearn: 2405.8124394\ttotal: 3.42s\tremaining: 751ms\n",
      "49:\tlearn: 2220.9778940\ttotal: 4.19s\tremaining: 0us\n",
      "0:\tlearn: 4530.9047814\ttotal: 102ms\tremaining: 5s\n",
      "10:\tlearn: 3684.3824760\ttotal: 969ms\tremaining: 3.44s\n",
      "20:\tlearn: 3100.2794265\ttotal: 1.83s\tremaining: 2.53s\n",
      "30:\tlearn: 2698.4719281\ttotal: 2.69s\tremaining: 1.65s\n",
      "40:\tlearn: 2411.2854068\ttotal: 3.55s\tremaining: 779ms\n",
      "49:\tlearn: 2219.3198382\ttotal: 4.42s\tremaining: 0us\n",
      "0:\tlearn: 4539.5856583\ttotal: 100ms\tremaining: 4.9s\n",
      "10:\tlearn: 3692.5284682\ttotal: 965ms\tremaining: 3.42s\n",
      "20:\tlearn: 3101.7005310\ttotal: 1.79s\tremaining: 2.48s\n",
      "30:\tlearn: 2694.0007295\ttotal: 2.64s\tremaining: 1.62s\n",
      "40:\tlearn: 2406.6571732\ttotal: 3.49s\tremaining: 766ms\n",
      "49:\tlearn: 2215.5351796\ttotal: 4.25s\tremaining: 0us\n",
      "0:\tlearn: 4351.2493622\ttotal: 49.5ms\tremaining: 446ms\n",
      "9:\tlearn: 2897.3776031\ttotal: 417ms\tremaining: 0us\n",
      "0:\tlearn: 4354.7070690\ttotal: 45.3ms\tremaining: 408ms\n",
      "9:\tlearn: 2892.9904122\ttotal: 394ms\tremaining: 0us\n",
      "0:\tlearn: 4361.6427830\ttotal: 48.5ms\tremaining: 436ms\n",
      "9:\tlearn: 2890.9336181\ttotal: 389ms\tremaining: 0us\n",
      "0:\tlearn: 4351.2493622\ttotal: 45.4ms\tremaining: 2.23s\n",
      "10:\tlearn: 2812.2369306\ttotal: 429ms\tremaining: 1.52s\n",
      "20:\tlearn: 2300.2443693\ttotal: 808ms\tremaining: 1.11s\n",
      "30:\tlearn: 2082.4662036\ttotal: 1.19s\tremaining: 727ms\n",
      "40:\tlearn: 1987.7251290\ttotal: 1.61s\tremaining: 354ms\n",
      "49:\tlearn: 1940.2379025\ttotal: 1.96s\tremaining: 0us\n",
      "0:\tlearn: 4354.7070690\ttotal: 47.6ms\tremaining: 2.33s\n",
      "10:\tlearn: 2814.7615567\ttotal: 459ms\tremaining: 1.63s\n",
      "20:\tlearn: 2299.0605879\ttotal: 854ms\tremaining: 1.18s\n",
      "30:\tlearn: 2083.1582601\ttotal: 1.25s\tremaining: 767ms\n",
      "40:\tlearn: 1984.8747101\ttotal: 1.65s\tremaining: 363ms\n",
      "49:\tlearn: 1938.8314115\ttotal: 2.03s\tremaining: 0us\n",
      "0:\tlearn: 4361.6427830\ttotal: 49.7ms\tremaining: 2.44s\n",
      "10:\tlearn: 2811.0436213\ttotal: 463ms\tremaining: 1.64s\n",
      "20:\tlearn: 2299.2926368\ttotal: 848ms\tremaining: 1.17s\n",
      "30:\tlearn: 2087.9505127\ttotal: 1.25s\tremaining: 765ms\n",
      "40:\tlearn: 1989.6472931\ttotal: 1.62s\tremaining: 357ms\n",
      "49:\tlearn: 1943.6789739\ttotal: 1.98s\tremaining: 0us\n",
      "0:\tlearn: 4320.3556719\ttotal: 70.9ms\tremaining: 638ms\n",
      "9:\tlearn: 2736.6555778\ttotal: 558ms\tremaining: 0us\n",
      "0:\tlearn: 4322.7515134\ttotal: 61.5ms\tremaining: 553ms\n",
      "9:\tlearn: 2745.6445843\ttotal: 544ms\tremaining: 0us\n",
      "0:\tlearn: 4331.1337202\ttotal: 60.6ms\tremaining: 546ms\n",
      "9:\tlearn: 2737.4541378\ttotal: 547ms\tremaining: 0us\n",
      "0:\tlearn: 4320.3556719\ttotal: 58.7ms\tremaining: 2.88s\n",
      "10:\tlearn: 2645.6348223\ttotal: 645ms\tremaining: 2.29s\n",
      "20:\tlearn: 2133.4647910\ttotal: 1.22s\tremaining: 1.68s\n",
      "30:\tlearn: 1942.0418261\ttotal: 1.8s\tremaining: 1.1s\n",
      "40:\tlearn: 1870.3846221\ttotal: 2.39s\tremaining: 525ms\n",
      "49:\tlearn: 1835.6841215\ttotal: 2.96s\tremaining: 0us\n",
      "0:\tlearn: 4322.7515134\ttotal: 68.7ms\tremaining: 3.36s\n",
      "10:\tlearn: 2657.8459121\ttotal: 614ms\tremaining: 2.18s\n",
      "20:\tlearn: 2125.1978528\ttotal: 1.17s\tremaining: 1.62s\n",
      "30:\tlearn: 1939.3477753\ttotal: 1.82s\tremaining: 1.11s\n",
      "40:\tlearn: 1868.4128537\ttotal: 2.42s\tremaining: 531ms\n",
      "49:\tlearn: 1832.0447345\ttotal: 2.91s\tremaining: 0us\n",
      "0:\tlearn: 4331.1337202\ttotal: 72.7ms\tremaining: 3.56s\n",
      "10:\tlearn: 2641.4848935\ttotal: 652ms\tremaining: 2.31s\n",
      "20:\tlearn: 2118.4506524\ttotal: 1.16s\tremaining: 1.6s\n",
      "30:\tlearn: 1939.3467654\ttotal: 1.66s\tremaining: 1.02s\n",
      "40:\tlearn: 1867.0270674\ttotal: 2.16s\tremaining: 474ms\n",
      "49:\tlearn: 1831.5323916\ttotal: 2.64s\tremaining: 0us\n",
      "0:\tlearn: 4291.1815209\ttotal: 94.2ms\tremaining: 848ms\n",
      "9:\tlearn: 2598.4013738\ttotal: 914ms\tremaining: 0us\n",
      "0:\tlearn: 4294.8751013\ttotal: 98.1ms\tremaining: 883ms\n",
      "9:\tlearn: 2597.0307889\ttotal: 864ms\tremaining: 0us\n",
      "0:\tlearn: 4303.5767792\ttotal: 93.5ms\tremaining: 842ms\n",
      "9:\tlearn: 2596.4227359\ttotal: 849ms\tremaining: 0us\n",
      "0:\tlearn: 4291.1815209\ttotal: 100ms\tremaining: 4.91s\n",
      "10:\tlearn: 2494.3047893\ttotal: 959ms\tremaining: 3.4s\n",
      "20:\tlearn: 1949.7288283\ttotal: 1.77s\tremaining: 2.45s\n",
      "30:\tlearn: 1785.9608311\ttotal: 2.6s\tremaining: 1.59s\n",
      "40:\tlearn: 1725.5660329\ttotal: 3.43s\tremaining: 754ms\n",
      "49:\tlearn: 1692.6409891\ttotal: 4.17s\tremaining: 0us\n",
      "0:\tlearn: 4294.8751013\ttotal: 95.5ms\tremaining: 4.68s\n",
      "10:\tlearn: 2508.1686334\ttotal: 920ms\tremaining: 3.26s\n",
      "20:\tlearn: 1946.6373481\ttotal: 1.79s\tremaining: 2.47s\n",
      "30:\tlearn: 1783.5670141\ttotal: 2.64s\tremaining: 1.62s\n",
      "40:\tlearn: 1720.1937188\ttotal: 3.53s\tremaining: 775ms\n",
      "49:\tlearn: 1690.9872610\ttotal: 4.34s\tremaining: 0us\n",
      "0:\tlearn: 4303.5767792\ttotal: 101ms\tremaining: 4.92s\n",
      "10:\tlearn: 2504.9228369\ttotal: 951ms\tremaining: 3.37s\n",
      "20:\tlearn: 1949.7279582\ttotal: 1.8s\tremaining: 2.48s\n",
      "30:\tlearn: 1786.3304324\ttotal: 2.66s\tremaining: 1.63s\n",
      "40:\tlearn: 1718.2730961\ttotal: 3.5s\tremaining: 768ms\n",
      "49:\tlearn: 1685.7138748\ttotal: 4.28s\tremaining: 0us\n",
      "0:\tlearn: 4297.6525274\ttotal: 130ms\tremaining: 6.39s\n",
      "10:\tlearn: 2488.0100170\ttotal: 1.37s\tremaining: 4.87s\n",
      "20:\tlearn: 1953.6425592\ttotal: 2.6s\tremaining: 3.59s\n",
      "30:\tlearn: 1789.7884516\ttotal: 3.82s\tremaining: 2.34s\n",
      "40:\tlearn: 1726.3308559\ttotal: 5.02s\tremaining: 1.1s\n",
      "49:\tlearn: 1693.1331423\ttotal: 6.13s\tremaining: 0us\n",
      "Best hyperparams:  {'learning_rate': 0.1, 'max_depth': 10, 'n_estimators': 50}\n",
      "RMSE score on train sample: 1717.65\n",
      "CPU times: user 1min 24s, sys: 651 ms, total: 1min 24s\n",
      "Wall time: 1min 32s\n"
     ]
    }
   ],
   "source": [
    "%%time\n",
    "model = CatBoostRegressor()#построим модель градиентного бустинга catboost\n",
    "params = {'n_estimators' : [10, 50],'learning_rate': [0.03, 0.1],'max_depth' : [4, 6, 10]}#задаем параметры\n",
    "search_results = GridSearchCV(model,params,scoring='neg_mean_squared_error', cv=3)#поиск лучших параметров + перекрёстная проверка \n",
    "search_results.fit(X_train, Y_train, cat_features=cat_features, verbose=10) #обучаем\n",
    "print('Best hyperparams: ', search_results.best_params_)#выводим лучише параметры\n",
    "print('RMSE score on train sample: {:.2f}'.format((-search_results.best_score_) ** 0.5))#считаем rmse\n"
   ]
  },
  {
   "cell_type": "code",
   "execution_count": 42,
   "metadata": {},
   "outputs": [
    {
     "name": "stdout",
     "output_type": "stream",
     "text": [
      "0:\tlearn: 4295.5139367\ttotal: 70.5ms\tremaining: 3.45s\n",
      "10:\tlearn: 2481.3377060\ttotal: 694ms\tremaining: 2.46s\n",
      "20:\tlearn: 1980.3037387\ttotal: 1.32s\tremaining: 1.83s\n",
      "30:\tlearn: 1824.8775744\ttotal: 1.9s\tremaining: 1.17s\n",
      "40:\tlearn: 1756.5920996\ttotal: 2.48s\tremaining: 545ms\n",
      "49:\tlearn: 1719.0243887\ttotal: 3.04s\tremaining: 0us\n",
      "CPU times: user 3.16 s, sys: 24.1 ms, total: 3.19 s\n",
      "Wall time: 3.38 s\n"
     ]
    },
    {
     "data": {
      "text/plain": [
       "<catboost.core.CatBoostRegressor at 0x7f303f99e790>"
      ]
     },
     "execution_count": 42,
     "metadata": {},
     "output_type": "execute_result"
    }
   ],
   "source": [
    "%%time \n",
    "model_cat = CatBoostRegressor(n_estimators = 50,max_depth = 10, learning_rate = 0.1)\n",
    "model_cat.fit(X_train, Y_train,verbose=10)"
   ]
  },
  {
   "cell_type": "code",
   "execution_count": 43,
   "metadata": {},
   "outputs": [
    {
     "name": "stdout",
     "output_type": "stream",
     "text": [
      "Best hyperparams:  {'learning_rate': 0.1, 'max_depth': 10, 'n_estimators': 50, 'num_leaves': 16}\n",
      "RMSE score on train sample: 1824.31\n",
      "CPU times: user 9min 37s, sys: 2.85 s, total: 9min 39s\n",
      "Wall time: 9min 43s\n"
     ]
    }
   ],
   "source": [
    "%%time\n",
    "model_lgb = LGBMRegressor()#построим модель градиентного бустинга LightGBM \n",
    "params_lgb = {'n_estimators' : [10, 50],'learning_rate': [0.03, 0.1],'max_depth' : [4, 6, 10],'num_leaves' : [6,12,16]}#задаем параметры\n",
    "search_results_lgb = GridSearchCV(model_lgb,param_grid=params_lgb,n_jobs=-1,scoring='neg_mean_squared_error', cv=3)#поиск лучших параметров + перекрёстная проверка\n",
    "search_results_lgb.fit(X_train, Y_train)#обучаем\n",
    "print('Best hyperparams: ', search_results_lgb.best_params_)#выводим лучише параметры\n",
    "print('RMSE score on train sample: {:.2f}'.format((-search_results_lgb.best_score_) ** 0.5))#считаем rmse   \n"
   ]
  },
  {
   "cell_type": "code",
   "execution_count": 44,
   "metadata": {},
   "outputs": [
    {
     "name": "stdout",
     "output_type": "stream",
     "text": [
      "CPU times: user 2.23 s, sys: 9.92 ms, total: 2.24 s\n",
      "Wall time: 2.29 s\n"
     ]
    },
    {
     "data": {
      "text/plain": [
       "LGBMRegressor(max_depth=10, n_estimators=50, num_leaves=16)"
      ]
     },
     "execution_count": 44,
     "metadata": {},
     "output_type": "execute_result"
    }
   ],
   "source": [
    "%%time \n",
    "model_lgb = LGBMRegressor(n_estimators = 50,max_depth = 10, learning_rate = 0.1, num_leaves=16)\n",
    "model_lgb.fit(X_train, Y_train)"
   ]
  },
  {
   "cell_type": "code",
   "execution_count": 45,
   "metadata": {},
   "outputs": [
    {
     "name": "stdout",
     "output_type": "stream",
     "text": [
      "Best hyperparams:  {'max_depth': 10, 'min_samples_leaf': 5, 'n_estimators': 50}\n",
      "RMSE score on train sample: 1844.50\n",
      "CPU times: user 2min 35s, sys: 288 ms, total: 2min 35s\n",
      "Wall time: 2min 35s\n"
     ]
    }
   ],
   "source": [
    "%%time\n",
    "from sklearn.ensemble import RandomForestRegressor #построим модель случайного леса\n",
    "model_forest = RandomForestRegressor()\n",
    "params_forest = { 'n_estimators': [10,50],\n",
    "                     'max_depth': [4, 6, 10],\n",
    "                     'min_samples_leaf': [1,5] }#задаем параметры\n",
    "search_results_forest = GridSearchCV(model_forest,params_forest,scoring='neg_mean_squared_error', cv=3)#поиск лучших параметров + перекрёстная проверка\n",
    "search_results_forest.fit(X_train, Y_train)#обучаем\n",
    "print('Best hyperparams: ', search_results_forest.best_params_)#выводим лучише параметры   \n",
    "print('RMSE score on train sample: {:.2f}'.format((-search_results_forest.best_score_) ** 0.5))#считаем rmse "
   ]
  },
  {
   "cell_type": "code",
   "execution_count": 46,
   "metadata": {},
   "outputs": [
    {
     "name": "stdout",
     "output_type": "stream",
     "text": [
      "CPU times: user 13.6 s, sys: 18.3 ms, total: 13.6 s\n",
      "Wall time: 13.6 s\n"
     ]
    },
    {
     "data": {
      "text/plain": [
       "RandomForestRegressor(max_depth=10, min_samples_leaf=5, n_estimators=50)"
      ]
     },
     "execution_count": 46,
     "metadata": {},
     "output_type": "execute_result"
    }
   ],
   "source": [
    "%%time \n",
    "model_forest = RandomForestRegressor(n_estimators = 50, max_depth = 10, min_samples_leaf = 5)\n",
    "model_forest.fit(X_train, Y_train)"
   ]
  },
  {
   "cell_type": "markdown",
   "metadata": {},
   "source": [
    "Вывод:Построили три модели, две градиентного бустинга Catboost и LightGBM и модель случайного леса. Быстрее всех обучилась модель CatBoostRegressor - 8.63s, дольше всех LGBMRegressor - 1min 39s. Качество модели самое лучшее также у Catboost - 1720.28, худшее качество показала модель RandomForestRegressor -1845.54, при этом она оказалась не сильно хуже LGBMRegressor с показателем rmse 1825.23."
   ]
  },
  {
   "cell_type": "markdown",
   "metadata": {},
   "source": [
    "## Анализ моделей"
   ]
  },
  {
   "cell_type": "markdown",
   "metadata": {},
   "source": [
    "Проверим результаты моделей на тестовой выборке, а также проверим их на адекватность с помощью DummyRegressor"
   ]
  },
  {
   "cell_type": "code",
   "execution_count": 53,
   "metadata": {},
   "outputs": [
    {
     "name": "stdout",
     "output_type": "stream",
     "text": [
      "RMSE модели Случайного леса: 1864.0830278668543\n",
      "CPU times: user 13.6 s, sys: 52.8 ms, total: 13.7 s\n",
      "Wall time: 13.7 s\n"
     ]
    }
   ],
   "source": [
    "%%time\n",
    "model_forest = RandomForestRegressor(n_estimators = 50, max_depth = 10, min_samples_leaf = 5)\n",
    "model_forest.fit(X_train, Y_train)\n",
    "model_forest_prediction = model_forest.predict(X_test)\n",
    "\n",
    "model_forest_rmse = mean_squared_error(Y_test, model_forest_prediction) ** 0.5\n",
    "print('RMSE модели Случайного леса:', model_forest_rmse)"
   ]
  },
  {
   "cell_type": "code",
   "execution_count": 54,
   "metadata": {},
   "outputs": [
    {
     "name": "stdout",
     "output_type": "stream",
     "text": [
      "RMSE модели LGB: 1843.6934610393564\n",
      "CPU times: user 1min 31s, sys: 455 ms, total: 1min 31s\n",
      "Wall time: 1min 32s\n"
     ]
    }
   ],
   "source": [
    "%%time\n",
    "model_lgb = LGBMRegressor(n_estimators = 50,max_depth = 10, learning_rate = 0.1, num_leaves=16)\n",
    "model_lgb.fit(X_train, Y_train)\n",
    "model_lgb_prediction = model_lgb.predict(X_test)\n",
    "\n",
    "model_lgb_rmse = mean_squared_error(Y_test, model_lgb_prediction) ** 0.5\n",
    "print('RMSE модели LGB:', model_lgb_rmse)"
   ]
  },
  {
   "cell_type": "code",
   "execution_count": 55,
   "metadata": {},
   "outputs": [
    {
     "name": "stdout",
     "output_type": "stream",
     "text": [
      "0:\tlearn: 4295.5139367\ttotal: 55.4ms\tremaining: 2.71s\n",
      "10:\tlearn: 2481.3377060\ttotal: 714ms\tremaining: 2.53s\n",
      "20:\tlearn: 1980.3037387\ttotal: 1.3s\tremaining: 1.79s\n",
      "30:\tlearn: 1824.8775744\ttotal: 1.88s\tremaining: 1.15s\n",
      "40:\tlearn: 1756.5920996\ttotal: 2.48s\tremaining: 545ms\n",
      "49:\tlearn: 1719.0243887\ttotal: 3s\tremaining: 0us\n",
      "RMSE модели Catboost: 1758.9023232951993\n",
      "CPU times: user 3.17 s, sys: 8.34 ms, total: 3.17 s\n",
      "Wall time: 3.42 s\n"
     ]
    }
   ],
   "source": [
    "%%time\n",
    "model_cat = CatBoostRegressor(n_estimators = 50,max_depth = 10, learning_rate = 0.1)\n",
    "model_cat.fit(X_train, Y_train,verbose=10)\n",
    "model_cat_prediction = model_cat.predict(X_test)\n",
    "\n",
    "model_cat_rmse = mean_squared_error(Y_test, model_cat_prediction) ** 0.5\n",
    "print('RMSE модели Catboost:', model_cat_rmse)"
   ]
  },
  {
   "cell_type": "code",
   "execution_count": 56,
   "metadata": {},
   "outputs": [
    {
     "name": "stdout",
     "output_type": "stream",
     "text": [
      "4935.195194952085\n"
     ]
    }
   ],
   "source": [
    "from sklearn.dummy import DummyRegressor\n",
    "dummy_regressor = DummyRegressor(strategy=\"median\")\n",
    "dummy_regressor.fit(X_train, Y_train)\n",
    "dummy_pred = dummy_regressor.predict(X_test)\n",
    "dummy_rmse = mean_squared_error(Y_test, dummy_pred) ** 0.5\n",
    "print(dummy_rmse)"
   ]
  },
  {
   "cell_type": "code",
   "execution_count": 51,
   "metadata": {},
   "outputs": [],
   "source": [
    "CatBoostquality = (1-1758.23/dummy_rmse)*100\n",
    "LGBMRquality = (1-1846.84/dummy_rmse)*100\n",
    "RandomForestquality = (1-1862.85/dummy_rmse)*100"
   ]
  },
  {
   "cell_type": "code",
   "execution_count": 60,
   "metadata": {},
   "outputs": [
    {
     "data": {
      "text/html": [
       "<div>\n",
       "<style scoped>\n",
       "    .dataframe tbody tr th:only-of-type {\n",
       "        vertical-align: middle;\n",
       "    }\n",
       "\n",
       "    .dataframe tbody tr th {\n",
       "        vertical-align: top;\n",
       "    }\n",
       "\n",
       "    .dataframe thead th {\n",
       "        text-align: right;\n",
       "    }\n",
       "</style>\n",
       "<table border=\"1\" class=\"dataframe\">\n",
       "  <thead>\n",
       "    <tr style=\"text-align: right;\">\n",
       "      <th></th>\n",
       "      <th>Модель</th>\n",
       "      <th>RMSE</th>\n",
       "      <th>Время работы, сек</th>\n",
       "      <th>Качество</th>\n",
       "      <th>Время обучения, сек</th>\n",
       "    </tr>\n",
       "  </thead>\n",
       "  <tbody>\n",
       "    <tr>\n",
       "      <th>0</th>\n",
       "      <td>CatBoostRegressor</td>\n",
       "      <td>1758.90</td>\n",
       "      <td>3.42</td>\n",
       "      <td>64.373648</td>\n",
       "      <td>3.38</td>\n",
       "    </tr>\n",
       "    <tr>\n",
       "      <th>1</th>\n",
       "      <td>LGBMRegressor</td>\n",
       "      <td>1843.69</td>\n",
       "      <td>92.00</td>\n",
       "      <td>62.578177</td>\n",
       "      <td>2.29</td>\n",
       "    </tr>\n",
       "    <tr>\n",
       "      <th>2</th>\n",
       "      <td>RandomForestRegressor</td>\n",
       "      <td>1864.08</td>\n",
       "      <td>13.70</td>\n",
       "      <td>62.253773</td>\n",
       "      <td>13.36</td>\n",
       "    </tr>\n",
       "  </tbody>\n",
       "</table>\n",
       "</div>"
      ],
      "text/plain": [
       "                  Модель     RMSE  Время работы, сек   Качество  \\\n",
       "0      CatBoostRegressor  1758.90               3.42  64.373648   \n",
       "1          LGBMRegressor  1843.69              92.00  62.578177   \n",
       "2  RandomForestRegressor  1864.08              13.70  62.253773   \n",
       "\n",
       "   Время обучения, сек  \n",
       "0                 3.38  \n",
       "1                 2.29  \n",
       "2                13.36  "
      ]
     },
     "metadata": {},
     "output_type": "display_data"
    }
   ],
   "source": [
    "results = {\n",
    "    'Модель' : ['CatBoostRegressor', 'LGBMRegressor', 'RandomForestRegressor'],\n",
    "    'RMSE' :pd.Series([1758.90, 1843.69, 1864.08]),\n",
    "    'Время работы, сек': pd.Series([3.42, 92, 13.7]),\n",
    "    'Качество' : pd.Series([CatBoostquality, LGBMRquality, RandomForestquality]),\n",
    "    'Время обучения, сек': pd.Series([3.38, 2.29, 13.36])\n",
    "    }\n",
    "display(pd.DataFrame(results))\n"
   ]
  },
  {
   "cell_type": "markdown",
   "metadata": {},
   "source": [
    "Вывод: Модель CatBoostRegressor показала лучшее вермя работы и качество предсказаний, LGBMRegressor показала худшее качество чем у CatBoostRegressor, но не сильно лучше чем RandomForestRegressor при этом время работы модели самое долгое. RandomForestRegressor имеет худшее качетсво, но время работы сильно выигрывает по сравнению с LGBMRegressor, поэтому в данном случаее она была бы приемлемее чем LGBMRegressor."
   ]
  },
  {
   "cell_type": "markdown",
   "metadata": {},
   "source": [
    "## ВЫВОД:\n",
    "В ходе исследования:\n",
    "- проведена обработка исходного датасета, а именно удалены аномальные значения и обработаны пропуски;\n",
    "- построены три модели - две градиентного бустинга и одна модель случайного леса;\n",
    "- исходя из показателей важных для заказчика наиболее оптимальной оказалась модель CatBoostRegressor с временем работы 3,42 сек и RMSE 1758.23\n"
   ]
  }
 ],
 "metadata": {
  "ExecuteTimeLog": [
   {
    "duration": 1200,
    "start_time": "2022-05-07T21:26:11.915Z"
   },
   {
    "duration": 767,
    "start_time": "2022-05-07T21:26:13.278Z"
   },
   {
    "duration": 22,
    "start_time": "2022-05-07T21:26:25.145Z"
   },
   {
    "duration": 15,
    "start_time": "2022-05-07T21:26:39.835Z"
   },
   {
    "duration": 3,
    "start_time": "2022-05-07T21:29:26.422Z"
   },
   {
    "duration": 823,
    "start_time": "2022-05-07T21:29:26.487Z"
   },
   {
    "duration": 13,
    "start_time": "2022-05-07T21:29:30.155Z"
   },
   {
    "duration": 14,
    "start_time": "2022-05-07T21:31:52.071Z"
   },
   {
    "duration": 126,
    "start_time": "2022-05-07T21:32:49.799Z"
   },
   {
    "duration": 120,
    "start_time": "2022-05-07T21:49:24.003Z"
   },
   {
    "duration": 90,
    "start_time": "2022-05-07T21:56:10.771Z"
   },
   {
    "duration": 440,
    "start_time": "2022-05-07T21:56:58.665Z"
   },
   {
    "duration": 21,
    "start_time": "2022-05-07T22:06:50.676Z"
   },
   {
    "duration": 1189,
    "start_time": "2022-05-08T22:33:19.370Z"
   },
   {
    "duration": 837,
    "start_time": "2022-05-08T22:33:20.562Z"
   },
   {
    "duration": 23,
    "start_time": "2022-05-08T22:33:21.401Z"
   },
   {
    "duration": 14,
    "start_time": "2022-05-08T22:33:21.433Z"
   },
   {
    "duration": 52,
    "start_time": "2022-05-08T22:33:21.450Z"
   },
   {
    "duration": 110,
    "start_time": "2022-05-08T22:33:21.504Z"
   },
   {
    "duration": 97,
    "start_time": "2022-05-08T22:33:21.616Z"
   },
   {
    "duration": 85,
    "start_time": "2022-05-08T22:33:21.715Z"
   },
   {
    "duration": 203,
    "start_time": "2022-05-08T22:33:21.802Z"
   },
   {
    "duration": 33,
    "start_time": "2022-05-08T22:33:22.007Z"
   },
   {
    "duration": 4,
    "start_time": "2022-05-08T22:34:16.260Z"
   },
   {
    "duration": 794,
    "start_time": "2022-05-08T22:34:16.266Z"
   },
   {
    "duration": 13,
    "start_time": "2022-05-08T22:34:17.062Z"
   },
   {
    "duration": 14,
    "start_time": "2022-05-08T22:34:17.077Z"
   },
   {
    "duration": 149,
    "start_time": "2022-05-08T22:34:17.093Z"
   },
   {
    "duration": 128,
    "start_time": "2022-05-08T22:34:17.244Z"
   },
   {
    "duration": 104,
    "start_time": "2022-05-08T22:34:17.373Z"
   },
   {
    "duration": 429,
    "start_time": "2022-05-08T22:34:17.479Z"
   },
   {
    "duration": 125,
    "start_time": "2022-05-08T22:39:07.025Z"
   },
   {
    "duration": 56,
    "start_time": "2022-05-08T22:39:51.049Z"
   },
   {
    "duration": 10,
    "start_time": "2022-05-08T22:40:27.544Z"
   },
   {
    "duration": 8,
    "start_time": "2022-05-08T22:40:31.663Z"
   },
   {
    "duration": 11,
    "start_time": "2022-05-08T22:40:45.713Z"
   },
   {
    "duration": 8,
    "start_time": "2022-05-08T22:41:01.168Z"
   },
   {
    "duration": 8,
    "start_time": "2022-05-08T22:42:41.483Z"
   },
   {
    "duration": 3,
    "start_time": "2022-05-08T22:43:00.625Z"
   },
   {
    "duration": 871,
    "start_time": "2022-05-08T22:43:00.631Z"
   },
   {
    "duration": 13,
    "start_time": "2022-05-08T22:43:01.504Z"
   },
   {
    "duration": 27,
    "start_time": "2022-05-08T22:43:01.519Z"
   },
   {
    "duration": 146,
    "start_time": "2022-05-08T22:43:01.549Z"
   },
   {
    "duration": 141,
    "start_time": "2022-05-08T22:43:01.697Z"
   },
   {
    "duration": 112,
    "start_time": "2022-05-08T22:43:01.839Z"
   },
   {
    "duration": 90,
    "start_time": "2022-05-08T22:43:04.025Z"
   },
   {
    "duration": 16,
    "start_time": "2022-05-08T22:43:05.232Z"
   },
   {
    "duration": 571,
    "start_time": "2022-05-08T22:47:32.501Z"
   },
   {
    "duration": 822,
    "start_time": "2022-05-08T22:47:33.075Z"
   },
   {
    "duration": 15,
    "start_time": "2022-05-08T22:47:33.899Z"
   },
   {
    "duration": 26,
    "start_time": "2022-05-08T22:47:33.916Z"
   },
   {
    "duration": 134,
    "start_time": "2022-05-08T22:47:33.944Z"
   },
   {
    "duration": 132,
    "start_time": "2022-05-08T22:47:34.080Z"
   },
   {
    "duration": 101,
    "start_time": "2022-05-08T22:47:34.214Z"
   },
   {
    "duration": 86,
    "start_time": "2022-05-08T22:47:34.317Z"
   },
   {
    "duration": 3,
    "start_time": "2022-05-08T22:47:34.405Z"
   },
   {
    "duration": 308,
    "start_time": "2022-05-08T22:47:34.410Z"
   },
   {
    "duration": 25,
    "start_time": "2022-05-08T22:48:51.796Z"
   },
   {
    "duration": 21,
    "start_time": "2022-05-08T22:51:05.238Z"
   },
   {
    "duration": 313,
    "start_time": "2022-05-08T22:52:04.860Z"
   },
   {
    "duration": 5,
    "start_time": "2022-05-08T23:30:17.652Z"
   },
   {
    "duration": 747,
    "start_time": "2022-05-08T23:30:17.659Z"
   },
   {
    "duration": 13,
    "start_time": "2022-05-08T23:30:18.408Z"
   },
   {
    "duration": 17,
    "start_time": "2022-05-08T23:30:18.423Z"
   },
   {
    "duration": 160,
    "start_time": "2022-05-08T23:30:18.442Z"
   },
   {
    "duration": 147,
    "start_time": "2022-05-08T23:30:18.604Z"
   },
   {
    "duration": 103,
    "start_time": "2022-05-08T23:30:18.753Z"
   },
   {
    "duration": 79,
    "start_time": "2022-05-08T23:30:18.858Z"
   },
   {
    "duration": 3,
    "start_time": "2022-05-08T23:30:18.939Z"
   },
   {
    "duration": 276,
    "start_time": "2022-05-08T23:30:18.943Z"
   },
   {
    "duration": 21,
    "start_time": "2022-05-08T23:30:19.233Z"
   },
   {
    "duration": 388,
    "start_time": "2022-05-08T23:30:19.256Z"
   },
   {
    "duration": 294,
    "start_time": "2022-05-08T23:30:22.066Z"
   },
   {
    "duration": 16,
    "start_time": "2022-05-08T23:30:25.976Z"
   },
   {
    "duration": 1125,
    "start_time": "2022-05-08T23:34:36.077Z"
   },
   {
    "duration": 175,
    "start_time": "2022-05-08T23:36:58.837Z"
   },
   {
    "duration": 167,
    "start_time": "2022-05-08T23:37:08.185Z"
   },
   {
    "duration": 966,
    "start_time": "2022-05-08T23:37:31.267Z"
   },
   {
    "duration": 64,
    "start_time": "2022-05-08T23:38:09.358Z"
   },
   {
    "duration": 1048,
    "start_time": "2022-05-08T23:38:31.739Z"
   },
   {
    "duration": 161,
    "start_time": "2022-05-08T23:39:05.584Z"
   },
   {
    "duration": 10,
    "start_time": "2022-05-08T23:39:31.951Z"
   },
   {
    "duration": 35,
    "start_time": "2022-05-08T23:39:57.294Z"
   },
   {
    "duration": 333,
    "start_time": "2022-05-08T23:40:03.536Z"
   },
   {
    "duration": 291,
    "start_time": "2022-05-08T23:40:23.478Z"
   },
   {
    "duration": 31,
    "start_time": "2022-05-08T23:40:24.948Z"
   },
   {
    "duration": 145,
    "start_time": "2022-05-08T23:40:27.124Z"
   },
   {
    "duration": 33,
    "start_time": "2022-05-08T23:40:28.285Z"
   },
   {
    "duration": 4,
    "start_time": "2022-05-08T23:40:40.076Z"
   },
   {
    "duration": 793,
    "start_time": "2022-05-08T23:40:40.082Z"
   },
   {
    "duration": 14,
    "start_time": "2022-05-08T23:40:40.877Z"
   },
   {
    "duration": 14,
    "start_time": "2022-05-08T23:40:40.893Z"
   },
   {
    "duration": 161,
    "start_time": "2022-05-08T23:40:40.910Z"
   },
   {
    "duration": 147,
    "start_time": "2022-05-08T23:40:41.073Z"
   },
   {
    "duration": 96,
    "start_time": "2022-05-08T23:40:41.222Z"
   },
   {
    "duration": 86,
    "start_time": "2022-05-08T23:40:41.320Z"
   },
   {
    "duration": 2,
    "start_time": "2022-05-08T23:40:41.408Z"
   },
   {
    "duration": 290,
    "start_time": "2022-05-08T23:40:41.412Z"
   },
   {
    "duration": 35,
    "start_time": "2022-05-08T23:40:41.704Z"
   },
   {
    "duration": 315,
    "start_time": "2022-05-08T23:40:41.741Z"
   },
   {
    "duration": 33,
    "start_time": "2022-05-08T23:40:42.059Z"
   },
   {
    "duration": 172,
    "start_time": "2022-05-08T23:40:42.094Z"
   },
   {
    "duration": 148,
    "start_time": "2022-05-08T23:40:45.129Z"
   },
   {
    "duration": 33,
    "start_time": "2022-05-08T23:40:48.936Z"
   },
   {
    "duration": 33,
    "start_time": "2022-05-08T23:41:31.569Z"
   },
   {
    "duration": 129,
    "start_time": "2022-05-08T23:41:42.885Z"
   },
   {
    "duration": 1049,
    "start_time": "2022-05-08T23:43:12.478Z"
   },
   {
    "duration": 32,
    "start_time": "2022-05-08T23:43:13.832Z"
   },
   {
    "duration": 161,
    "start_time": "2022-05-08T23:44:52.547Z"
   },
   {
    "duration": 47,
    "start_time": "2022-05-08T23:46:40.886Z"
   },
   {
    "duration": 34,
    "start_time": "2022-05-08T23:46:42.314Z"
   },
   {
    "duration": 136,
    "start_time": "2022-05-08T23:47:11.091Z"
   },
   {
    "duration": 144,
    "start_time": "2022-05-08T23:47:29.565Z"
   },
   {
    "duration": 137,
    "start_time": "2022-05-08T23:47:30.546Z"
   },
   {
    "duration": 17,
    "start_time": "2022-05-08T23:50:46.233Z"
   },
   {
    "duration": 17,
    "start_time": "2022-05-08T23:51:03.172Z"
   },
   {
    "duration": 146,
    "start_time": "2022-05-08T23:51:05.504Z"
   },
   {
    "duration": 17,
    "start_time": "2022-05-08T23:51:06.122Z"
   },
   {
    "duration": 3,
    "start_time": "2022-05-08T23:51:24.814Z"
   },
   {
    "duration": 810,
    "start_time": "2022-05-08T23:51:24.819Z"
   },
   {
    "duration": 15,
    "start_time": "2022-05-08T23:51:25.631Z"
   },
   {
    "duration": 19,
    "start_time": "2022-05-08T23:51:25.647Z"
   },
   {
    "duration": 146,
    "start_time": "2022-05-08T23:51:25.668Z"
   },
   {
    "duration": 134,
    "start_time": "2022-05-08T23:51:25.816Z"
   },
   {
    "duration": 105,
    "start_time": "2022-05-08T23:51:25.951Z"
   },
   {
    "duration": 79,
    "start_time": "2022-05-08T23:51:26.057Z"
   },
   {
    "duration": 2,
    "start_time": "2022-05-08T23:51:26.138Z"
   },
   {
    "duration": 304,
    "start_time": "2022-05-08T23:51:26.142Z"
   },
   {
    "duration": 256,
    "start_time": "2022-05-08T23:51:29.555Z"
   },
   {
    "duration": 22,
    "start_time": "2022-05-08T23:51:31.230Z"
   },
   {
    "duration": 296,
    "start_time": "2022-05-08T23:51:32.594Z"
   },
   {
    "duration": 18,
    "start_time": "2022-05-08T23:51:35.345Z"
   },
   {
    "duration": 157,
    "start_time": "2022-05-08T23:51:36.821Z"
   },
   {
    "duration": 18,
    "start_time": "2022-05-08T23:51:37.595Z"
   },
   {
    "duration": 285,
    "start_time": "2022-05-08T23:52:21.403Z"
   },
   {
    "duration": 142,
    "start_time": "2022-05-08T23:52:34.615Z"
   },
   {
    "duration": 17,
    "start_time": "2022-05-08T23:52:36.841Z"
   },
   {
    "duration": 33,
    "start_time": "2022-05-08T23:53:07.679Z"
   },
   {
    "duration": 187,
    "start_time": "2022-05-08T23:54:00.038Z"
   },
   {
    "duration": 18,
    "start_time": "2022-05-08T23:54:00.752Z"
   },
   {
    "duration": 174,
    "start_time": "2022-05-08T23:54:07.064Z"
   },
   {
    "duration": 123,
    "start_time": "2022-05-08T23:54:13.641Z"
   },
   {
    "duration": 19,
    "start_time": "2022-05-08T23:54:14.994Z"
   },
   {
    "duration": 31,
    "start_time": "2022-05-08T23:54:15.960Z"
   },
   {
    "duration": 18,
    "start_time": "2022-05-08T23:54:39.542Z"
   },
   {
    "duration": 4,
    "start_time": "2022-05-08T23:54:45.149Z"
   },
   {
    "duration": 843,
    "start_time": "2022-05-08T23:54:45.155Z"
   },
   {
    "duration": 15,
    "start_time": "2022-05-08T23:54:46.000Z"
   },
   {
    "duration": 25,
    "start_time": "2022-05-08T23:54:46.017Z"
   },
   {
    "duration": 141,
    "start_time": "2022-05-08T23:54:46.045Z"
   },
   {
    "duration": 138,
    "start_time": "2022-05-08T23:54:46.188Z"
   },
   {
    "duration": 104,
    "start_time": "2022-05-08T23:54:46.334Z"
   },
   {
    "duration": 74,
    "start_time": "2022-05-08T23:54:46.440Z"
   },
   {
    "duration": 3,
    "start_time": "2022-05-08T23:54:46.532Z"
   },
   {
    "duration": 296,
    "start_time": "2022-05-08T23:54:46.537Z"
   },
   {
    "duration": 22,
    "start_time": "2022-05-08T23:54:46.835Z"
   },
   {
    "duration": 444,
    "start_time": "2022-05-08T23:54:46.859Z"
   },
   {
    "duration": 18,
    "start_time": "2022-05-08T23:54:47.305Z"
   },
   {
    "duration": 135,
    "start_time": "2022-05-08T23:54:47.335Z"
   },
   {
    "duration": 121,
    "start_time": "2022-05-08T23:54:50.722Z"
   },
   {
    "duration": 17,
    "start_time": "2022-05-08T23:54:51.671Z"
   },
   {
    "duration": 33,
    "start_time": "2022-05-08T23:54:52.914Z"
   },
   {
    "duration": 3,
    "start_time": "2022-05-08T23:55:13.099Z"
   },
   {
    "duration": 768,
    "start_time": "2022-05-08T23:55:13.104Z"
   },
   {
    "duration": 14,
    "start_time": "2022-05-08T23:55:13.874Z"
   },
   {
    "duration": 23,
    "start_time": "2022-05-08T23:55:13.889Z"
   },
   {
    "duration": 154,
    "start_time": "2022-05-08T23:55:13.914Z"
   },
   {
    "duration": 142,
    "start_time": "2022-05-08T23:55:14.069Z"
   },
   {
    "duration": 101,
    "start_time": "2022-05-08T23:55:14.212Z"
   },
   {
    "duration": 82,
    "start_time": "2022-05-08T23:55:14.315Z"
   },
   {
    "duration": 2,
    "start_time": "2022-05-08T23:55:14.399Z"
   },
   {
    "duration": 285,
    "start_time": "2022-05-08T23:55:14.403Z"
   },
   {
    "duration": 22,
    "start_time": "2022-05-08T23:55:14.690Z"
   },
   {
    "duration": 19,
    "start_time": "2022-05-08T23:55:23.062Z"
   },
   {
    "duration": 297,
    "start_time": "2022-05-08T23:55:23.812Z"
   },
   {
    "duration": 33,
    "start_time": "2022-05-08T23:55:25.418Z"
   },
   {
    "duration": 18,
    "start_time": "2022-05-08T23:55:26.953Z"
   },
   {
    "duration": 125,
    "start_time": "2022-05-08T23:55:27.808Z"
   },
   {
    "duration": 17,
    "start_time": "2022-05-08T23:55:28.586Z"
   },
   {
    "duration": 33,
    "start_time": "2022-05-08T23:55:30.648Z"
   },
   {
    "duration": 2656,
    "start_time": "2022-05-09T12:07:19.008Z"
   },
   {
    "duration": 1628,
    "start_time": "2022-05-09T12:07:21.668Z"
   },
   {
    "duration": 29,
    "start_time": "2022-05-09T12:07:23.299Z"
   },
   {
    "duration": 22,
    "start_time": "2022-05-09T12:07:23.330Z"
   },
   {
    "duration": 173,
    "start_time": "2022-05-09T12:07:23.382Z"
   },
   {
    "duration": 179,
    "start_time": "2022-05-09T12:07:23.557Z"
   },
   {
    "duration": 115,
    "start_time": "2022-05-09T12:07:23.738Z"
   },
   {
    "duration": 126,
    "start_time": "2022-05-09T12:07:23.855Z"
   },
   {
    "duration": 3,
    "start_time": "2022-05-09T12:07:23.983Z"
   },
   {
    "duration": 422,
    "start_time": "2022-05-09T12:07:23.988Z"
   },
   {
    "duration": 29,
    "start_time": "2022-05-09T12:07:24.412Z"
   },
   {
    "duration": 438,
    "start_time": "2022-05-09T12:07:24.443Z"
   },
   {
    "duration": 41,
    "start_time": "2022-05-09T12:07:24.883Z"
   },
   {
    "duration": 21,
    "start_time": "2022-05-09T12:07:24.927Z"
   },
   {
    "duration": 236,
    "start_time": "2022-05-09T12:07:24.950Z"
   },
   {
    "duration": 22,
    "start_time": "2022-05-09T12:07:25.189Z"
   },
   {
    "duration": 43,
    "start_time": "2022-05-09T12:07:25.214Z"
   },
   {
    "duration": 41,
    "start_time": "2022-05-09T12:07:28.865Z"
   },
   {
    "duration": 360,
    "start_time": "2022-05-09T12:07:30.467Z"
   },
   {
    "duration": 978,
    "start_time": "2022-05-09T12:16:12.580Z"
   },
   {
    "duration": 1136,
    "start_time": "2022-05-09T12:16:42.521Z"
   },
   {
    "duration": 11,
    "start_time": "2022-05-09T12:17:13.527Z"
   },
   {
    "duration": 4,
    "start_time": "2022-05-09T12:17:24.435Z"
   },
   {
    "duration": 5,
    "start_time": "2022-05-09T12:17:37.878Z"
   },
   {
    "duration": 5,
    "start_time": "2022-05-09T12:17:50.278Z"
   },
   {
    "duration": 12,
    "start_time": "2022-05-09T12:19:25.961Z"
   },
   {
    "duration": 122,
    "start_time": "2022-05-09T12:19:33.692Z"
   },
   {
    "duration": 20,
    "start_time": "2022-05-09T12:19:34.906Z"
   },
   {
    "duration": 203,
    "start_time": "2022-05-09T12:20:29.862Z"
   },
   {
    "duration": 913,
    "start_time": "2022-05-09T12:25:43.782Z"
   },
   {
    "duration": 5,
    "start_time": "2022-05-09T12:33:15.860Z"
   },
   {
    "duration": 1160,
    "start_time": "2022-05-09T12:33:16.468Z"
   },
   {
    "duration": 21,
    "start_time": "2022-05-09T12:33:17.631Z"
   },
   {
    "duration": 6,
    "start_time": "2022-05-09T12:33:18.662Z"
   },
   {
    "duration": 22,
    "start_time": "2022-05-09T12:33:21.124Z"
   },
   {
    "duration": 28,
    "start_time": "2022-05-09T12:33:34.141Z"
   },
   {
    "duration": 6,
    "start_time": "2022-05-09T12:33:35.093Z"
   },
   {
    "duration": 31,
    "start_time": "2022-05-09T12:33:36.094Z"
   },
   {
    "duration": 6,
    "start_time": "2022-05-09T12:33:54.104Z"
   },
   {
    "duration": 1557,
    "start_time": "2022-05-09T12:33:54.812Z"
   },
   {
    "duration": 34,
    "start_time": "2022-05-09T12:33:56.372Z"
   },
   {
    "duration": 6,
    "start_time": "2022-05-09T12:33:56.676Z"
   },
   {
    "duration": 32,
    "start_time": "2022-05-09T12:33:57.657Z"
   },
   {
    "duration": 21,
    "start_time": "2022-05-09T12:34:16.126Z"
   },
   {
    "duration": 891,
    "start_time": "2022-05-09T12:35:06.071Z"
   },
   {
    "duration": 918,
    "start_time": "2022-05-09T12:35:16.165Z"
   },
   {
    "duration": 3,
    "start_time": "2022-05-09T12:49:54.409Z"
   },
   {
    "duration": 6,
    "start_time": "2022-05-09T12:50:12.129Z"
   },
   {
    "duration": 13,
    "start_time": "2022-05-09T12:50:25.858Z"
   },
   {
    "duration": 14,
    "start_time": "2022-05-09T12:50:37.095Z"
   },
   {
    "duration": 148,
    "start_time": "2022-05-09T12:51:08.907Z"
   },
   {
    "duration": 24,
    "start_time": "2022-05-09T12:51:09.626Z"
   },
   {
    "duration": 184,
    "start_time": "2022-05-09T12:52:04.653Z"
   },
   {
    "duration": 23,
    "start_time": "2022-05-09T12:52:31.044Z"
   },
   {
    "duration": 1652,
    "start_time": "2022-05-09T12:53:09.670Z"
   },
   {
    "duration": 22,
    "start_time": "2022-05-09T12:53:12.731Z"
   },
   {
    "duration": 371,
    "start_time": "2022-05-09T12:53:36.394Z"
   },
   {
    "duration": 6,
    "start_time": "2022-05-09T12:53:56.802Z"
   },
   {
    "duration": 1097,
    "start_time": "2022-05-09T12:53:56.812Z"
   },
   {
    "duration": 22,
    "start_time": "2022-05-09T12:53:57.911Z"
   },
   {
    "duration": 22,
    "start_time": "2022-05-09T12:53:57.936Z"
   },
   {
    "duration": 177,
    "start_time": "2022-05-09T12:53:57.984Z"
   },
   {
    "duration": 173,
    "start_time": "2022-05-09T12:53:58.164Z"
   },
   {
    "duration": 126,
    "start_time": "2022-05-09T12:53:58.339Z"
   },
   {
    "duration": 118,
    "start_time": "2022-05-09T12:53:58.468Z"
   },
   {
    "duration": 2,
    "start_time": "2022-05-09T12:53:58.589Z"
   },
   {
    "duration": 414,
    "start_time": "2022-05-09T12:53:58.595Z"
   },
   {
    "duration": 31,
    "start_time": "2022-05-09T12:53:59.012Z"
   },
   {
    "duration": 446,
    "start_time": "2022-05-09T12:53:59.045Z"
   },
   {
    "duration": 42,
    "start_time": "2022-05-09T12:53:59.493Z"
   },
   {
    "duration": 47,
    "start_time": "2022-05-09T12:53:59.538Z"
   },
   {
    "duration": 189,
    "start_time": "2022-05-09T12:53:59.587Z"
   },
   {
    "duration": 20,
    "start_time": "2022-05-09T12:53:59.779Z"
   },
   {
    "duration": 48,
    "start_time": "2022-05-09T12:53:59.801Z"
   },
   {
    "duration": 392,
    "start_time": "2022-05-09T12:53:59.851Z"
   },
   {
    "duration": 262,
    "start_time": "2022-05-09T12:54:00.245Z"
   },
   {
    "duration": 1,
    "start_time": "2022-05-09T12:54:00.509Z"
   },
   {
    "duration": 187,
    "start_time": "2022-05-09T12:55:33.281Z"
   },
   {
    "duration": 21,
    "start_time": "2022-05-09T12:55:33.964Z"
   },
   {
    "duration": 5327,
    "start_time": "2022-05-09T12:56:49.919Z"
   },
   {
    "duration": 6,
    "start_time": "2022-05-09T12:58:27.647Z"
   },
   {
    "duration": 994,
    "start_time": "2022-05-09T12:58:27.655Z"
   },
   {
    "duration": 19,
    "start_time": "2022-05-09T12:58:28.651Z"
   },
   {
    "duration": 20,
    "start_time": "2022-05-09T12:58:28.682Z"
   },
   {
    "duration": 191,
    "start_time": "2022-05-09T12:58:28.705Z"
   },
   {
    "duration": 166,
    "start_time": "2022-05-09T12:58:28.898Z"
   },
   {
    "duration": 129,
    "start_time": "2022-05-09T12:58:29.067Z"
   },
   {
    "duration": 115,
    "start_time": "2022-05-09T12:58:29.198Z"
   },
   {
    "duration": 4,
    "start_time": "2022-05-09T12:58:29.315Z"
   },
   {
    "duration": 409,
    "start_time": "2022-05-09T12:58:29.322Z"
   },
   {
    "duration": 29,
    "start_time": "2022-05-09T12:58:29.733Z"
   },
   {
    "duration": 416,
    "start_time": "2022-05-09T12:58:29.781Z"
   },
   {
    "duration": 422,
    "start_time": "2022-05-09T12:58:41.854Z"
   },
   {
    "duration": 42,
    "start_time": "2022-05-09T12:58:43.039Z"
   },
   {
    "duration": 22,
    "start_time": "2022-05-09T12:58:44.515Z"
   },
   {
    "duration": 16,
    "start_time": "2022-05-09T12:58:45.354Z"
   },
   {
    "duration": 302,
    "start_time": "2022-05-09T12:59:01.191Z"
   },
   {
    "duration": 2398,
    "start_time": "2022-05-09T12:59:23.801Z"
   },
   {
    "duration": 22,
    "start_time": "2022-05-09T12:59:32.563Z"
   },
   {
    "duration": 2374,
    "start_time": "2022-05-09T12:59:33.326Z"
   },
   {
    "duration": 5,
    "start_time": "2022-05-09T12:59:43.924Z"
   },
   {
    "duration": 979,
    "start_time": "2022-05-09T12:59:43.932Z"
   },
   {
    "duration": 21,
    "start_time": "2022-05-09T12:59:44.913Z"
   },
   {
    "duration": 58,
    "start_time": "2022-05-09T12:59:44.936Z"
   },
   {
    "duration": 187,
    "start_time": "2022-05-09T12:59:44.999Z"
   },
   {
    "duration": 179,
    "start_time": "2022-05-09T12:59:45.189Z"
   },
   {
    "duration": 126,
    "start_time": "2022-05-09T12:59:45.370Z"
   },
   {
    "duration": 113,
    "start_time": "2022-05-09T12:59:45.498Z"
   },
   {
    "duration": 3,
    "start_time": "2022-05-09T12:59:45.614Z"
   },
   {
    "duration": 398,
    "start_time": "2022-05-09T12:59:45.619Z"
   },
   {
    "duration": 29,
    "start_time": "2022-05-09T12:59:46.020Z"
   },
   {
    "duration": 542,
    "start_time": "2022-05-09T12:59:46.051Z"
   },
   {
    "duration": 42,
    "start_time": "2022-05-09T12:59:46.595Z"
   },
   {
    "duration": 42,
    "start_time": "2022-05-09T12:59:54.362Z"
   },
   {
    "duration": 37,
    "start_time": "2022-05-09T12:59:56.884Z"
   },
   {
    "duration": 2424,
    "start_time": "2022-05-09T12:59:57.682Z"
   },
   {
    "duration": 21,
    "start_time": "2022-05-09T13:00:18.854Z"
   },
   {
    "duration": 22,
    "start_time": "2022-05-09T13:01:10.236Z"
   },
   {
    "duration": 105,
    "start_time": "2022-05-09T13:01:11.094Z"
   },
   {
    "duration": 2051,
    "start_time": "2022-05-09T13:01:30.560Z"
   },
   {
    "duration": 21,
    "start_time": "2022-05-09T13:01:35.027Z"
   },
   {
    "duration": 5,
    "start_time": "2022-05-09T13:01:42.425Z"
   },
   {
    "duration": 1664,
    "start_time": "2022-05-09T13:01:42.433Z"
   },
   {
    "duration": 20,
    "start_time": "2022-05-09T13:01:44.099Z"
   },
   {
    "duration": 21,
    "start_time": "2022-05-09T13:01:44.121Z"
   },
   {
    "duration": 268,
    "start_time": "2022-05-09T13:01:44.144Z"
   },
   {
    "duration": 182,
    "start_time": "2022-05-09T13:01:44.415Z"
   },
   {
    "duration": 126,
    "start_time": "2022-05-09T13:01:44.599Z"
   },
   {
    "duration": 115,
    "start_time": "2022-05-09T13:01:44.727Z"
   },
   {
    "duration": 3,
    "start_time": "2022-05-09T13:01:44.844Z"
   },
   {
    "duration": 413,
    "start_time": "2022-05-09T13:01:44.852Z"
   },
   {
    "duration": 32,
    "start_time": "2022-05-09T13:01:45.268Z"
   },
   {
    "duration": 767,
    "start_time": "2022-05-09T13:01:45.303Z"
   },
   {
    "duration": 41,
    "start_time": "2022-05-09T13:01:46.072Z"
   },
   {
    "duration": 47,
    "start_time": "2022-05-09T13:01:54.974Z"
   },
   {
    "duration": 21,
    "start_time": "2022-05-09T13:01:58.180Z"
   },
   {
    "duration": 2220,
    "start_time": "2022-05-09T13:02:07.779Z"
   },
   {
    "duration": 20,
    "start_time": "2022-05-09T13:02:12.365Z"
   },
   {
    "duration": 17403,
    "start_time": "2022-05-09T13:03:18.627Z"
   },
   {
    "duration": 31,
    "start_time": "2022-05-09T13:04:02.401Z"
   },
   {
    "duration": 110,
    "start_time": "2022-05-09T13:04:48.094Z"
   },
   {
    "duration": 1648,
    "start_time": "2022-05-09T13:04:54.460Z"
   },
   {
    "duration": 22,
    "start_time": "2022-05-09T13:04:57.695Z"
   },
   {
    "duration": 31,
    "start_time": "2022-05-09T13:05:00.544Z"
   },
   {
    "duration": 5,
    "start_time": "2022-05-09T13:05:06.221Z"
   },
   {
    "duration": 1036,
    "start_time": "2022-05-09T13:05:06.228Z"
   },
   {
    "duration": 27,
    "start_time": "2022-05-09T13:05:07.266Z"
   },
   {
    "duration": 21,
    "start_time": "2022-05-09T13:05:07.295Z"
   },
   {
    "duration": 210,
    "start_time": "2022-05-09T13:05:07.320Z"
   },
   {
    "duration": 183,
    "start_time": "2022-05-09T13:05:07.532Z"
   },
   {
    "duration": 127,
    "start_time": "2022-05-09T13:05:07.717Z"
   },
   {
    "duration": 123,
    "start_time": "2022-05-09T13:05:07.846Z"
   },
   {
    "duration": 11,
    "start_time": "2022-05-09T13:05:07.972Z"
   },
   {
    "duration": 433,
    "start_time": "2022-05-09T13:05:07.986Z"
   },
   {
    "duration": 30,
    "start_time": "2022-05-09T13:05:08.421Z"
   },
   {
    "duration": 444,
    "start_time": "2022-05-09T13:05:08.453Z"
   },
   {
    "duration": 42,
    "start_time": "2022-05-09T13:05:08.900Z"
   },
   {
    "duration": 43,
    "start_time": "2022-05-09T13:05:11.877Z"
   },
   {
    "duration": 21,
    "start_time": "2022-05-09T13:05:13.408Z"
   },
   {
    "duration": 148,
    "start_time": "2022-05-09T13:05:14.201Z"
   },
   {
    "duration": 5,
    "start_time": "2022-05-09T14:00:49.533Z"
   },
   {
    "duration": 996,
    "start_time": "2022-05-09T14:00:49.540Z"
   },
   {
    "duration": 20,
    "start_time": "2022-05-09T14:00:50.539Z"
   },
   {
    "duration": 41,
    "start_time": "2022-05-09T14:00:50.561Z"
   },
   {
    "duration": 195,
    "start_time": "2022-05-09T14:00:50.606Z"
   },
   {
    "duration": 186,
    "start_time": "2022-05-09T14:00:50.803Z"
   },
   {
    "duration": 121,
    "start_time": "2022-05-09T14:00:50.991Z"
   },
   {
    "duration": 112,
    "start_time": "2022-05-09T14:00:51.114Z"
   },
   {
    "duration": 4,
    "start_time": "2022-05-09T14:00:51.227Z"
   },
   {
    "duration": 416,
    "start_time": "2022-05-09T14:00:51.233Z"
   },
   {
    "duration": 38,
    "start_time": "2022-05-09T14:00:51.651Z"
   },
   {
    "duration": 574,
    "start_time": "2022-05-09T14:00:51.692Z"
   },
   {
    "duration": 47,
    "start_time": "2022-05-09T14:00:52.269Z"
   },
   {
    "duration": 22,
    "start_time": "2022-05-09T14:00:52.318Z"
   },
   {
    "duration": 20,
    "start_time": "2022-05-09T14:00:54.972Z"
   },
   {
    "duration": 145,
    "start_time": "2022-05-09T14:00:55.855Z"
   },
   {
    "duration": 52,
    "start_time": "2022-05-09T14:04:40.538Z"
   },
   {
    "duration": 21,
    "start_time": "2022-05-09T14:05:07.133Z"
   },
   {
    "duration": 5,
    "start_time": "2022-05-09T14:05:25.868Z"
   },
   {
    "duration": 1006,
    "start_time": "2022-05-09T14:05:25.876Z"
   },
   {
    "duration": 22,
    "start_time": "2022-05-09T14:05:26.884Z"
   },
   {
    "duration": 22,
    "start_time": "2022-05-09T14:05:26.908Z"
   },
   {
    "duration": 210,
    "start_time": "2022-05-09T14:05:26.933Z"
   },
   {
    "duration": 181,
    "start_time": "2022-05-09T14:05:27.145Z"
   },
   {
    "duration": 124,
    "start_time": "2022-05-09T14:05:27.329Z"
   },
   {
    "duration": 123,
    "start_time": "2022-05-09T14:05:27.455Z"
   },
   {
    "duration": 3,
    "start_time": "2022-05-09T14:05:27.581Z"
   },
   {
    "duration": 418,
    "start_time": "2022-05-09T14:05:27.586Z"
   },
   {
    "duration": 31,
    "start_time": "2022-05-09T14:05:28.006Z"
   },
   {
    "duration": 451,
    "start_time": "2022-05-09T14:05:28.039Z"
   },
   {
    "duration": 42,
    "start_time": "2022-05-09T14:05:28.492Z"
   },
   {
    "duration": 46,
    "start_time": "2022-05-09T14:05:28.538Z"
   },
   {
    "duration": 50,
    "start_time": "2022-05-09T14:05:28.586Z"
   },
   {
    "duration": 52,
    "start_time": "2022-05-09T14:05:33.555Z"
   },
   {
    "duration": 22,
    "start_time": "2022-05-09T14:05:34.650Z"
   },
   {
    "duration": 473,
    "start_time": "2022-05-09T14:06:00.295Z"
   },
   {
    "duration": 50,
    "start_time": "2022-05-09T14:06:38.402Z"
   },
   {
    "duration": 22,
    "start_time": "2022-05-09T14:06:39.701Z"
   },
   {
    "duration": 470,
    "start_time": "2022-05-09T14:06:41.319Z"
   },
   {
    "duration": 20,
    "start_time": "2022-05-09T14:06:44.441Z"
   },
   {
    "duration": 41,
    "start_time": "2022-05-09T14:06:47.141Z"
   },
   {
    "duration": 470,
    "start_time": "2022-05-09T14:07:50.730Z"
   },
   {
    "duration": 21,
    "start_time": "2022-05-09T14:07:52.209Z"
   },
   {
    "duration": 434,
    "start_time": "2022-05-09T14:11:20.713Z"
   },
   {
    "duration": 472,
    "start_time": "2022-05-09T14:12:20.721Z"
   },
   {
    "duration": 22,
    "start_time": "2022-05-09T14:12:45.865Z"
   },
   {
    "duration": 162,
    "start_time": "2022-05-09T14:13:15.838Z"
   },
   {
    "duration": 420,
    "start_time": "2022-05-09T14:13:47.197Z"
   },
   {
    "duration": 22,
    "start_time": "2022-05-09T14:14:27.483Z"
   },
   {
    "duration": 5,
    "start_time": "2022-05-09T14:16:39.509Z"
   },
   {
    "duration": 1043,
    "start_time": "2022-05-09T14:16:39.517Z"
   },
   {
    "duration": 23,
    "start_time": "2022-05-09T14:16:40.563Z"
   },
   {
    "duration": 21,
    "start_time": "2022-05-09T14:16:40.589Z"
   },
   {
    "duration": 203,
    "start_time": "2022-05-09T14:16:40.612Z"
   },
   {
    "duration": 177,
    "start_time": "2022-05-09T14:16:40.817Z"
   },
   {
    "duration": 123,
    "start_time": "2022-05-09T14:16:40.996Z"
   },
   {
    "duration": 123,
    "start_time": "2022-05-09T14:16:41.121Z"
   },
   {
    "duration": 3,
    "start_time": "2022-05-09T14:16:41.248Z"
   },
   {
    "duration": 556,
    "start_time": "2022-05-09T14:16:41.254Z"
   },
   {
    "duration": 48,
    "start_time": "2022-05-09T14:16:41.813Z"
   },
   {
    "duration": 454,
    "start_time": "2022-05-09T14:16:41.863Z"
   },
   {
    "duration": 42,
    "start_time": "2022-05-09T14:16:42.320Z"
   },
   {
    "duration": 21,
    "start_time": "2022-05-09T14:16:42.381Z"
   },
   {
    "duration": 158,
    "start_time": "2022-05-09T14:16:42.405Z"
   },
   {
    "duration": 0,
    "start_time": "2022-05-09T14:16:42.565Z"
   },
   {
    "duration": 0,
    "start_time": "2022-05-09T14:16:42.567Z"
   },
   {
    "duration": 0,
    "start_time": "2022-05-09T14:16:42.568Z"
   },
   {
    "duration": 0,
    "start_time": "2022-05-09T14:16:42.581Z"
   },
   {
    "duration": 0,
    "start_time": "2022-05-09T14:16:42.583Z"
   },
   {
    "duration": 0,
    "start_time": "2022-05-09T14:16:42.584Z"
   },
   {
    "duration": 0,
    "start_time": "2022-05-09T14:16:42.586Z"
   },
   {
    "duration": 0,
    "start_time": "2022-05-09T14:16:42.587Z"
   },
   {
    "duration": 0,
    "start_time": "2022-05-09T14:16:42.589Z"
   },
   {
    "duration": 0,
    "start_time": "2022-05-09T14:16:42.591Z"
   },
   {
    "duration": 218,
    "start_time": "2022-05-09T14:17:00.983Z"
   },
   {
    "duration": 37,
    "start_time": "2022-05-09T14:17:02.703Z"
   },
   {
    "duration": 906,
    "start_time": "2022-05-09T14:17:03.584Z"
   },
   {
    "duration": 22,
    "start_time": "2022-05-09T14:17:37.293Z"
   },
   {
    "duration": 95,
    "start_time": "2022-05-09T14:17:37.846Z"
   },
   {
    "duration": 91,
    "start_time": "2022-05-09T14:18:50.727Z"
   },
   {
    "duration": 71,
    "start_time": "2022-05-09T14:21:12.861Z"
   },
   {
    "duration": 116,
    "start_time": "2022-05-09T14:23:54.130Z"
   },
   {
    "duration": 71,
    "start_time": "2022-05-09T14:24:44.259Z"
   },
   {
    "duration": 115,
    "start_time": "2022-05-09T14:25:56.649Z"
   },
   {
    "duration": 118,
    "start_time": "2022-05-09T14:26:02.932Z"
   },
   {
    "duration": 119,
    "start_time": "2022-05-09T14:26:41.740Z"
   },
   {
    "duration": 119,
    "start_time": "2022-05-09T14:27:00.220Z"
   },
   {
    "duration": 156,
    "start_time": "2022-05-09T14:27:06.556Z"
   },
   {
    "duration": 6,
    "start_time": "2022-05-09T14:27:38.424Z"
   },
   {
    "duration": 1097,
    "start_time": "2022-05-09T14:27:38.433Z"
   },
   {
    "duration": 21,
    "start_time": "2022-05-09T14:27:39.532Z"
   },
   {
    "duration": 42,
    "start_time": "2022-05-09T14:27:39.555Z"
   },
   {
    "duration": 340,
    "start_time": "2022-05-09T14:27:39.601Z"
   },
   {
    "duration": 323,
    "start_time": "2022-05-09T14:27:39.944Z"
   },
   {
    "duration": 131,
    "start_time": "2022-05-09T14:27:40.270Z"
   },
   {
    "duration": 4,
    "start_time": "2022-05-09T14:27:40.403Z"
   },
   {
    "duration": 390,
    "start_time": "2022-05-09T14:27:40.409Z"
   },
   {
    "duration": 32,
    "start_time": "2022-05-09T14:27:40.802Z"
   },
   {
    "duration": 466,
    "start_time": "2022-05-09T14:27:40.836Z"
   },
   {
    "duration": 43,
    "start_time": "2022-05-09T14:27:41.304Z"
   },
   {
    "duration": 43,
    "start_time": "2022-05-09T14:27:47.053Z"
   },
   {
    "duration": 22,
    "start_time": "2022-05-09T14:27:48.223Z"
   },
   {
    "duration": 146,
    "start_time": "2022-05-09T14:27:49.386Z"
   },
   {
    "duration": 141,
    "start_time": "2022-05-09T14:28:15.791Z"
   },
   {
    "duration": 214,
    "start_time": "2022-05-09T14:28:21.690Z"
   },
   {
    "duration": 23,
    "start_time": "2022-05-09T14:28:24.212Z"
   },
   {
    "duration": 92,
    "start_time": "2022-05-09T14:39:34.625Z"
   },
   {
    "duration": 190,
    "start_time": "2022-05-09T14:39:56.242Z"
   },
   {
    "duration": 173,
    "start_time": "2022-05-09T14:40:27.361Z"
   },
   {
    "duration": 443,
    "start_time": "2022-05-09T14:40:37.630Z"
   },
   {
    "duration": 6,
    "start_time": "2022-05-09T14:41:17.161Z"
   },
   {
    "duration": 1130,
    "start_time": "2022-05-09T14:41:17.169Z"
   },
   {
    "duration": 21,
    "start_time": "2022-05-09T14:41:18.301Z"
   },
   {
    "duration": 24,
    "start_time": "2022-05-09T14:41:18.325Z"
   },
   {
    "duration": 208,
    "start_time": "2022-05-09T14:41:18.352Z"
   },
   {
    "duration": 176,
    "start_time": "2022-05-09T14:41:18.562Z"
   },
   {
    "duration": 129,
    "start_time": "2022-05-09T14:41:18.740Z"
   },
   {
    "duration": 12,
    "start_time": "2022-05-09T14:41:18.871Z"
   },
   {
    "duration": 397,
    "start_time": "2022-05-09T14:41:18.886Z"
   },
   {
    "duration": 31,
    "start_time": "2022-05-09T14:41:19.287Z"
   },
   {
    "duration": 456,
    "start_time": "2022-05-09T14:41:19.321Z"
   },
   {
    "duration": 45,
    "start_time": "2022-05-09T14:41:19.782Z"
   },
   {
    "duration": 27,
    "start_time": "2022-05-09T14:41:19.829Z"
   },
   {
    "duration": 117,
    "start_time": "2022-05-09T14:41:19.882Z"
   },
   {
    "duration": 255,
    "start_time": "2022-05-09T14:41:20.002Z"
   },
   {
    "duration": 163,
    "start_time": "2022-05-09T14:41:31.281Z"
   },
   {
    "duration": 152,
    "start_time": "2022-05-09T14:41:32.395Z"
   },
   {
    "duration": 451,
    "start_time": "2022-05-09T14:41:34.267Z"
   },
   {
    "duration": 22,
    "start_time": "2022-05-09T14:41:39.837Z"
   },
   {
    "duration": 400,
    "start_time": "2022-05-09T14:41:41.585Z"
   },
   {
    "duration": 436,
    "start_time": "2022-05-09T14:41:48.781Z"
   },
   {
    "duration": 21,
    "start_time": "2022-05-09T14:41:50.744Z"
   },
   {
    "duration": 440,
    "start_time": "2022-05-09T14:41:51.981Z"
   },
   {
    "duration": 440,
    "start_time": "2022-05-09T14:41:58.220Z"
   },
   {
    "duration": 22,
    "start_time": "2022-05-09T14:42:02.081Z"
   },
   {
    "duration": 159,
    "start_time": "2022-05-09T14:42:03.227Z"
   },
   {
    "duration": 21,
    "start_time": "2022-05-09T14:42:06.489Z"
   },
   {
    "duration": 156,
    "start_time": "2022-05-09T14:44:00.011Z"
   },
   {
    "duration": 6,
    "start_time": "2022-05-09T14:44:39.050Z"
   },
   {
    "duration": 1122,
    "start_time": "2022-05-09T14:44:39.059Z"
   },
   {
    "duration": 21,
    "start_time": "2022-05-09T14:44:40.184Z"
   },
   {
    "duration": 21,
    "start_time": "2022-05-09T14:44:40.208Z"
   },
   {
    "duration": 203,
    "start_time": "2022-05-09T14:44:40.231Z"
   },
   {
    "duration": 174,
    "start_time": "2022-05-09T14:44:40.436Z"
   },
   {
    "duration": 131,
    "start_time": "2022-05-09T14:44:40.612Z"
   },
   {
    "duration": 4,
    "start_time": "2022-05-09T14:44:40.745Z"
   },
   {
    "duration": 393,
    "start_time": "2022-05-09T14:44:40.752Z"
   },
   {
    "duration": 43,
    "start_time": "2022-05-09T14:44:41.148Z"
   },
   {
    "duration": 552,
    "start_time": "2022-05-09T14:44:41.193Z"
   },
   {
    "duration": 52,
    "start_time": "2022-05-09T14:44:41.747Z"
   },
   {
    "duration": 25,
    "start_time": "2022-05-09T14:44:41.802Z"
   },
   {
    "duration": 130,
    "start_time": "2022-05-09T14:44:41.829Z"
   },
   {
    "duration": 172,
    "start_time": "2022-05-09T14:44:41.962Z"
   },
   {
    "duration": 177,
    "start_time": "2022-05-09T14:44:42.137Z"
   },
   {
    "duration": 688,
    "start_time": "2022-05-09T14:44:42.317Z"
   },
   {
    "duration": 35,
    "start_time": "2022-05-09T14:44:43.007Z"
   },
   {
    "duration": 644,
    "start_time": "2022-05-09T14:44:43.045Z"
   },
   {
    "duration": 696,
    "start_time": "2022-05-09T14:44:43.692Z"
   },
   {
    "duration": 35,
    "start_time": "2022-05-09T14:44:44.391Z"
   },
   {
    "duration": 734,
    "start_time": "2022-05-09T14:44:44.429Z"
   },
   {
    "duration": 1048,
    "start_time": "2022-05-09T14:44:45.166Z"
   },
   {
    "duration": 36,
    "start_time": "2022-05-09T14:44:46.220Z"
   },
   {
    "duration": 35,
    "start_time": "2022-05-09T14:44:49.913Z"
   },
   {
    "duration": 281,
    "start_time": "2022-05-09T14:44:50.725Z"
   },
   {
    "duration": 56,
    "start_time": "2022-05-09T14:48:36.463Z"
   },
   {
    "duration": 11,
    "start_time": "2022-05-09T14:48:58.592Z"
   },
   {
    "duration": 6,
    "start_time": "2022-05-09T14:49:04.793Z"
   },
   {
    "duration": 85,
    "start_time": "2022-05-09T14:49:30.944Z"
   },
   {
    "duration": 47,
    "start_time": "2022-05-09T14:51:58.557Z"
   },
   {
    "duration": 53,
    "start_time": "2022-05-09T14:52:05.731Z"
   },
   {
    "duration": 1633,
    "start_time": "2022-05-09T21:56:44.627Z"
   },
   {
    "duration": 863,
    "start_time": "2022-05-09T21:56:46.263Z"
   },
   {
    "duration": 20,
    "start_time": "2022-05-09T21:56:47.127Z"
   },
   {
    "duration": 12,
    "start_time": "2022-05-09T21:56:47.149Z"
   },
   {
    "duration": 128,
    "start_time": "2022-05-09T21:56:47.162Z"
   },
   {
    "duration": 115,
    "start_time": "2022-05-09T21:56:47.292Z"
   },
   {
    "duration": 91,
    "start_time": "2022-05-09T21:56:47.409Z"
   },
   {
    "duration": 3,
    "start_time": "2022-05-09T21:56:47.501Z"
   },
   {
    "duration": 258,
    "start_time": "2022-05-09T21:56:47.505Z"
   },
   {
    "duration": 21,
    "start_time": "2022-05-09T21:56:47.766Z"
   },
   {
    "duration": 283,
    "start_time": "2022-05-09T21:56:47.788Z"
   },
   {
    "duration": 30,
    "start_time": "2022-05-09T21:56:48.072Z"
   },
   {
    "duration": 17,
    "start_time": "2022-05-09T21:56:48.104Z"
   },
   {
    "duration": 87,
    "start_time": "2022-05-09T21:56:48.123Z"
   },
   {
    "duration": 114,
    "start_time": "2022-05-09T21:56:48.211Z"
   },
   {
    "duration": 109,
    "start_time": "2022-05-09T21:56:48.326Z"
   },
   {
    "duration": 263,
    "start_time": "2022-05-09T21:56:48.437Z"
   },
   {
    "duration": 16,
    "start_time": "2022-05-09T21:56:48.701Z"
   },
   {
    "duration": 245,
    "start_time": "2022-05-09T21:56:48.718Z"
   },
   {
    "duration": 256,
    "start_time": "2022-05-09T21:56:48.964Z"
   },
   {
    "duration": 16,
    "start_time": "2022-05-09T21:56:49.221Z"
   },
   {
    "duration": 277,
    "start_time": "2022-05-09T21:56:49.238Z"
   },
   {
    "duration": 326,
    "start_time": "2022-05-09T21:56:49.517Z"
   },
   {
    "duration": 15,
    "start_time": "2022-05-09T21:56:49.848Z"
   },
   {
    "duration": 115,
    "start_time": "2022-05-09T21:56:49.864Z"
   },
   {
    "duration": 34,
    "start_time": "2022-05-09T21:56:49.981Z"
   },
   {
    "duration": 3,
    "start_time": "2022-05-09T21:56:50.017Z"
   },
   {
    "duration": 82,
    "start_time": "2022-05-09T21:56:50.023Z"
   },
   {
    "duration": 51,
    "start_time": "2022-05-09T21:56:50.107Z"
   },
   {
    "duration": 102,
    "start_time": "2022-05-09T21:57:22.514Z"
   },
   {
    "duration": 6,
    "start_time": "2022-05-09T21:57:36.426Z"
   },
   {
    "duration": 1575,
    "start_time": "2022-05-09T22:02:41.130Z"
   },
   {
    "duration": 1642,
    "start_time": "2022-05-09T22:03:40.951Z"
   },
   {
    "duration": 3,
    "start_time": "2022-05-09T22:03:48.411Z"
   },
   {
    "duration": 694,
    "start_time": "2022-05-09T22:03:48.416Z"
   },
   {
    "duration": 13,
    "start_time": "2022-05-09T22:03:49.112Z"
   },
   {
    "duration": 23,
    "start_time": "2022-05-09T22:03:49.126Z"
   },
   {
    "duration": 124,
    "start_time": "2022-05-09T22:03:49.151Z"
   },
   {
    "duration": 120,
    "start_time": "2022-05-09T22:03:49.277Z"
   },
   {
    "duration": 84,
    "start_time": "2022-05-09T22:03:49.399Z"
   },
   {
    "duration": 2,
    "start_time": "2022-05-09T22:03:49.485Z"
   },
   {
    "duration": 237,
    "start_time": "2022-05-09T22:03:49.489Z"
   },
   {
    "duration": 28,
    "start_time": "2022-05-09T22:03:49.728Z"
   },
   {
    "duration": 270,
    "start_time": "2022-05-09T22:03:49.758Z"
   },
   {
    "duration": 38,
    "start_time": "2022-05-09T22:03:50.030Z"
   },
   {
    "duration": 15,
    "start_time": "2022-05-09T22:03:50.071Z"
   },
   {
    "duration": 78,
    "start_time": "2022-05-09T22:03:50.088Z"
   },
   {
    "duration": 115,
    "start_time": "2022-05-09T22:03:50.168Z"
   },
   {
    "duration": 114,
    "start_time": "2022-05-09T22:03:50.285Z"
   },
   {
    "duration": 253,
    "start_time": "2022-05-09T22:03:50.400Z"
   },
   {
    "duration": 15,
    "start_time": "2022-05-09T22:03:50.654Z"
   },
   {
    "duration": 242,
    "start_time": "2022-05-09T22:03:50.670Z"
   },
   {
    "duration": 254,
    "start_time": "2022-05-09T22:03:50.913Z"
   },
   {
    "duration": 16,
    "start_time": "2022-05-09T22:03:51.169Z"
   },
   {
    "duration": 281,
    "start_time": "2022-05-09T22:03:51.187Z"
   },
   {
    "duration": 253,
    "start_time": "2022-05-09T22:03:51.469Z"
   },
   {
    "duration": 14,
    "start_time": "2022-05-09T22:03:51.724Z"
   },
   {
    "duration": 119,
    "start_time": "2022-05-09T22:03:51.740Z"
   },
   {
    "duration": 229,
    "start_time": "2022-05-09T22:03:55.094Z"
   },
   {
    "duration": 10,
    "start_time": "2022-05-09T22:07:23.074Z"
   },
   {
    "duration": 10,
    "start_time": "2022-05-09T22:07:36.025Z"
   },
   {
    "duration": 10,
    "start_time": "2022-05-09T22:12:35.243Z"
   },
   {
    "duration": 16,
    "start_time": "2022-05-09T22:13:21.566Z"
   },
   {
    "duration": 16,
    "start_time": "2022-05-09T22:13:50.522Z"
   },
   {
    "duration": 15,
    "start_time": "2022-05-09T22:14:12.226Z"
   },
   {
    "duration": 49,
    "start_time": "2022-05-09T22:18:03.718Z"
   },
   {
    "duration": 4,
    "start_time": "2022-05-09T22:18:25.165Z"
   },
   {
    "duration": 4,
    "start_time": "2022-05-09T22:19:12.371Z"
   },
   {
    "duration": 33,
    "start_time": "2022-05-09T22:19:14.108Z"
   },
   {
    "duration": 4,
    "start_time": "2022-05-09T22:19:14.864Z"
   },
   {
    "duration": 58,
    "start_time": "2022-05-09T22:19:17.351Z"
   },
   {
    "duration": 36,
    "start_time": "2022-05-09T22:19:26.549Z"
   },
   {
    "duration": 3,
    "start_time": "2022-05-09T22:20:58.117Z"
   },
   {
    "duration": 1056,
    "start_time": "2022-05-09T22:20:58.123Z"
   },
   {
    "duration": 19,
    "start_time": "2022-05-09T22:20:59.181Z"
   },
   {
    "duration": 21,
    "start_time": "2022-05-09T22:20:59.203Z"
   },
   {
    "duration": 243,
    "start_time": "2022-05-09T22:20:59.226Z"
   },
   {
    "duration": 249,
    "start_time": "2022-05-09T22:20:59.471Z"
   },
   {
    "duration": 111,
    "start_time": "2022-05-09T22:20:59.722Z"
   },
   {
    "duration": 2,
    "start_time": "2022-05-09T22:20:59.835Z"
   },
   {
    "duration": 406,
    "start_time": "2022-05-09T22:20:59.849Z"
   },
   {
    "duration": 34,
    "start_time": "2022-05-09T22:21:00.257Z"
   },
   {
    "duration": 282,
    "start_time": "2022-05-09T22:21:00.293Z"
   },
   {
    "duration": 31,
    "start_time": "2022-05-09T22:21:00.576Z"
   },
   {
    "duration": 23,
    "start_time": "2022-05-09T22:21:00.608Z"
   },
   {
    "duration": 81,
    "start_time": "2022-05-09T22:21:00.633Z"
   },
   {
    "duration": 119,
    "start_time": "2022-05-09T22:21:00.715Z"
   },
   {
    "duration": 118,
    "start_time": "2022-05-09T22:21:00.836Z"
   },
   {
    "duration": 267,
    "start_time": "2022-05-09T22:21:00.955Z"
   },
   {
    "duration": 23,
    "start_time": "2022-05-09T22:21:01.224Z"
   },
   {
    "duration": 250,
    "start_time": "2022-05-09T22:21:01.249Z"
   },
   {
    "duration": 263,
    "start_time": "2022-05-09T22:21:01.501Z"
   },
   {
    "duration": 15,
    "start_time": "2022-05-09T22:21:01.766Z"
   },
   {
    "duration": 284,
    "start_time": "2022-05-09T22:21:01.783Z"
   },
   {
    "duration": 255,
    "start_time": "2022-05-09T22:21:02.068Z"
   },
   {
    "duration": 22,
    "start_time": "2022-05-09T22:21:02.325Z"
   },
   {
    "duration": 119,
    "start_time": "2022-05-09T22:21:02.349Z"
   },
   {
    "duration": 256,
    "start_time": "2022-05-09T22:21:02.470Z"
   },
   {
    "duration": 24,
    "start_time": "2022-05-09T22:21:02.728Z"
   },
   {
    "duration": 51,
    "start_time": "2022-05-09T22:21:02.754Z"
   },
   {
    "duration": 4,
    "start_time": "2022-05-09T22:21:02.806Z"
   },
   {
    "duration": 90,
    "start_time": "2022-05-09T22:21:02.812Z"
   },
   {
    "duration": 68,
    "start_time": "2022-05-09T22:21:02.904Z"
   },
   {
    "duration": 9,
    "start_time": "2022-05-09T22:34:52.724Z"
   },
   {
    "duration": 287,
    "start_time": "2022-05-09T22:34:57.568Z"
   },
   {
    "duration": 211,
    "start_time": "2022-05-09T22:35:46.573Z"
   },
   {
    "duration": 230,
    "start_time": "2022-05-09T22:35:56.059Z"
   },
   {
    "duration": 148,
    "start_time": "2022-05-09T22:36:21.784Z"
   },
   {
    "duration": 139,
    "start_time": "2022-05-09T22:36:28.714Z"
   },
   {
    "duration": 302,
    "start_time": "2022-05-09T22:40:23.249Z"
   },
   {
    "duration": 291,
    "start_time": "2022-05-09T22:40:35.574Z"
   },
   {
    "duration": 325,
    "start_time": "2022-05-09T22:40:42.040Z"
   },
   {
    "duration": 286,
    "start_time": "2022-05-09T22:40:48.640Z"
   },
   {
    "duration": 218,
    "start_time": "2022-05-09T22:42:06.264Z"
   },
   {
    "duration": 298,
    "start_time": "2022-05-09T22:42:19.099Z"
   },
   {
    "duration": 425,
    "start_time": "2022-05-09T22:43:07.182Z"
   },
   {
    "duration": 277,
    "start_time": "2022-05-09T22:43:27.647Z"
   },
   {
    "duration": 221,
    "start_time": "2022-05-09T22:43:34.214Z"
   },
   {
    "duration": 238,
    "start_time": "2022-05-09T22:43:49.401Z"
   },
   {
    "duration": 40,
    "start_time": "2022-05-09T22:47:22.697Z"
   },
   {
    "duration": 3,
    "start_time": "2022-05-09T22:47:34.589Z"
   },
   {
    "duration": 5,
    "start_time": "2022-05-09T22:54:44.098Z"
   },
   {
    "duration": 6,
    "start_time": "2022-05-09T22:54:46.962Z"
   },
   {
    "duration": 6,
    "start_time": "2022-05-09T22:55:01.792Z"
   },
   {
    "duration": 5,
    "start_time": "2022-05-09T22:55:16.193Z"
   },
   {
    "duration": 5,
    "start_time": "2022-05-09T22:55:16.816Z"
   },
   {
    "duration": 5,
    "start_time": "2022-05-09T22:55:36.409Z"
   },
   {
    "duration": 5,
    "start_time": "2022-05-09T22:55:44.109Z"
   },
   {
    "duration": 8,
    "start_time": "2022-05-09T22:55:45.158Z"
   },
   {
    "duration": 6,
    "start_time": "2022-05-09T22:56:58.854Z"
   },
   {
    "duration": 4,
    "start_time": "2022-05-09T22:56:59.635Z"
   },
   {
    "duration": 29,
    "start_time": "2022-05-09T22:57:17.576Z"
   },
   {
    "duration": 4,
    "start_time": "2022-05-09T22:57:27.803Z"
   },
   {
    "duration": 11,
    "start_time": "2022-05-09T23:02:23.590Z"
   },
   {
    "duration": 36,
    "start_time": "2022-05-09T23:03:41.683Z"
   },
   {
    "duration": 3,
    "start_time": "2022-05-09T23:03:58.716Z"
   },
   {
    "duration": 757,
    "start_time": "2022-05-09T23:03:58.722Z"
   },
   {
    "duration": 11,
    "start_time": "2022-05-09T23:03:59.481Z"
   },
   {
    "duration": 14,
    "start_time": "2022-05-09T23:03:59.494Z"
   },
   {
    "duration": 145,
    "start_time": "2022-05-09T23:03:59.510Z"
   },
   {
    "duration": 127,
    "start_time": "2022-05-09T23:03:59.657Z"
   },
   {
    "duration": 89,
    "start_time": "2022-05-09T23:03:59.786Z"
   },
   {
    "duration": 2,
    "start_time": "2022-05-09T23:03:59.877Z"
   },
   {
    "duration": 250,
    "start_time": "2022-05-09T23:03:59.880Z"
   },
   {
    "duration": 33,
    "start_time": "2022-05-09T23:04:00.131Z"
   },
   {
    "duration": 273,
    "start_time": "2022-05-09T23:04:00.165Z"
   },
   {
    "duration": 36,
    "start_time": "2022-05-09T23:04:00.439Z"
   },
   {
    "duration": 24,
    "start_time": "2022-05-09T23:04:00.476Z"
   },
   {
    "duration": 84,
    "start_time": "2022-05-09T23:04:00.503Z"
   },
   {
    "duration": 133,
    "start_time": "2022-05-09T23:04:00.589Z"
   },
   {
    "duration": 128,
    "start_time": "2022-05-09T23:04:00.724Z"
   },
   {
    "duration": 414,
    "start_time": "2022-05-09T23:04:00.853Z"
   },
   {
    "duration": 14,
    "start_time": "2022-05-09T23:04:01.269Z"
   },
   {
    "duration": 250,
    "start_time": "2022-05-09T23:04:01.285Z"
   },
   {
    "duration": 265,
    "start_time": "2022-05-09T23:04:01.537Z"
   },
   {
    "duration": 15,
    "start_time": "2022-05-09T23:04:01.803Z"
   },
   {
    "duration": 474,
    "start_time": "2022-05-09T23:04:01.820Z"
   },
   {
    "duration": 431,
    "start_time": "2022-05-09T23:04:02.296Z"
   },
   {
    "duration": 31,
    "start_time": "2022-05-09T23:04:02.729Z"
   },
   {
    "duration": 231,
    "start_time": "2022-05-09T23:04:02.762Z"
   },
   {
    "duration": 456,
    "start_time": "2022-05-09T23:04:02.994Z"
   },
   {
    "duration": 19,
    "start_time": "2022-05-09T23:04:03.453Z"
   },
   {
    "duration": 91,
    "start_time": "2022-05-09T23:04:03.474Z"
   },
   {
    "duration": 4,
    "start_time": "2022-05-09T23:04:03.567Z"
   },
   {
    "duration": 107,
    "start_time": "2022-05-09T23:04:03.573Z"
   },
   {
    "duration": 85,
    "start_time": "2022-05-09T23:04:03.682Z"
   },
   {
    "duration": 498,
    "start_time": "2022-05-09T23:04:03.769Z"
   },
   {
    "duration": 379,
    "start_time": "2022-05-09T23:04:04.269Z"
   },
   {
    "duration": 61,
    "start_time": "2022-05-09T23:04:04.650Z"
   },
   {
    "duration": 4,
    "start_time": "2022-05-09T23:04:04.714Z"
   },
   {
    "duration": 28,
    "start_time": "2022-05-09T23:04:04.720Z"
   },
   {
    "duration": 7,
    "start_time": "2022-05-09T23:04:04.750Z"
   },
   {
    "duration": 6,
    "start_time": "2022-05-09T23:04:04.759Z"
   },
   {
    "duration": 30,
    "start_time": "2022-05-09T23:04:04.766Z"
   },
   {
    "duration": 4,
    "start_time": "2022-05-09T23:04:04.798Z"
   },
   {
    "duration": 69,
    "start_time": "2022-05-09T23:04:04.807Z"
   },
   {
    "duration": 1760,
    "start_time": "2022-05-09T23:14:15.482Z"
   },
   {
    "duration": 1854,
    "start_time": "2022-05-09T23:14:52.089Z"
   },
   {
    "duration": 39,
    "start_time": "2022-05-09T23:20:31.312Z"
   },
   {
    "duration": 1786,
    "start_time": "2022-05-09T23:21:14.648Z"
   },
   {
    "duration": 39,
    "start_time": "2022-05-09T23:21:32.368Z"
   },
   {
    "duration": 22,
    "start_time": "2022-05-09T23:26:30.292Z"
   },
   {
    "duration": 516,
    "start_time": "2022-05-09T23:28:39.485Z"
   },
   {
    "duration": 501,
    "start_time": "2022-05-09T23:30:47.780Z"
   },
   {
    "duration": 12,
    "start_time": "2022-05-09T23:31:24.478Z"
   },
   {
    "duration": 4,
    "start_time": "2022-05-09T23:32:00.807Z"
   },
   {
    "duration": 1553,
    "start_time": "2022-05-13T19:04:55.517Z"
   },
   {
    "duration": 762,
    "start_time": "2022-05-13T19:04:57.072Z"
   },
   {
    "duration": 18,
    "start_time": "2022-05-13T19:04:57.835Z"
   },
   {
    "duration": 25,
    "start_time": "2022-05-13T19:04:57.855Z"
   },
   {
    "duration": 126,
    "start_time": "2022-05-13T19:04:57.881Z"
   },
   {
    "duration": 121,
    "start_time": "2022-05-13T19:04:58.009Z"
   },
   {
    "duration": 91,
    "start_time": "2022-05-13T19:04:58.131Z"
   },
   {
    "duration": 3,
    "start_time": "2022-05-13T19:04:58.223Z"
   },
   {
    "duration": 245,
    "start_time": "2022-05-13T19:04:58.227Z"
   },
   {
    "duration": 20,
    "start_time": "2022-05-13T19:04:58.474Z"
   },
   {
    "duration": 283,
    "start_time": "2022-05-13T19:04:58.496Z"
   },
   {
    "duration": 30,
    "start_time": "2022-05-13T19:04:58.780Z"
   },
   {
    "duration": 18,
    "start_time": "2022-05-13T19:04:58.812Z"
   },
   {
    "duration": 91,
    "start_time": "2022-05-13T19:04:58.832Z"
   },
   {
    "duration": 112,
    "start_time": "2022-05-13T19:04:58.924Z"
   },
   {
    "duration": 115,
    "start_time": "2022-05-13T19:04:59.037Z"
   },
   {
    "duration": 278,
    "start_time": "2022-05-13T19:04:59.153Z"
   },
   {
    "duration": 16,
    "start_time": "2022-05-13T19:04:59.433Z"
   },
   {
    "duration": 249,
    "start_time": "2022-05-13T19:04:59.451Z"
   },
   {
    "duration": 272,
    "start_time": "2022-05-13T19:04:59.701Z"
   },
   {
    "duration": 15,
    "start_time": "2022-05-13T19:04:59.974Z"
   },
   {
    "duration": 285,
    "start_time": "2022-05-13T19:04:59.991Z"
   },
   {
    "duration": 338,
    "start_time": "2022-05-13T19:05:00.278Z"
   },
   {
    "duration": 15,
    "start_time": "2022-05-13T19:05:00.618Z"
   },
   {
    "duration": 126,
    "start_time": "2022-05-13T19:05:00.635Z"
   },
   {
    "duration": 256,
    "start_time": "2022-05-13T19:05:00.762Z"
   },
   {
    "duration": 15,
    "start_time": "2022-05-13T19:05:01.020Z"
   },
   {
    "duration": 59,
    "start_time": "2022-05-13T19:05:01.039Z"
   },
   {
    "duration": 4,
    "start_time": "2022-05-13T19:05:01.099Z"
   },
   {
    "duration": 94,
    "start_time": "2022-05-13T19:05:01.104Z"
   },
   {
    "duration": 73,
    "start_time": "2022-05-13T19:05:01.199Z"
   },
   {
    "duration": 317,
    "start_time": "2022-05-13T19:05:01.274Z"
   },
   {
    "duration": 237,
    "start_time": "2022-05-13T19:05:01.593Z"
   },
   {
    "duration": 43,
    "start_time": "2022-05-13T19:05:01.832Z"
   },
   {
    "duration": 4,
    "start_time": "2022-05-13T19:05:01.877Z"
   },
   {
    "duration": 8,
    "start_time": "2022-05-13T19:05:01.883Z"
   },
   {
    "duration": 5,
    "start_time": "2022-05-13T19:05:01.893Z"
   },
   {
    "duration": 5,
    "start_time": "2022-05-13T19:05:01.900Z"
   },
   {
    "duration": 27,
    "start_time": "2022-05-13T19:05:01.907Z"
   },
   {
    "duration": 3,
    "start_time": "2022-05-13T19:05:01.936Z"
   },
   {
    "duration": 32,
    "start_time": "2022-05-13T19:05:01.971Z"
   },
   {
    "duration": 539,
    "start_time": "2022-05-13T19:05:02.005Z"
   },
   {
    "duration": 14,
    "start_time": "2022-05-13T19:05:02.545Z"
   },
   {
    "duration": 13,
    "start_time": "2022-05-13T19:05:05.265Z"
   },
   {
    "duration": 478,
    "start_time": "2022-05-13T19:05:06.230Z"
   },
   {
    "duration": 90,
    "start_time": "2022-05-13T19:05:07.676Z"
   },
   {
    "duration": 4,
    "start_time": "2022-05-13T19:06:04.350Z"
   },
   {
    "duration": 38,
    "start_time": "2022-05-13T19:07:44.469Z"
   },
   {
    "duration": 1009,
    "start_time": "2022-05-13T19:07:44.509Z"
   },
   {
    "duration": 13,
    "start_time": "2022-05-13T19:07:45.519Z"
   },
   {
    "duration": 14,
    "start_time": "2022-05-13T19:07:45.534Z"
   },
   {
    "duration": 136,
    "start_time": "2022-05-13T19:07:45.550Z"
   },
   {
    "duration": 131,
    "start_time": "2022-05-13T19:07:45.688Z"
   },
   {
    "duration": 89,
    "start_time": "2022-05-13T19:07:45.820Z"
   },
   {
    "duration": 2,
    "start_time": "2022-05-13T19:07:45.911Z"
   },
   {
    "duration": 245,
    "start_time": "2022-05-13T19:07:45.915Z"
   },
   {
    "duration": 20,
    "start_time": "2022-05-13T19:07:46.170Z"
   },
   {
    "duration": 280,
    "start_time": "2022-05-13T19:07:46.192Z"
   },
   {
    "duration": 30,
    "start_time": "2022-05-13T19:07:46.474Z"
   },
   {
    "duration": 18,
    "start_time": "2022-05-13T19:07:46.506Z"
   },
   {
    "duration": 81,
    "start_time": "2022-05-13T19:07:46.526Z"
   },
   {
    "duration": 126,
    "start_time": "2022-05-13T19:07:46.608Z"
   },
   {
    "duration": 129,
    "start_time": "2022-05-13T19:07:46.736Z"
   },
   {
    "duration": 267,
    "start_time": "2022-05-13T19:07:46.871Z"
   },
   {
    "duration": 16,
    "start_time": "2022-05-13T19:07:47.139Z"
   },
   {
    "duration": 268,
    "start_time": "2022-05-13T19:07:47.156Z"
   },
   {
    "duration": 301,
    "start_time": "2022-05-13T19:07:47.425Z"
   },
   {
    "duration": 17,
    "start_time": "2022-05-13T19:07:47.728Z"
   },
   {
    "duration": 300,
    "start_time": "2022-05-13T19:07:47.746Z"
   },
   {
    "duration": 264,
    "start_time": "2022-05-13T19:07:48.048Z"
   },
   {
    "duration": 19,
    "start_time": "2022-05-13T19:07:48.314Z"
   },
   {
    "duration": 127,
    "start_time": "2022-05-13T19:07:48.335Z"
   },
   {
    "duration": 246,
    "start_time": "2022-05-13T19:07:48.471Z"
   },
   {
    "duration": 15,
    "start_time": "2022-05-13T19:07:48.719Z"
   },
   {
    "duration": 69,
    "start_time": "2022-05-13T19:07:48.737Z"
   },
   {
    "duration": 3,
    "start_time": "2022-05-13T19:07:48.808Z"
   },
   {
    "duration": 81,
    "start_time": "2022-05-13T19:07:48.813Z"
   },
   {
    "duration": 55,
    "start_time": "2022-05-13T19:07:48.896Z"
   },
   {
    "duration": 329,
    "start_time": "2022-05-13T19:07:48.953Z"
   },
   {
    "duration": 406,
    "start_time": "2022-05-13T19:07:49.284Z"
   },
   {
    "duration": 54,
    "start_time": "2022-05-13T19:07:49.692Z"
   },
   {
    "duration": 5,
    "start_time": "2022-05-13T19:07:49.748Z"
   },
   {
    "duration": 23,
    "start_time": "2022-05-13T19:07:49.754Z"
   },
   {
    "duration": 6,
    "start_time": "2022-05-13T19:07:49.779Z"
   },
   {
    "duration": 6,
    "start_time": "2022-05-13T19:07:49.786Z"
   },
   {
    "duration": 43,
    "start_time": "2022-05-13T19:07:49.794Z"
   },
   {
    "duration": 5,
    "start_time": "2022-05-13T19:07:49.839Z"
   },
   {
    "duration": 57,
    "start_time": "2022-05-13T19:07:49.845Z"
   },
   {
    "duration": 568,
    "start_time": "2022-05-13T19:07:49.903Z"
   },
   {
    "duration": 15,
    "start_time": "2022-05-13T19:07:50.472Z"
   },
   {
    "duration": 372,
    "start_time": "2022-05-13T19:07:50.489Z"
   },
   {
    "duration": 293,
    "start_time": "2022-05-13T19:10:14.620Z"
   },
   {
    "duration": 73,
    "start_time": "2022-05-13T19:10:15.069Z"
   },
   {
    "duration": 4,
    "start_time": "2022-05-13T21:13:05.821Z"
   },
   {
    "duration": 1057,
    "start_time": "2022-05-13T21:13:05.827Z"
   },
   {
    "duration": 12,
    "start_time": "2022-05-13T21:13:06.886Z"
   },
   {
    "duration": 15,
    "start_time": "2022-05-13T21:13:06.900Z"
   },
   {
    "duration": 137,
    "start_time": "2022-05-13T21:13:06.917Z"
   },
   {
    "duration": 130,
    "start_time": "2022-05-13T21:13:07.056Z"
   },
   {
    "duration": 93,
    "start_time": "2022-05-13T21:13:07.188Z"
   },
   {
    "duration": 2,
    "start_time": "2022-05-13T21:13:07.283Z"
   },
   {
    "duration": 239,
    "start_time": "2022-05-13T21:13:07.287Z"
   },
   {
    "duration": 21,
    "start_time": "2022-05-13T21:13:07.527Z"
   },
   {
    "duration": 280,
    "start_time": "2022-05-13T21:13:07.549Z"
   },
   {
    "duration": 39,
    "start_time": "2022-05-13T21:13:07.832Z"
   },
   {
    "duration": 15,
    "start_time": "2022-05-13T21:13:07.873Z"
   },
   {
    "duration": 59,
    "start_time": "2022-05-13T21:13:07.891Z"
   },
   {
    "duration": 137,
    "start_time": "2022-05-13T21:13:07.951Z"
   },
   {
    "duration": 123,
    "start_time": "2022-05-13T21:13:08.089Z"
   },
   {
    "duration": 252,
    "start_time": "2022-05-13T21:13:08.213Z"
   },
   {
    "duration": 15,
    "start_time": "2022-05-13T21:13:08.467Z"
   },
   {
    "duration": 239,
    "start_time": "2022-05-13T21:13:08.483Z"
   },
   {
    "duration": 252,
    "start_time": "2022-05-13T21:13:08.724Z"
   },
   {
    "duration": 16,
    "start_time": "2022-05-13T21:13:08.977Z"
   },
   {
    "duration": 278,
    "start_time": "2022-05-13T21:13:08.994Z"
   },
   {
    "duration": 251,
    "start_time": "2022-05-13T21:13:09.273Z"
   },
   {
    "duration": 15,
    "start_time": "2022-05-13T21:13:09.525Z"
   },
   {
    "duration": 132,
    "start_time": "2022-05-13T21:13:09.542Z"
   },
   {
    "duration": 240,
    "start_time": "2022-05-13T21:13:09.675Z"
   },
   {
    "duration": 14,
    "start_time": "2022-05-13T21:13:09.917Z"
   },
   {
    "duration": 61,
    "start_time": "2022-05-13T21:13:09.933Z"
   },
   {
    "duration": 4,
    "start_time": "2022-05-13T21:13:09.996Z"
   },
   {
    "duration": 83,
    "start_time": "2022-05-13T21:13:10.001Z"
   },
   {
    "duration": 55,
    "start_time": "2022-05-13T21:13:10.085Z"
   },
   {
    "duration": 298,
    "start_time": "2022-05-13T21:13:10.142Z"
   },
   {
    "duration": 231,
    "start_time": "2022-05-13T21:13:10.442Z"
   },
   {
    "duration": 42,
    "start_time": "2022-05-13T21:13:10.675Z"
   },
   {
    "duration": 4,
    "start_time": "2022-05-13T21:13:10.718Z"
   },
   {
    "duration": 9,
    "start_time": "2022-05-13T21:13:10.724Z"
   },
   {
    "duration": 6,
    "start_time": "2022-05-13T21:13:10.734Z"
   },
   {
    "duration": 33,
    "start_time": "2022-05-13T21:13:10.741Z"
   },
   {
    "duration": 28,
    "start_time": "2022-05-13T21:13:10.776Z"
   },
   {
    "duration": 4,
    "start_time": "2022-05-13T21:13:10.806Z"
   },
   {
    "duration": 32,
    "start_time": "2022-05-13T21:13:10.813Z"
   },
   {
    "duration": 554,
    "start_time": "2022-05-13T21:13:10.847Z"
   },
   {
    "duration": 13,
    "start_time": "2022-05-13T21:13:11.403Z"
   },
   {
    "duration": 368,
    "start_time": "2022-05-13T21:13:11.418Z"
   },
   {
    "duration": 292,
    "start_time": "2022-05-13T21:13:15.267Z"
   },
   {
    "duration": 110,
    "start_time": "2022-05-13T21:21:04.012Z"
   },
   {
    "duration": 112,
    "start_time": "2022-05-13T21:21:20.022Z"
   },
   {
    "duration": 11,
    "start_time": "2022-05-13T21:22:16.802Z"
   },
   {
    "duration": 38,
    "start_time": "2022-05-13T21:23:50.185Z"
   },
   {
    "duration": 32,
    "start_time": "2022-05-13T21:24:38.010Z"
   },
   {
    "duration": 33,
    "start_time": "2022-05-13T21:24:48.660Z"
   },
   {
    "duration": 4941,
    "start_time": "2022-05-13T21:25:43.999Z"
   },
   {
    "duration": 4873,
    "start_time": "2022-05-13T21:26:29.758Z"
   },
   {
    "duration": 4960,
    "start_time": "2022-05-13T21:37:20.342Z"
   },
   {
    "duration": 17,
    "start_time": "2022-05-13T21:58:01.862Z"
   },
   {
    "duration": 4,
    "start_time": "2022-05-13T22:17:29.852Z"
   },
   {
    "duration": 743,
    "start_time": "2022-05-13T22:17:29.858Z"
   },
   {
    "duration": 14,
    "start_time": "2022-05-13T22:17:30.602Z"
   },
   {
    "duration": 21,
    "start_time": "2022-05-13T22:17:30.618Z"
   },
   {
    "duration": 147,
    "start_time": "2022-05-13T22:17:30.641Z"
   },
   {
    "duration": 134,
    "start_time": "2022-05-13T22:17:30.790Z"
   },
   {
    "duration": 97,
    "start_time": "2022-05-13T22:17:30.926Z"
   },
   {
    "duration": 3,
    "start_time": "2022-05-13T22:17:31.024Z"
   },
   {
    "duration": 256,
    "start_time": "2022-05-13T22:17:31.029Z"
   },
   {
    "duration": 21,
    "start_time": "2022-05-13T22:17:31.287Z"
   },
   {
    "duration": 282,
    "start_time": "2022-05-13T22:17:31.310Z"
   },
   {
    "duration": 31,
    "start_time": "2022-05-13T22:17:31.594Z"
   },
   {
    "duration": 19,
    "start_time": "2022-05-13T22:17:31.626Z"
   },
   {
    "duration": 78,
    "start_time": "2022-05-13T22:17:31.647Z"
   },
   {
    "duration": 124,
    "start_time": "2022-05-13T22:17:31.727Z"
   },
   {
    "duration": 131,
    "start_time": "2022-05-13T22:17:31.853Z"
   },
   {
    "duration": 249,
    "start_time": "2022-05-13T22:17:31.986Z"
   },
   {
    "duration": 15,
    "start_time": "2022-05-13T22:17:32.237Z"
   },
   {
    "duration": 244,
    "start_time": "2022-05-13T22:17:32.253Z"
   },
   {
    "duration": 248,
    "start_time": "2022-05-13T22:17:32.498Z"
   },
   {
    "duration": 15,
    "start_time": "2022-05-13T22:17:32.748Z"
   },
   {
    "duration": 270,
    "start_time": "2022-05-13T22:17:32.765Z"
   },
   {
    "duration": 354,
    "start_time": "2022-05-13T22:17:33.036Z"
   },
   {
    "duration": 16,
    "start_time": "2022-05-13T22:17:33.393Z"
   },
   {
    "duration": 134,
    "start_time": "2022-05-13T22:17:33.411Z"
   },
   {
    "duration": 246,
    "start_time": "2022-05-13T22:17:33.547Z"
   },
   {
    "duration": 15,
    "start_time": "2022-05-13T22:17:33.795Z"
   },
   {
    "duration": 66,
    "start_time": "2022-05-13T22:17:33.812Z"
   },
   {
    "duration": 4,
    "start_time": "2022-05-13T22:17:33.880Z"
   },
   {
    "duration": 68,
    "start_time": "2022-05-13T22:17:33.886Z"
   },
   {
    "duration": 69,
    "start_time": "2022-05-13T22:17:33.956Z"
   },
   {
    "duration": 303,
    "start_time": "2022-05-13T22:17:34.027Z"
   },
   {
    "duration": 229,
    "start_time": "2022-05-13T22:17:34.332Z"
   },
   {
    "duration": 46,
    "start_time": "2022-05-13T22:17:34.562Z"
   },
   {
    "duration": 5,
    "start_time": "2022-05-13T22:17:34.610Z"
   },
   {
    "duration": 7,
    "start_time": "2022-05-13T22:17:34.616Z"
   },
   {
    "duration": 7,
    "start_time": "2022-05-13T22:17:34.625Z"
   },
   {
    "duration": 5,
    "start_time": "2022-05-13T22:17:34.633Z"
   },
   {
    "duration": 28,
    "start_time": "2022-05-13T22:17:34.670Z"
   },
   {
    "duration": 3,
    "start_time": "2022-05-13T22:17:34.700Z"
   },
   {
    "duration": 33,
    "start_time": "2022-05-13T22:17:34.704Z"
   },
   {
    "duration": 1,
    "start_time": "2022-05-13T22:17:34.739Z"
   },
   {
    "duration": 4,
    "start_time": "2022-05-13T22:17:34.742Z"
   },
   {
    "duration": 23,
    "start_time": "2022-05-13T22:17:34.748Z"
   },
   {
    "duration": 4,
    "start_time": "2022-05-13T22:17:34.773Z"
   },
   {
    "duration": 340,
    "start_time": "2022-05-13T22:17:41.999Z"
   },
   {
    "duration": 28,
    "start_time": "2022-05-13T22:18:58.779Z"
   },
   {
    "duration": 10,
    "start_time": "2022-05-13T22:18:59.700Z"
   },
   {
    "duration": 46,
    "start_time": "2022-05-13T22:19:10.459Z"
   },
   {
    "duration": 225929,
    "start_time": "2022-05-13T22:19:47.641Z"
   },
   {
    "duration": 2309,
    "start_time": "2022-05-14T20:13:16.571Z"
   },
   {
    "duration": 1056,
    "start_time": "2022-05-14T20:13:18.883Z"
   },
   {
    "duration": 27,
    "start_time": "2022-05-14T20:13:19.941Z"
   },
   {
    "duration": 34,
    "start_time": "2022-05-14T20:13:19.971Z"
   },
   {
    "duration": 184,
    "start_time": "2022-05-14T20:13:20.008Z"
   },
   {
    "duration": 175,
    "start_time": "2022-05-14T20:13:20.197Z"
   },
   {
    "duration": 136,
    "start_time": "2022-05-14T20:13:20.374Z"
   },
   {
    "duration": 4,
    "start_time": "2022-05-14T20:13:20.512Z"
   },
   {
    "duration": 389,
    "start_time": "2022-05-14T20:13:20.518Z"
   },
   {
    "duration": 30,
    "start_time": "2022-05-14T20:13:20.911Z"
   },
   {
    "duration": 429,
    "start_time": "2022-05-14T20:13:20.943Z"
   },
   {
    "duration": 59,
    "start_time": "2022-05-14T20:13:21.374Z"
   },
   {
    "duration": 23,
    "start_time": "2022-05-14T20:13:21.435Z"
   },
   {
    "duration": 155,
    "start_time": "2022-05-14T20:13:21.460Z"
   },
   {
    "duration": 158,
    "start_time": "2022-05-14T20:13:21.618Z"
   },
   {
    "duration": 269,
    "start_time": "2022-05-14T20:13:21.778Z"
   },
   {
    "duration": 633,
    "start_time": "2022-05-14T20:13:22.049Z"
   },
   {
    "duration": 32,
    "start_time": "2022-05-14T20:13:22.685Z"
   },
   {
    "duration": 393,
    "start_time": "2022-05-14T20:13:22.719Z"
   },
   {
    "duration": 457,
    "start_time": "2022-05-14T20:13:23.115Z"
   },
   {
    "duration": 28,
    "start_time": "2022-05-14T20:13:23.574Z"
   },
   {
    "duration": 430,
    "start_time": "2022-05-14T20:13:23.603Z"
   },
   {
    "duration": 451,
    "start_time": "2022-05-14T20:13:24.036Z"
   },
   {
    "duration": 26,
    "start_time": "2022-05-14T20:13:24.490Z"
   },
   {
    "duration": 171,
    "start_time": "2022-05-14T20:13:24.518Z"
   },
   {
    "duration": 365,
    "start_time": "2022-05-14T20:13:24.693Z"
   },
   {
    "duration": 37,
    "start_time": "2022-05-14T20:13:25.060Z"
   },
   {
    "duration": 92,
    "start_time": "2022-05-14T20:13:25.103Z"
   },
   {
    "duration": 6,
    "start_time": "2022-05-14T20:13:25.197Z"
   },
   {
    "duration": 124,
    "start_time": "2022-05-14T20:13:25.205Z"
   },
   {
    "duration": 128,
    "start_time": "2022-05-14T20:13:25.331Z"
   },
   {
    "duration": 490,
    "start_time": "2022-05-14T20:13:25.461Z"
   },
   {
    "duration": 555,
    "start_time": "2022-05-14T20:13:25.953Z"
   },
   {
    "duration": 90,
    "start_time": "2022-05-14T20:13:26.510Z"
   },
   {
    "duration": 6,
    "start_time": "2022-05-14T20:13:26.602Z"
   },
   {
    "duration": 13,
    "start_time": "2022-05-14T20:13:26.611Z"
   },
   {
    "duration": 11,
    "start_time": "2022-05-14T20:13:26.626Z"
   },
   {
    "duration": 8,
    "start_time": "2022-05-14T20:13:26.640Z"
   },
   {
    "duration": 80,
    "start_time": "2022-05-14T20:13:26.650Z"
   },
   {
    "duration": 6,
    "start_time": "2022-05-14T20:13:26.733Z"
   },
   {
    "duration": 74,
    "start_time": "2022-05-14T20:13:26.742Z"
   },
   {
    "duration": 632,
    "start_time": "2022-05-14T20:13:26.819Z"
   },
   {
    "duration": 49,
    "start_time": "2022-05-14T20:13:27.454Z"
   },
   {
    "duration": 57,
    "start_time": "2022-05-14T20:13:27.505Z"
   },
   {
    "duration": 0,
    "start_time": "2022-05-14T20:28:10.593Z"
   },
   {
    "duration": 60,
    "start_time": "2022-05-14T20:28:12.129Z"
   },
   {
    "duration": 302678,
    "start_time": "2022-05-14T20:28:12.978Z"
   },
   {
    "duration": 14,
    "start_time": "2022-05-14T20:37:22.113Z"
   },
   {
    "duration": 71530,
    "start_time": "2022-05-14T20:45:34.648Z"
   },
   {
    "duration": 53687,
    "start_time": "2022-05-14T21:01:03.746Z"
   },
   {
    "duration": 1361,
    "start_time": "2022-05-14T21:33:13.239Z"
   },
   {
    "duration": 0,
    "start_time": "2022-05-14T21:34:32.531Z"
   },
   {
    "duration": 653721,
    "start_time": "2022-05-14T21:34:44.683Z"
   },
   {
    "duration": 1429,
    "start_time": "2022-05-14T21:47:50.835Z"
   },
   {
    "duration": 2589807,
    "start_time": "2022-05-14T21:49:09.690Z"
   },
   {
    "duration": 19,
    "start_time": "2022-05-14T22:35:10.072Z"
   },
   {
    "duration": 32490,
    "start_time": "2022-05-14T22:35:35.920Z"
   },
   {
    "duration": 212890,
    "start_time": "2022-05-14T22:36:19.671Z"
   },
   {
    "duration": 9,
    "start_time": "2022-05-14T22:58:07.536Z"
   },
   {
    "duration": 7,
    "start_time": "2022-05-14T22:58:26.213Z"
   },
   {
    "duration": 8,
    "start_time": "2022-05-14T22:59:17.295Z"
   },
   {
    "duration": 8,
    "start_time": "2022-05-14T23:00:24.843Z"
   },
   {
    "duration": 7,
    "start_time": "2022-05-14T23:00:32.683Z"
   },
   {
    "duration": 7,
    "start_time": "2022-05-14T23:00:45.216Z"
   },
   {
    "duration": 22782,
    "start_time": "2022-05-14T23:03:44.655Z"
   },
   {
    "duration": 18102,
    "start_time": "2022-05-14T23:04:42.596Z"
   },
   {
    "duration": 66963,
    "start_time": "2022-05-14T23:07:55.241Z"
   },
   {
    "duration": 8653,
    "start_time": "2022-05-14T23:10:21.504Z"
   },
   {
    "duration": 8406,
    "start_time": "2022-05-14T23:11:33.884Z"
   },
   {
    "duration": 12,
    "start_time": "2022-05-14T23:17:06.182Z"
   },
   {
    "duration": 10,
    "start_time": "2022-05-14T23:19:46.449Z"
   },
   {
    "duration": 13,
    "start_time": "2022-05-14T23:26:22.540Z"
   },
   {
    "duration": 11,
    "start_time": "2022-05-14T23:26:37.951Z"
   },
   {
    "duration": 4,
    "start_time": "2022-05-14T23:29:12.516Z"
   },
   {
    "duration": 4,
    "start_time": "2022-05-14T23:30:29.507Z"
   },
   {
    "duration": 14,
    "start_time": "2022-05-14T23:32:18.114Z"
   },
   {
    "duration": 15,
    "start_time": "2022-05-14T23:32:49.714Z"
   },
   {
    "duration": 2375,
    "start_time": "2022-05-15T11:48:54.382Z"
   },
   {
    "duration": 1094,
    "start_time": "2022-05-15T11:48:56.761Z"
   },
   {
    "duration": 34,
    "start_time": "2022-05-15T11:48:57.857Z"
   },
   {
    "duration": 21,
    "start_time": "2022-05-15T11:48:57.893Z"
   },
   {
    "duration": 197,
    "start_time": "2022-05-15T11:48:57.918Z"
   },
   {
    "duration": 182,
    "start_time": "2022-05-15T11:48:58.117Z"
   },
   {
    "duration": 124,
    "start_time": "2022-05-15T11:48:58.301Z"
   },
   {
    "duration": 3,
    "start_time": "2022-05-15T11:48:58.427Z"
   },
   {
    "duration": 398,
    "start_time": "2022-05-15T11:48:58.432Z"
   },
   {
    "duration": 30,
    "start_time": "2022-05-15T11:48:58.832Z"
   },
   {
    "duration": 133,
    "start_time": "2022-05-15T11:48:58.865Z"
   },
   {
    "duration": 488,
    "start_time": "2022-05-15T11:48:59.001Z"
   },
   {
    "duration": 41,
    "start_time": "2022-05-15T11:48:59.491Z"
   },
   {
    "duration": 597,
    "start_time": "2022-05-15T11:48:59.536Z"
   },
   {
    "duration": 20,
    "start_time": "2022-05-15T11:49:00.135Z"
   },
   {
    "duration": 375,
    "start_time": "2022-05-15T11:49:00.157Z"
   },
   {
    "duration": 457,
    "start_time": "2022-05-15T11:49:00.534Z"
   },
   {
    "duration": 22,
    "start_time": "2022-05-15T11:49:00.993Z"
   },
   {
    "duration": 449,
    "start_time": "2022-05-15T11:49:01.017Z"
   },
   {
    "duration": 462,
    "start_time": "2022-05-15T11:49:01.468Z"
   },
   {
    "duration": 20,
    "start_time": "2022-05-15T11:49:01.933Z"
   },
   {
    "duration": 184,
    "start_time": "2022-05-15T11:49:01.955Z"
   },
   {
    "duration": 373,
    "start_time": "2022-05-15T11:49:02.141Z"
   },
   {
    "duration": 20,
    "start_time": "2022-05-15T11:49:02.516Z"
   },
   {
    "duration": 103,
    "start_time": "2022-05-15T11:49:02.538Z"
   },
   {
    "duration": 5,
    "start_time": "2022-05-15T11:49:02.643Z"
   },
   {
    "duration": 119,
    "start_time": "2022-05-15T11:49:02.650Z"
   },
   {
    "duration": 134,
    "start_time": "2022-05-15T11:49:02.771Z"
   },
   {
    "duration": 490,
    "start_time": "2022-05-15T11:49:02.907Z"
   },
   {
    "duration": 448,
    "start_time": "2022-05-15T11:49:03.399Z"
   },
   {
    "duration": 89,
    "start_time": "2022-05-15T11:49:03.849Z"
   },
   {
    "duration": 7,
    "start_time": "2022-05-15T11:49:03.941Z"
   },
   {
    "duration": 31,
    "start_time": "2022-05-15T11:49:03.951Z"
   },
   {
    "duration": 9,
    "start_time": "2022-05-15T11:49:03.984Z"
   },
   {
    "duration": 45,
    "start_time": "2022-05-15T11:49:03.995Z"
   },
   {
    "duration": 7,
    "start_time": "2022-05-15T11:49:04.042Z"
   },
   {
    "duration": 45,
    "start_time": "2022-05-15T11:49:04.082Z"
   },
   {
    "duration": 760,
    "start_time": "2022-05-15T11:49:04.129Z"
   },
   {
    "duration": 35,
    "start_time": "2022-05-15T11:49:04.891Z"
   },
   {
    "duration": 77,
    "start_time": "2022-05-15T11:49:04.928Z"
   },
   {
    "duration": 10,
    "start_time": "2022-05-15T11:49:05.011Z"
   },
   {
    "duration": 0,
    "start_time": "2022-05-15T11:49:05.023Z"
   },
   {
    "duration": 0,
    "start_time": "2022-05-15T11:49:05.025Z"
   },
   {
    "duration": 0,
    "start_time": "2022-05-15T11:49:05.027Z"
   },
   {
    "duration": 0,
    "start_time": "2022-05-15T11:49:05.029Z"
   },
   {
    "duration": 0,
    "start_time": "2022-05-15T11:49:05.030Z"
   },
   {
    "duration": 0,
    "start_time": "2022-05-15T11:49:05.032Z"
   },
   {
    "duration": 0,
    "start_time": "2022-05-15T11:49:05.034Z"
   },
   {
    "duration": 0,
    "start_time": "2022-05-15T11:49:05.036Z"
   },
   {
    "duration": 0,
    "start_time": "2022-05-15T11:49:05.037Z"
   },
   {
    "duration": 0,
    "start_time": "2022-05-15T11:49:05.039Z"
   },
   {
    "duration": 0,
    "start_time": "2022-05-15T11:49:05.040Z"
   },
   {
    "duration": 8,
    "start_time": "2022-05-15T11:49:56.207Z"
   },
   {
    "duration": 1099,
    "start_time": "2022-05-15T11:49:56.218Z"
   },
   {
    "duration": 21,
    "start_time": "2022-05-15T11:49:57.319Z"
   },
   {
    "duration": 40,
    "start_time": "2022-05-15T11:49:57.343Z"
   },
   {
    "duration": 194,
    "start_time": "2022-05-15T11:49:57.385Z"
   },
   {
    "duration": 181,
    "start_time": "2022-05-15T11:49:57.581Z"
   },
   {
    "duration": 126,
    "start_time": "2022-05-15T11:49:57.764Z"
   },
   {
    "duration": 3,
    "start_time": "2022-05-15T11:49:57.892Z"
   },
   {
    "duration": 396,
    "start_time": "2022-05-15T11:49:57.897Z"
   },
   {
    "duration": 32,
    "start_time": "2022-05-15T11:49:58.296Z"
   },
   {
    "duration": 125,
    "start_time": "2022-05-15T11:49:58.330Z"
   },
   {
    "duration": 462,
    "start_time": "2022-05-15T11:49:58.457Z"
   },
   {
    "duration": 42,
    "start_time": "2022-05-15T11:49:58.921Z"
   },
   {
    "duration": 473,
    "start_time": "2022-05-15T11:49:58.965Z"
   },
   {
    "duration": 20,
    "start_time": "2022-05-15T11:49:59.440Z"
   },
   {
    "duration": 377,
    "start_time": "2022-05-15T11:49:59.462Z"
   },
   {
    "duration": 447,
    "start_time": "2022-05-15T11:49:59.842Z"
   },
   {
    "duration": 20,
    "start_time": "2022-05-15T11:50:00.291Z"
   },
   {
    "duration": 445,
    "start_time": "2022-05-15T11:50:00.313Z"
   },
   {
    "duration": 449,
    "start_time": "2022-05-15T11:50:00.760Z"
   },
   {
    "duration": 20,
    "start_time": "2022-05-15T11:50:01.212Z"
   },
   {
    "duration": 174,
    "start_time": "2022-05-15T11:50:01.235Z"
   },
   {
    "duration": 361,
    "start_time": "2022-05-15T11:50:01.411Z"
   },
   {
    "duration": 25,
    "start_time": "2022-05-15T11:50:01.774Z"
   },
   {
    "duration": 102,
    "start_time": "2022-05-15T11:50:01.801Z"
   },
   {
    "duration": 6,
    "start_time": "2022-05-15T11:50:01.905Z"
   },
   {
    "duration": 133,
    "start_time": "2022-05-15T11:50:01.913Z"
   },
   {
    "duration": 123,
    "start_time": "2022-05-15T11:50:02.052Z"
   },
   {
    "duration": 484,
    "start_time": "2022-05-15T11:50:02.181Z"
   },
   {
    "duration": 544,
    "start_time": "2022-05-15T11:50:02.668Z"
   },
   {
    "duration": 79,
    "start_time": "2022-05-15T11:50:03.214Z"
   },
   {
    "duration": 5,
    "start_time": "2022-05-15T11:50:03.296Z"
   },
   {
    "duration": 11,
    "start_time": "2022-05-15T11:50:03.304Z"
   },
   {
    "duration": 8,
    "start_time": "2022-05-15T11:50:03.318Z"
   },
   {
    "duration": 85,
    "start_time": "2022-05-15T11:50:03.328Z"
   },
   {
    "duration": 7,
    "start_time": "2022-05-15T11:50:03.415Z"
   },
   {
    "duration": 70,
    "start_time": "2022-05-15T11:50:03.425Z"
   },
   {
    "duration": 629,
    "start_time": "2022-05-15T11:50:03.497Z"
   },
   {
    "duration": 26,
    "start_time": "2022-05-15T11:50:04.128Z"
   },
   {
    "duration": 72,
    "start_time": "2022-05-15T11:50:04.156Z"
   },
   {
    "duration": 9,
    "start_time": "2022-05-15T11:50:04.231Z"
   },
   {
    "duration": 0,
    "start_time": "2022-05-15T11:50:04.242Z"
   },
   {
    "duration": 0,
    "start_time": "2022-05-15T11:50:04.245Z"
   },
   {
    "duration": 0,
    "start_time": "2022-05-15T11:50:04.247Z"
   },
   {
    "duration": 0,
    "start_time": "2022-05-15T11:50:04.249Z"
   },
   {
    "duration": 0,
    "start_time": "2022-05-15T11:50:04.283Z"
   },
   {
    "duration": 0,
    "start_time": "2022-05-15T11:50:04.285Z"
   },
   {
    "duration": 0,
    "start_time": "2022-05-15T11:50:04.287Z"
   },
   {
    "duration": 0,
    "start_time": "2022-05-15T11:50:04.289Z"
   },
   {
    "duration": 0,
    "start_time": "2022-05-15T11:50:04.291Z"
   },
   {
    "duration": 0,
    "start_time": "2022-05-15T11:50:04.293Z"
   },
   {
    "duration": 0,
    "start_time": "2022-05-15T11:50:04.295Z"
   },
   {
    "duration": 8,
    "start_time": "2022-05-15T11:50:34.138Z"
   },
   {
    "duration": 6,
    "start_time": "2022-05-15T11:52:34.242Z"
   },
   {
    "duration": 1005,
    "start_time": "2022-05-15T11:52:34.251Z"
   },
   {
    "duration": 26,
    "start_time": "2022-05-15T11:52:35.258Z"
   },
   {
    "duration": 22,
    "start_time": "2022-05-15T11:52:35.288Z"
   },
   {
    "duration": 196,
    "start_time": "2022-05-15T11:52:35.312Z"
   },
   {
    "duration": 178,
    "start_time": "2022-05-15T11:52:35.510Z"
   },
   {
    "duration": 121,
    "start_time": "2022-05-15T11:52:35.690Z"
   },
   {
    "duration": 4,
    "start_time": "2022-05-15T11:52:35.813Z"
   },
   {
    "duration": 391,
    "start_time": "2022-05-15T11:52:35.819Z"
   },
   {
    "duration": 31,
    "start_time": "2022-05-15T11:52:36.214Z"
   },
   {
    "duration": 116,
    "start_time": "2022-05-15T11:52:36.248Z"
   },
   {
    "duration": 451,
    "start_time": "2022-05-15T11:52:36.367Z"
   },
   {
    "duration": 41,
    "start_time": "2022-05-15T11:52:36.820Z"
   },
   {
    "duration": 461,
    "start_time": "2022-05-15T11:52:36.863Z"
   },
   {
    "duration": 21,
    "start_time": "2022-05-15T11:52:37.327Z"
   },
   {
    "duration": 376,
    "start_time": "2022-05-15T11:52:37.350Z"
   },
   {
    "duration": 448,
    "start_time": "2022-05-15T11:52:37.728Z"
   },
   {
    "duration": 23,
    "start_time": "2022-05-15T11:52:38.182Z"
   },
   {
    "duration": 449,
    "start_time": "2022-05-15T11:52:38.207Z"
   },
   {
    "duration": 463,
    "start_time": "2022-05-15T11:52:38.658Z"
   },
   {
    "duration": 21,
    "start_time": "2022-05-15T11:52:39.123Z"
   },
   {
    "duration": 172,
    "start_time": "2022-05-15T11:52:39.146Z"
   },
   {
    "duration": 363,
    "start_time": "2022-05-15T11:52:39.320Z"
   },
   {
    "duration": 19,
    "start_time": "2022-05-15T11:52:39.685Z"
   },
   {
    "duration": 96,
    "start_time": "2022-05-15T11:52:39.706Z"
   },
   {
    "duration": 5,
    "start_time": "2022-05-15T11:52:39.804Z"
   },
   {
    "duration": 121,
    "start_time": "2022-05-15T11:52:39.811Z"
   },
   {
    "duration": 114,
    "start_time": "2022-05-15T11:52:39.937Z"
   },
   {
    "duration": 479,
    "start_time": "2022-05-15T11:52:40.053Z"
   },
   {
    "duration": 455,
    "start_time": "2022-05-15T11:52:40.534Z"
   },
   {
    "duration": 72,
    "start_time": "2022-05-15T11:52:40.991Z"
   },
   {
    "duration": 6,
    "start_time": "2022-05-15T11:52:41.081Z"
   },
   {
    "duration": 13,
    "start_time": "2022-05-15T11:52:41.089Z"
   },
   {
    "duration": 6,
    "start_time": "2022-05-15T11:52:41.105Z"
   },
   {
    "duration": 70,
    "start_time": "2022-05-15T11:52:41.114Z"
   },
   {
    "duration": 5,
    "start_time": "2022-05-15T11:52:41.187Z"
   },
   {
    "duration": 47,
    "start_time": "2022-05-15T11:52:41.193Z"
   },
   {
    "duration": 645,
    "start_time": "2022-05-15T11:52:41.242Z"
   },
   {
    "duration": 25,
    "start_time": "2022-05-15T11:52:41.889Z"
   },
   {
    "duration": 71,
    "start_time": "2022-05-15T11:52:41.916Z"
   },
   {
    "duration": 5,
    "start_time": "2022-05-15T11:52:41.989Z"
   },
   {
    "duration": 237950,
    "start_time": "2022-05-15T11:58:30.205Z"
   },
   {
    "duration": 5,
    "start_time": "2022-05-15T12:03:00.620Z"
   },
   {
    "duration": 8310,
    "start_time": "2022-05-15T12:03:28.517Z"
   },
   {
    "duration": 184117,
    "start_time": "2022-05-15T12:03:47.572Z"
   },
   {
    "duration": 3301,
    "start_time": "2022-05-15T12:07:26.282Z"
   },
   {
    "duration": 211368,
    "start_time": "2022-05-15T12:07:31.546Z"
   },
   {
    "duration": 19058,
    "start_time": "2022-05-15T12:11:10.717Z"
   },
   {
    "duration": 2524,
    "start_time": "2022-05-15T12:13:11.397Z"
   },
   {
    "duration": 1139,
    "start_time": "2022-05-15T12:13:13.923Z"
   },
   {
    "duration": 26,
    "start_time": "2022-05-15T12:13:15.064Z"
   },
   {
    "duration": 21,
    "start_time": "2022-05-15T12:13:15.093Z"
   },
   {
    "duration": 200,
    "start_time": "2022-05-15T12:13:15.116Z"
   },
   {
    "duration": 175,
    "start_time": "2022-05-15T12:13:15.318Z"
   },
   {
    "duration": 131,
    "start_time": "2022-05-15T12:13:15.495Z"
   },
   {
    "duration": 4,
    "start_time": "2022-05-15T12:13:15.628Z"
   },
   {
    "duration": 397,
    "start_time": "2022-05-15T12:13:15.634Z"
   },
   {
    "duration": 30,
    "start_time": "2022-05-15T12:13:16.034Z"
   },
   {
    "duration": 128,
    "start_time": "2022-05-15T12:13:16.083Z"
   },
   {
    "duration": 462,
    "start_time": "2022-05-15T12:13:16.213Z"
   },
   {
    "duration": 41,
    "start_time": "2022-05-15T12:13:16.677Z"
   },
   {
    "duration": 483,
    "start_time": "2022-05-15T12:13:16.721Z"
   },
   {
    "duration": 23,
    "start_time": "2022-05-15T12:13:17.206Z"
   },
   {
    "duration": 540,
    "start_time": "2022-05-15T12:13:17.232Z"
   },
   {
    "duration": 535,
    "start_time": "2022-05-15T12:13:17.782Z"
   },
   {
    "duration": 24,
    "start_time": "2022-05-15T12:13:18.319Z"
   },
   {
    "duration": 456,
    "start_time": "2022-05-15T12:13:18.346Z"
   },
   {
    "duration": 443,
    "start_time": "2022-05-15T12:13:18.804Z"
   },
   {
    "duration": 32,
    "start_time": "2022-05-15T12:13:19.249Z"
   },
   {
    "duration": 163,
    "start_time": "2022-05-15T12:13:19.284Z"
   },
   {
    "duration": 355,
    "start_time": "2022-05-15T12:13:19.449Z"
   },
   {
    "duration": 19,
    "start_time": "2022-05-15T12:13:19.806Z"
   },
   {
    "duration": 109,
    "start_time": "2022-05-15T12:13:19.827Z"
   },
   {
    "duration": 5,
    "start_time": "2022-05-15T12:13:19.938Z"
   },
   {
    "duration": 118,
    "start_time": "2022-05-15T12:13:19.945Z"
   },
   {
    "duration": 133,
    "start_time": "2022-05-15T12:13:20.068Z"
   },
   {
    "duration": 490,
    "start_time": "2022-05-15T12:13:20.204Z"
   },
   {
    "duration": 446,
    "start_time": "2022-05-15T12:13:20.696Z"
   },
   {
    "duration": 86,
    "start_time": "2022-05-15T12:13:21.146Z"
   },
   {
    "duration": 7,
    "start_time": "2022-05-15T12:13:21.234Z"
   },
   {
    "duration": 11,
    "start_time": "2022-05-15T12:13:21.244Z"
   },
   {
    "duration": 8,
    "start_time": "2022-05-15T12:13:21.283Z"
   },
   {
    "duration": 45,
    "start_time": "2022-05-15T12:13:21.293Z"
   },
   {
    "duration": 7,
    "start_time": "2022-05-15T12:13:21.340Z"
   },
   {
    "duration": 76,
    "start_time": "2022-05-15T12:13:21.381Z"
   },
   {
    "duration": 729,
    "start_time": "2022-05-15T12:13:21.459Z"
   },
   {
    "duration": 33,
    "start_time": "2022-05-15T12:13:22.190Z"
   },
   {
    "duration": 77,
    "start_time": "2022-05-15T12:13:22.225Z"
   },
   {
    "duration": 4,
    "start_time": "2022-05-15T12:13:22.304Z"
   },
   {
    "duration": 234348,
    "start_time": "2022-05-15T12:13:22.310Z"
   },
   {
    "duration": 8634,
    "start_time": "2022-05-15T12:17:16.660Z"
   },
   {
    "duration": 1585201,
    "start_time": "2022-05-15T12:17:25.296Z"
   },
   {
    "duration": 99595,
    "start_time": "2022-05-15T12:43:50.500Z"
   },
   {
    "duration": 228954,
    "start_time": "2022-05-15T12:45:30.098Z"
   },
   {
    "duration": 19983,
    "start_time": "2022-05-15T12:49:19.054Z"
   },
   {
    "duration": 20257,
    "start_time": "2022-05-15T12:49:39.039Z"
   },
   {
    "duration": 101609,
    "start_time": "2022-05-15T12:49:59.299Z"
   },
   {
    "duration": 8650,
    "start_time": "2022-05-15T12:51:40.910Z"
   },
   {
    "duration": 12,
    "start_time": "2022-05-15T12:51:49.562Z"
   },
   {
    "duration": 9,
    "start_time": "2022-05-15T12:51:49.576Z"
   },
   {
    "duration": 26,
    "start_time": "2022-05-15T12:51:49.587Z"
   },
   {
    "duration": 17,
    "start_time": "2022-05-15T12:59:14.675Z"
   },
   {
    "duration": 15,
    "start_time": "2022-05-15T13:00:16.333Z"
   },
   {
    "duration": 153,
    "start_time": "2022-05-15T18:23:43.016Z"
   },
   {
    "duration": 2167,
    "start_time": "2022-05-15T18:58:15.422Z"
   },
   {
    "duration": 920,
    "start_time": "2022-05-15T18:58:17.592Z"
   },
   {
    "duration": 17,
    "start_time": "2022-05-15T18:58:18.514Z"
   },
   {
    "duration": 35,
    "start_time": "2022-05-15T18:58:18.533Z"
   },
   {
    "duration": 208,
    "start_time": "2022-05-15T18:58:18.572Z"
   },
   {
    "duration": 202,
    "start_time": "2022-05-15T18:58:18.782Z"
   },
   {
    "duration": 113,
    "start_time": "2022-05-15T18:58:18.986Z"
   },
   {
    "duration": 2,
    "start_time": "2022-05-15T18:58:19.101Z"
   },
   {
    "duration": 379,
    "start_time": "2022-05-15T18:58:19.105Z"
   },
   {
    "duration": 36,
    "start_time": "2022-05-15T18:58:19.485Z"
   },
   {
    "duration": 118,
    "start_time": "2022-05-15T18:58:19.522Z"
   },
   {
    "duration": 370,
    "start_time": "2022-05-15T18:58:19.642Z"
   },
   {
    "duration": 59,
    "start_time": "2022-05-15T18:58:20.014Z"
   },
   {
    "duration": 409,
    "start_time": "2022-05-15T18:58:20.076Z"
   },
   {
    "duration": 17,
    "start_time": "2022-05-15T18:58:20.487Z"
   },
   {
    "duration": 419,
    "start_time": "2022-05-15T18:58:20.506Z"
   },
   {
    "duration": 363,
    "start_time": "2022-05-15T18:58:20.927Z"
   },
   {
    "duration": 16,
    "start_time": "2022-05-15T18:58:21.292Z"
   },
   {
    "duration": 378,
    "start_time": "2022-05-15T18:58:21.310Z"
   },
   {
    "duration": 317,
    "start_time": "2022-05-15T18:58:21.690Z"
   },
   {
    "duration": 17,
    "start_time": "2022-05-15T18:58:22.008Z"
   },
   {
    "duration": 181,
    "start_time": "2022-05-15T18:58:22.027Z"
   },
   {
    "duration": 327,
    "start_time": "2022-05-15T18:58:22.210Z"
   },
   {
    "duration": 17,
    "start_time": "2022-05-15T18:58:22.544Z"
   },
   {
    "duration": 56,
    "start_time": "2022-05-15T18:58:22.562Z"
   },
   {
    "duration": 4,
    "start_time": "2022-05-15T18:58:22.619Z"
   },
   {
    "duration": 100,
    "start_time": "2022-05-15T18:58:22.625Z"
   },
   {
    "duration": 83,
    "start_time": "2022-05-15T18:58:22.727Z"
   },
   {
    "duration": 436,
    "start_time": "2022-05-15T18:58:22.813Z"
   },
   {
    "duration": 287,
    "start_time": "2022-05-15T18:58:23.251Z"
   },
   {
    "duration": 51,
    "start_time": "2022-05-15T18:58:23.543Z"
   },
   {
    "duration": 5,
    "start_time": "2022-05-15T18:58:23.596Z"
   },
   {
    "duration": 8,
    "start_time": "2022-05-15T18:58:23.603Z"
   },
   {
    "duration": 31,
    "start_time": "2022-05-15T18:58:23.612Z"
   },
   {
    "duration": 35,
    "start_time": "2022-05-15T18:58:23.645Z"
   },
   {
    "duration": 5,
    "start_time": "2022-05-15T18:58:23.683Z"
   },
   {
    "duration": 208,
    "start_time": "2022-05-15T18:58:23.690Z"
   },
   {
    "duration": 493,
    "start_time": "2022-05-15T18:58:23.900Z"
   },
   {
    "duration": 27,
    "start_time": "2022-05-15T18:58:24.395Z"
   },
   {
    "duration": 90,
    "start_time": "2022-05-15T18:58:24.424Z"
   },
   {
    "duration": 4,
    "start_time": "2022-05-15T18:58:24.520Z"
   },
   {
    "duration": 143081,
    "start_time": "2022-05-15T18:58:24.525Z"
   },
   {
    "duration": 5423,
    "start_time": "2022-05-15T19:00:47.608Z"
   },
   {
    "duration": 4530659,
    "start_time": "2022-05-15T19:00:53.033Z"
   },
   {
    "duration": 101998,
    "start_time": "2022-05-15T20:16:23.694Z"
   },
   {
    "duration": 210473,
    "start_time": "2022-05-15T20:18:05.694Z"
   },
   {
    "duration": 19579,
    "start_time": "2022-05-15T20:21:36.169Z"
   },
   {
    "duration": 22159,
    "start_time": "2022-05-15T20:21:55.762Z"
   },
   {
    "duration": 101869,
    "start_time": "2022-05-15T20:22:17.925Z"
   },
   {
    "duration": 6048,
    "start_time": "2022-05-15T20:23:59.842Z"
   },
   {
    "duration": 9,
    "start_time": "2022-05-15T20:24:05.893Z"
   },
   {
    "duration": 10,
    "start_time": "2022-05-15T20:24:05.904Z"
   },
   {
    "duration": 18,
    "start_time": "2022-05-15T20:24:05.915Z"
   }
  ],
  "kernelspec": {
   "display_name": "Python 3 (ipykernel)",
   "language": "python",
   "name": "python3"
  },
  "language_info": {
   "codemirror_mode": {
    "name": "ipython",
    "version": 3
   },
   "file_extension": ".py",
   "mimetype": "text/x-python",
   "name": "python",
   "nbconvert_exporter": "python",
   "pygments_lexer": "ipython3",
   "version": "3.9.7"
  },
  "toc": {
   "base_numbering": 1,
   "nav_menu": {},
   "number_sections": true,
   "sideBar": true,
   "skip_h1_title": true,
   "title_cell": "Table of Contents",
   "title_sidebar": "Contents",
   "toc_cell": false,
   "toc_position": {},
   "toc_section_display": true,
   "toc_window_display": false
  }
 },
 "nbformat": 4,
 "nbformat_minor": 2
}
